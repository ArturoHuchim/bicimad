{
 "cells": [
  {
   "cell_type": "code",
   "execution_count": 16,
   "metadata": {},
   "outputs": [],
   "source": [
    "import requests\n",
    "import json\n",
    "import numpy as np\n",
    "import pandas as pd\n",
    "import csv\n",
    "import time\n",
    "from datetime import datetime"
   ]
  },
  {
   "cell_type": "code",
   "execution_count": 3,
   "metadata": {},
   "outputs": [],
   "source": [
    "movimientos_df = pd.read_csv('movimientos_general_con_frecuencias.csv', sep=\";\", header=0)\n",
    "rutas_originales = pd.read_csv('estaciones_bicimad_totales_agregado.csv', sep=\";\", header=0)"
   ]
  },
  {
   "cell_type": "markdown",
   "metadata": {},
   "source": [
    "## 5.1 Rutas por línea"
   ]
  },
  {
   "cell_type": "code",
   "execution_count": 87,
   "metadata": {},
   "outputs": [],
   "source": [
    "dict_history = {'Lineas': []} "
   ]
  },
  {
   "cell_type": "code",
   "execution_count": 88,
   "metadata": {},
   "outputs": [],
   "source": [
    "for index, row in movimientos_df.iterrows():\n",
    "    band = False\n",
    "    for d2 in dict_history['Lineas']:\n",
    "        if (d2['Linea'] == row[\"id_line\"]):\n",
    "            band2 = False\n",
    "            for d3 in d2['rutas']:\n",
    "                if d3['idunplug_station'] == row[\"idunplug_station\"] and d3[\"idplug_station\"] == row[\"idplug_station\"]:\n",
    "                    d3['num_viajes'] = d3['num_viajes'] + 1 \n",
    "                    d3['tiempo_viaje'] = d3['tiempo_viaje'] + row[\"travel_time\"]\n",
    "                    band2 = True\n",
    "            if not band2: d2['rutas'].append({\"idunplug_station\":row[\"idunplug_station\"],\"idplug_station\":row[\"idplug_station\"],\"id_header_A\":row[\"id_header_A\"],\"id_header_B\":row[\"id_header_B\"],\"num_viajes\":1,\"tiempo_viaje\":row[\"travel_time\"]})\n",
    "            band = True  \n",
    "    if not band: dict_history['Lineas'].append({\"Linea\":row[\"id_line\"],\"freq_min\":row[\"dir1_min_freq\"],\"freq_max\":row[\"dir1_max_freq\"],\"rutas\":[{\"idunplug_station\":row[\"idunplug_station\"],\"id_header_A\":row[\"id_header_A\"],\"id_header_B\":row[\"id_header_B\"],\"idplug_station\":row[\"idplug_station\"],\"num_viajes\":1,\"tiempo_viaje\":row[\"travel_time\"]}]})"
   ]
  },
  {
   "cell_type": "markdown",
   "metadata": {},
   "source": [
    "##### Líneas encontradas en los movimientos"
   ]
  },
  {
   "cell_type": "code",
   "execution_count": 90,
   "metadata": {},
   "outputs": [
    {
     "name": "stdout",
     "output_type": "stream",
     "text": [
      "Linea: 3\n",
      "Linea: 19\n",
      "Linea: 26\n",
      "Linea: 43\n",
      "Linea: 46\n",
      "Linea: 61\n",
      "Linea: 68\n",
      "Linea: 69\n",
      "Linea: 156\n",
      "Linea: 361\n",
      "Linea: 362\n",
      "Linea: 601\n",
      "Linea: 215\n"
     ]
    }
   ],
   "source": [
    "for l in dict_history['Lineas']:\n",
    "    print(\"Linea: \" + str(l[\"Linea\"]))"
   ]
  },
  {
   "cell_type": "markdown",
   "metadata": {},
   "source": [
    "##### Número de pares (rutas) de estaciones BiciMAD por línea"
   ]
  },
  {
   "cell_type": "code",
   "execution_count": 91,
   "metadata": {},
   "outputs": [
    {
     "name": "stdout",
     "output_type": "stream",
     "text": [
      "Línea: 3: 2\n",
      "Línea: 19: 5\n",
      "Línea: 26: 8\n",
      "Línea: 43: 7\n",
      "Línea: 46: 18\n",
      "Línea: 61: 19\n",
      "Línea: 68: 12\n",
      "Línea: 69: 12\n",
      "Línea: 156: 6\n",
      "Línea: 361: 67\n",
      "Línea: 362: 6\n",
      "Línea: 601: 24\n",
      "Línea: 215: 11\n"
     ]
    }
   ],
   "source": [
    "for l in dict_history['Lineas']:\n",
    "    print(\"Línea: \" + str(l[\"Linea\"]) + \": \" + str(len(l[\"rutas\"])))"
   ]
  },
  {
   "cell_type": "markdown",
   "metadata": {},
   "source": [
    "##### Análisis por rutas"
   ]
  },
  {
   "cell_type": "code",
   "execution_count": 158,
   "metadata": {
    "scrolled": false
   },
   "outputs": [],
   "source": [
    "aux = []\n",
    "estaciones_bicimad_ida = []\n",
    "estaciones_bicimad_vuelta = []\n",
    "cont = 0\n",
    "for l in dict_history['Lineas']:\n",
    "    num_viajes = 0\n",
    "    tiempo_viajes = 0\n",
    "    lineas_repetidas = []\n",
    "    for r in l[\"rutas\"]:\n",
    "        tiempo_viajes += r['tiempo_viaje']\n",
    "        num_viajes += r['num_viajes']\n",
    "        media = round(r['tiempo_viaje']/r['num_viajes']/60,2)\n",
    "        media_autobus = round((l[\"freq_min\"] + l[\"freq_max\"])/2,2)\n",
    "        cont = cont + 1\n",
    "        if ((r['idplug_station'],r['idunplug_station']) in lineas_repetidas):\n",
    "            cont = cont - 1\n",
    "            estaciones_bicimad_vuelta.append([l[\"Linea\"],r['id_header_B'],r['idplug_station'],r['id_header_A'],r['idunplug_station']])\n",
    "        else:\n",
    "            estaciones_bicimad_ida.append([l[\"Linea\"],r['id_header_A'],r['idunplug_station'],r['id_header_B'],r['idplug_station']])\n",
    "        lineas_repetidas.append((r['idunplug_station'],r['idplug_station']))\n",
    "        aux.append([l[\"Linea\"],r['id_header_A'],r['idunplug_station'],r['id_header_B'],r['idplug_station'],r['num_viajes'],media,media_autobus])\n",
    "pd.DataFrame(aux).to_csv('agrupamiento_linea.csv',sep=\";\",header=['id_line','id_header_A','idunplug_station','id_header_B','idplug_station','num_viajes','media','media_autobus'],index=False)"
   ]
  },
  {
   "cell_type": "markdown",
   "metadata": {},
   "source": [
    "##### Número de rutas totales encontradas"
   ]
  },
  {
   "cell_type": "code",
   "execution_count": 19,
   "metadata": {},
   "outputs": [],
   "source": [
    "agrupamiento_df = pd.read_csv('agrupamiento_linea.csv', sep=\";\", header=0)"
   ]
  },
  {
   "cell_type": "code",
   "execution_count": 149,
   "metadata": {},
   "outputs": [
    {
     "data": {
      "text/plain": [
       "197"
      ]
     },
     "execution_count": 149,
     "metadata": {},
     "output_type": "execute_result"
    }
   ],
   "source": [
    "agrupamiento_df.count()[0]"
   ]
  },
  {
   "cell_type": "markdown",
   "metadata": {},
   "source": [
    "##### Número de rutas de ida encontradas"
   ]
  },
  {
   "cell_type": "code",
   "execution_count": 137,
   "metadata": {},
   "outputs": [],
   "source": [
    "estaciones_ida_df = pd.DataFrame(estaciones_bicimad_ida)\n",
    "estaciones_ida_df.columns =['id_line','id_header_A','idunplug_station','id_header_B','idplug_station']"
   ]
  },
  {
   "cell_type": "code",
   "execution_count": 148,
   "metadata": {},
   "outputs": [
    {
     "data": {
      "text/plain": [
       "103"
      ]
     },
     "execution_count": 148,
     "metadata": {},
     "output_type": "execute_result"
    }
   ],
   "source": [
    "estaciones_ida_df.count()[0]"
   ]
  },
  {
   "cell_type": "markdown",
   "metadata": {},
   "source": [
    "##### Número de rutas de ida vuelta"
   ]
  },
  {
   "cell_type": "code",
   "execution_count": 139,
   "metadata": {},
   "outputs": [],
   "source": [
    "estaciones_vuelta_df = pd.DataFrame(estaciones_bicimad_vuelta)\n",
    "estaciones_vuelta_df.columns = ['id_line','id_header_B','idplug_station','id_header_A','idunplug_station']"
   ]
  },
  {
   "cell_type": "code",
   "execution_count": 146,
   "metadata": {},
   "outputs": [
    {
     "data": {
      "text/plain": [
       "94"
      ]
     },
     "execution_count": 146,
     "metadata": {},
     "output_type": "execute_result"
    }
   ],
   "source": [
    "estaciones_vuelta_df.count()[0]"
   ]
  },
  {
   "cell_type": "markdown",
   "metadata": {},
   "source": [
    "##### Estaciones originales"
   ]
  },
  {
   "cell_type": "code",
   "execution_count": 145,
   "metadata": {},
   "outputs": [
    {
     "data": {
      "text/plain": [
       "165"
      ]
     },
     "execution_count": 145,
     "metadata": {},
     "output_type": "execute_result"
    }
   ],
   "source": [
    "rutas_originales.count()[0]"
   ]
  },
  {
   "cell_type": "markdown",
   "metadata": {},
   "source": [
    "### 5.1.1 Ocupación de bicicleta respecto a un autobús."
   ]
  },
  {
   "cell_type": "code",
   "execution_count": 20,
   "metadata": {},
   "outputs": [
    {
     "data": {
      "text/plain": [
       "0    71.07\n",
       "1    28.93\n",
       "Name: bici_mejor, dtype: float64"
      ]
     },
     "execution_count": 20,
     "metadata": {},
     "output_type": "execute_result"
    }
   ],
   "source": [
    "agrupamiento_df['bici_mejor'] = np.where(agrupamiento_df['media'] <= agrupamiento_df['media_autobus'] , 1, 0)\n",
    "round((agrupamiento_df['bici_mejor'].value_counts()/agrupamiento_df['bici_mejor'].count())*100,2)"
   ]
  },
  {
   "cell_type": "markdown",
   "metadata": {},
   "source": [
    "##### Número de viajes por línea"
   ]
  },
  {
   "cell_type": "code",
   "execution_count": 243,
   "metadata": {},
   "outputs": [
    {
     "data": {
      "text/html": [
       "<div>\n",
       "<style scoped>\n",
       "    .dataframe tbody tr th:only-of-type {\n",
       "        vertical-align: middle;\n",
       "    }\n",
       "\n",
       "    .dataframe tbody tr th {\n",
       "        vertical-align: top;\n",
       "    }\n",
       "\n",
       "    .dataframe thead th {\n",
       "        text-align: right;\n",
       "    }\n",
       "</style>\n",
       "<table border=\"1\" class=\"dataframe\">\n",
       "  <thead>\n",
       "    <tr style=\"text-align: right;\">\n",
       "      <th></th>\n",
       "      <th>id_line</th>\n",
       "      <th>num_viajes</th>\n",
       "    </tr>\n",
       "  </thead>\n",
       "  <tbody>\n",
       "    <tr>\n",
       "      <th>12</th>\n",
       "      <td>601</td>\n",
       "      <td>6955</td>\n",
       "    </tr>\n",
       "    <tr>\n",
       "      <th>4</th>\n",
       "      <td>46</td>\n",
       "      <td>4197</td>\n",
       "    </tr>\n",
       "    <tr>\n",
       "      <th>10</th>\n",
       "      <td>361</td>\n",
       "      <td>4102</td>\n",
       "    </tr>\n",
       "    <tr>\n",
       "      <th>2</th>\n",
       "      <td>26</td>\n",
       "      <td>2856</td>\n",
       "    </tr>\n",
       "    <tr>\n",
       "      <th>5</th>\n",
       "      <td>61</td>\n",
       "      <td>1708</td>\n",
       "    </tr>\n",
       "    <tr>\n",
       "      <th>11</th>\n",
       "      <td>362</td>\n",
       "      <td>1658</td>\n",
       "    </tr>\n",
       "    <tr>\n",
       "      <th>7</th>\n",
       "      <td>69</td>\n",
       "      <td>1603</td>\n",
       "    </tr>\n",
       "    <tr>\n",
       "      <th>6</th>\n",
       "      <td>68</td>\n",
       "      <td>1283</td>\n",
       "    </tr>\n",
       "    <tr>\n",
       "      <th>8</th>\n",
       "      <td>156</td>\n",
       "      <td>1020</td>\n",
       "    </tr>\n",
       "    <tr>\n",
       "      <th>3</th>\n",
       "      <td>43</td>\n",
       "      <td>621</td>\n",
       "    </tr>\n",
       "    <tr>\n",
       "      <th>1</th>\n",
       "      <td>19</td>\n",
       "      <td>372</td>\n",
       "    </tr>\n",
       "    <tr>\n",
       "      <th>0</th>\n",
       "      <td>3</td>\n",
       "      <td>276</td>\n",
       "    </tr>\n",
       "    <tr>\n",
       "      <th>9</th>\n",
       "      <td>215</td>\n",
       "      <td>86</td>\n",
       "    </tr>\n",
       "  </tbody>\n",
       "</table>\n",
       "</div>"
      ],
      "text/plain": [
       "    id_line  num_viajes\n",
       "12      601        6955\n",
       "4        46        4197\n",
       "10      361        4102\n",
       "2        26        2856\n",
       "5        61        1708\n",
       "11      362        1658\n",
       "7        69        1603\n",
       "6        68        1283\n",
       "8       156        1020\n",
       "3        43         621\n",
       "1        19         372\n",
       "0         3         276\n",
       "9       215          86"
      ]
     },
     "execution_count": 243,
     "metadata": {},
     "output_type": "execute_result"
    }
   ],
   "source": [
    "num_viajes = movimientos_df.groupby('id_line').count()\n",
    "num_viajes.reset_index(inplace = True)\n",
    "num_viajes.rename(columns={'id_header_A': 'num_viajes'}, inplace=True)\n",
    "num_viajes[['id_line','num_viajes']].sort_values('num_viajes',ascending = False)"
   ]
  },
  {
   "cell_type": "markdown",
   "metadata": {},
   "source": [
    "##### Número de rutas por línea"
   ]
  },
  {
   "cell_type": "code",
   "execution_count": 244,
   "metadata": {},
   "outputs": [
    {
     "data": {
      "text/html": [
       "<div>\n",
       "<style scoped>\n",
       "    .dataframe tbody tr th:only-of-type {\n",
       "        vertical-align: middle;\n",
       "    }\n",
       "\n",
       "    .dataframe tbody tr th {\n",
       "        vertical-align: top;\n",
       "    }\n",
       "\n",
       "    .dataframe thead th {\n",
       "        text-align: right;\n",
       "    }\n",
       "</style>\n",
       "<table border=\"1\" class=\"dataframe\">\n",
       "  <thead>\n",
       "    <tr style=\"text-align: right;\">\n",
       "      <th></th>\n",
       "      <th>id_line</th>\n",
       "      <th>num_rutas</th>\n",
       "    </tr>\n",
       "  </thead>\n",
       "  <tbody>\n",
       "    <tr>\n",
       "      <th>10</th>\n",
       "      <td>361</td>\n",
       "      <td>67</td>\n",
       "    </tr>\n",
       "    <tr>\n",
       "      <th>12</th>\n",
       "      <td>601</td>\n",
       "      <td>24</td>\n",
       "    </tr>\n",
       "    <tr>\n",
       "      <th>5</th>\n",
       "      <td>61</td>\n",
       "      <td>19</td>\n",
       "    </tr>\n",
       "    <tr>\n",
       "      <th>4</th>\n",
       "      <td>46</td>\n",
       "      <td>18</td>\n",
       "    </tr>\n",
       "    <tr>\n",
       "      <th>6</th>\n",
       "      <td>68</td>\n",
       "      <td>12</td>\n",
       "    </tr>\n",
       "    <tr>\n",
       "      <th>7</th>\n",
       "      <td>69</td>\n",
       "      <td>12</td>\n",
       "    </tr>\n",
       "    <tr>\n",
       "      <th>9</th>\n",
       "      <td>215</td>\n",
       "      <td>11</td>\n",
       "    </tr>\n",
       "    <tr>\n",
       "      <th>2</th>\n",
       "      <td>26</td>\n",
       "      <td>8</td>\n",
       "    </tr>\n",
       "    <tr>\n",
       "      <th>3</th>\n",
       "      <td>43</td>\n",
       "      <td>7</td>\n",
       "    </tr>\n",
       "    <tr>\n",
       "      <th>8</th>\n",
       "      <td>156</td>\n",
       "      <td>6</td>\n",
       "    </tr>\n",
       "    <tr>\n",
       "      <th>11</th>\n",
       "      <td>362</td>\n",
       "      <td>6</td>\n",
       "    </tr>\n",
       "    <tr>\n",
       "      <th>1</th>\n",
       "      <td>19</td>\n",
       "      <td>5</td>\n",
       "    </tr>\n",
       "    <tr>\n",
       "      <th>0</th>\n",
       "      <td>3</td>\n",
       "      <td>2</td>\n",
       "    </tr>\n",
       "  </tbody>\n",
       "</table>\n",
       "</div>"
      ],
      "text/plain": [
       "    id_line  num_rutas\n",
       "10      361         67\n",
       "12      601         24\n",
       "5        61         19\n",
       "4        46         18\n",
       "6        68         12\n",
       "7        69         12\n",
       "9       215         11\n",
       "2        26          8\n",
       "3        43          7\n",
       "8       156          6\n",
       "11      362          6\n",
       "1        19          5\n",
       "0         3          2"
      ]
     },
     "execution_count": 244,
     "metadata": {},
     "output_type": "execute_result"
    }
   ],
   "source": [
    "num_rutas = agrupamiento_df.groupby('id_line').count()\n",
    "num_rutas.reset_index(inplace = True)\n",
    "num_rutas.rename(columns={'id_header_A': 'num_rutas'}, inplace=True)\n",
    "num_rutas[['id_line','num_rutas']].sort_values('num_rutas',ascending = False)"
   ]
  },
  {
   "cell_type": "markdown",
   "metadata": {},
   "source": [
    "##### Número de rutas donde es mejor la bicicleta como medio de transporte"
   ]
  },
  {
   "cell_type": "code",
   "execution_count": null,
   "metadata": {},
   "outputs": [],
   "source": [
    "infoline_df = pd.read_csv('infoline.csv', sep=\";\", header=0)"
   ]
  },
  {
   "cell_type": "code",
   "execution_count": 23,
   "metadata": {},
   "outputs": [
    {
     "data": {
      "text/html": [
       "<div>\n",
       "<style scoped>\n",
       "    .dataframe tbody tr th:only-of-type {\n",
       "        vertical-align: middle;\n",
       "    }\n",
       "\n",
       "    .dataframe tbody tr th {\n",
       "        vertical-align: top;\n",
       "    }\n",
       "\n",
       "    .dataframe thead th {\n",
       "        text-align: right;\n",
       "    }\n",
       "</style>\n",
       "<table border=\"1\" class=\"dataframe\">\n",
       "  <thead>\n",
       "    <tr style=\"text-align: right;\">\n",
       "      <th></th>\n",
       "      <th>line</th>\n",
       "      <th>conteo</th>\n",
       "      <th>longLine1</th>\n",
       "      <th>longLine2</th>\n",
       "    </tr>\n",
       "  </thead>\n",
       "  <tbody>\n",
       "    <tr>\n",
       "      <th>0</th>\n",
       "      <td>601</td>\n",
       "      <td>20</td>\n",
       "      <td>2298</td>\n",
       "      <td>2420</td>\n",
       "    </tr>\n",
       "    <tr>\n",
       "      <th>1</th>\n",
       "      <td>215</td>\n",
       "      <td>11</td>\n",
       "      <td>2471</td>\n",
       "      <td>2890</td>\n",
       "    </tr>\n",
       "    <tr>\n",
       "      <th>2</th>\n",
       "      <td>46</td>\n",
       "      <td>10</td>\n",
       "      <td>6304</td>\n",
       "      <td>6913</td>\n",
       "    </tr>\n",
       "    <tr>\n",
       "      <th>3</th>\n",
       "      <td>26</td>\n",
       "      <td>5</td>\n",
       "      <td>5651</td>\n",
       "      <td>6330</td>\n",
       "    </tr>\n",
       "    <tr>\n",
       "      <th>4</th>\n",
       "      <td>361</td>\n",
       "      <td>5</td>\n",
       "      <td>4827</td>\n",
       "      <td>4811</td>\n",
       "    </tr>\n",
       "    <tr>\n",
       "      <th>5</th>\n",
       "      <td>362</td>\n",
       "      <td>5</td>\n",
       "      <td>5276</td>\n",
       "      <td>5415</td>\n",
       "    </tr>\n",
       "    <tr>\n",
       "      <th>6</th>\n",
       "      <td>43</td>\n",
       "      <td>1</td>\n",
       "      <td>7787</td>\n",
       "      <td>7630</td>\n",
       "    </tr>\n",
       "  </tbody>\n",
       "</table>\n",
       "</div>"
      ],
      "text/plain": [
       "   line  conteo  longLine1  longLine2\n",
       "0   601      20       2298       2420\n",
       "1   215      11       2471       2890\n",
       "2    46      10       6304       6913\n",
       "3    26       5       5651       6330\n",
       "4   361       5       4827       4811\n",
       "5   362       5       5276       5415\n",
       "6    43       1       7787       7630"
      ]
     },
     "execution_count": 23,
     "metadata": {},
     "output_type": "execute_result"
    }
   ],
   "source": [
    "agp_df = agrupamiento_df[agrupamiento_df['bici_mejor'] == 1].groupby('id_line').count().sort_values('id_header_A',ascending=False)\n",
    "agp_df.reset_index(inplace = True)\n",
    "agp_df.rename(columns={'id_header_A': 'conteo','id_line': 'line'}, inplace=True)\n",
    "agp_df[['line','conteo']].merge(infoline_df[['line','longLine1','longLine2']], on='line',how='left')"
   ]
  },
  {
   "cell_type": "markdown",
   "metadata": {},
   "source": [
    "### 5.1.2 Tipos de usuario en general"
   ]
  },
  {
   "cell_type": "markdown",
   "metadata": {},
   "source": [
    "##### Porcentaje"
   ]
  },
  {
   "cell_type": "code",
   "execution_count": 4,
   "metadata": {},
   "outputs": [
    {
     "data": {
      "text/plain": [
       "user_type\n",
       "1    98.720874\n",
       "2     1.279126\n",
       "Name: user_day_code, dtype: float64"
      ]
     },
     "execution_count": 4,
     "metadata": {},
     "output_type": "execute_result"
    }
   ],
   "source": [
    "usuarios_df = movimientos_df.groupby('user_type').count()\n",
    "(usuarios_df['user_day_code']/usuarios_df['user_day_code'].sum())*100"
   ]
  },
  {
   "cell_type": "markdown",
   "metadata": {},
   "source": [
    "##### Número de casos"
   ]
  },
  {
   "cell_type": "code",
   "execution_count": 8,
   "metadata": {},
   "outputs": [
    {
     "data": {
      "text/plain": [
       "user_type\n",
       "1    26395\n",
       "2      342\n",
       "Name: user_day_code, dtype: int64"
      ]
     },
     "execution_count": 8,
     "metadata": {},
     "output_type": "execute_result"
    }
   ],
   "source": [
    "movimientos_df.groupby('user_type').count()['user_day_code']"
   ]
  },
  {
   "cell_type": "markdown",
   "metadata": {},
   "source": [
    "###### Tipos de usuario en función de las rutas por línea"
   ]
  },
  {
   "cell_type": "code",
   "execution_count": 51,
   "metadata": {},
   "outputs": [
    {
     "data": {
      "text/html": [
       "<div>\n",
       "<style scoped>\n",
       "    .dataframe tbody tr th:only-of-type {\n",
       "        vertical-align: middle;\n",
       "    }\n",
       "\n",
       "    .dataframe tbody tr th {\n",
       "        vertical-align: top;\n",
       "    }\n",
       "\n",
       "    .dataframe thead th {\n",
       "        text-align: right;\n",
       "    }\n",
       "</style>\n",
       "<table border=\"1\" class=\"dataframe\">\n",
       "  <thead>\n",
       "    <tr style=\"text-align: right;\">\n",
       "      <th>user_type</th>\n",
       "      <th>Anual</th>\n",
       "      <th>Ocasional</th>\n",
       "    </tr>\n",
       "    <tr>\n",
       "      <th>id_line</th>\n",
       "      <th></th>\n",
       "      <th></th>\n",
       "    </tr>\n",
       "  </thead>\n",
       "  <tbody>\n",
       "    <tr>\n",
       "      <th>3</th>\n",
       "      <td>NaN</td>\n",
       "      <td>100.00</td>\n",
       "    </tr>\n",
       "    <tr>\n",
       "      <th>19</th>\n",
       "      <td>2.15</td>\n",
       "      <td>97.85</td>\n",
       "    </tr>\n",
       "    <tr>\n",
       "      <th>26</th>\n",
       "      <td>0.91</td>\n",
       "      <td>99.09</td>\n",
       "    </tr>\n",
       "    <tr>\n",
       "      <th>43</th>\n",
       "      <td>1.13</td>\n",
       "      <td>98.87</td>\n",
       "    </tr>\n",
       "    <tr>\n",
       "      <th>46</th>\n",
       "      <td>1.45</td>\n",
       "      <td>98.55</td>\n",
       "    </tr>\n",
       "    <tr>\n",
       "      <th>61</th>\n",
       "      <td>0.53</td>\n",
       "      <td>99.47</td>\n",
       "    </tr>\n",
       "    <tr>\n",
       "      <th>68</th>\n",
       "      <td>0.70</td>\n",
       "      <td>99.30</td>\n",
       "    </tr>\n",
       "    <tr>\n",
       "      <th>69</th>\n",
       "      <td>0.62</td>\n",
       "      <td>99.38</td>\n",
       "    </tr>\n",
       "    <tr>\n",
       "      <th>156</th>\n",
       "      <td>1.37</td>\n",
       "      <td>98.63</td>\n",
       "    </tr>\n",
       "    <tr>\n",
       "      <th>215</th>\n",
       "      <td>NaN</td>\n",
       "      <td>100.00</td>\n",
       "    </tr>\n",
       "    <tr>\n",
       "      <th>361</th>\n",
       "      <td>2.27</td>\n",
       "      <td>97.73</td>\n",
       "    </tr>\n",
       "    <tr>\n",
       "      <th>362</th>\n",
       "      <td>0.48</td>\n",
       "      <td>99.52</td>\n",
       "    </tr>\n",
       "    <tr>\n",
       "      <th>601</th>\n",
       "      <td>1.39</td>\n",
       "      <td>98.61</td>\n",
       "    </tr>\n",
       "  </tbody>\n",
       "</table>\n",
       "</div>"
      ],
      "text/plain": [
       "user_type  Anual  Ocasional\n",
       "id_line                    \n",
       "3            NaN     100.00\n",
       "19          2.15      97.85\n",
       "26          0.91      99.09\n",
       "43          1.13      98.87\n",
       "46          1.45      98.55\n",
       "61          0.53      99.47\n",
       "68          0.70      99.30\n",
       "69          0.62      99.38\n",
       "156         1.37      98.63\n",
       "215          NaN     100.00\n",
       "361         2.27      97.73\n",
       "362         0.48      99.52\n",
       "601         1.39      98.61"
      ]
     },
     "execution_count": 51,
     "metadata": {},
     "output_type": "execute_result"
    }
   ],
   "source": [
    "mov_user_type = movimientos_df.groupby(['id_line','user_type']).count()\n",
    "sum_mov_user_type = mov_user_type.groupby(['id_line', 'user_type']).agg({'user_day_code': 'sum'})\n",
    "sum_mov_user_type = sum_mov_user_type.groupby(level=0).apply(lambda x: round(100 * x / float(x.sum()),2))\n",
    "sum_mov_user_type.reset_index(inplace = True)\n",
    "sum_mov_user_type['user_type'] = np.where(sum_mov_user_type['user_type'] != 1 , \"Anual\", \"Ocasional\")\n",
    "sum_mov_user_type.rename(columns={'user_day_code': 'porcentaje'}, inplace=True)\n",
    "sum_mov_user_type = sum_mov_user_type.pivot(index='id_line', columns='user_type', values='porcentaje')\n",
    "sum_mov_user_type"
   ]
  },
  {
   "cell_type": "markdown",
   "metadata": {},
   "source": [
    "### 5.1.3 Rango de edades de los usuarios"
   ]
  },
  {
   "cell_type": "code",
   "execution_count": 197,
   "metadata": {},
   "outputs": [
    {
     "data": {
      "text/html": [
       "<div>\n",
       "<style scoped>\n",
       "    .dataframe tbody tr th:only-of-type {\n",
       "        vertical-align: middle;\n",
       "    }\n",
       "\n",
       "    .dataframe tbody tr th {\n",
       "        vertical-align: top;\n",
       "    }\n",
       "\n",
       "    .dataframe thead th {\n",
       "        text-align: right;\n",
       "    }\n",
       "</style>\n",
       "<table border=\"1\" class=\"dataframe\">\n",
       "  <thead>\n",
       "    <tr style=\"text-align: right;\">\n",
       "      <th></th>\n",
       "      <th>rango_texto</th>\n",
       "      <th>porcentaje</th>\n",
       "    </tr>\n",
       "  </thead>\n",
       "  <tbody>\n",
       "    <tr>\n",
       "      <th>4</th>\n",
       "      <td>27 y 40 años</td>\n",
       "      <td>35.00</td>\n",
       "    </tr>\n",
       "    <tr>\n",
       "      <th>0</th>\n",
       "      <td>Sin edad</td>\n",
       "      <td>34.46</td>\n",
       "    </tr>\n",
       "    <tr>\n",
       "      <th>5</th>\n",
       "      <td>41 y 65 años</td>\n",
       "      <td>18.87</td>\n",
       "    </tr>\n",
       "    <tr>\n",
       "      <th>3</th>\n",
       "      <td>19 y 26 años</td>\n",
       "      <td>10.29</td>\n",
       "    </tr>\n",
       "    <tr>\n",
       "      <th>2</th>\n",
       "      <td>17 y 18 años</td>\n",
       "      <td>0.98</td>\n",
       "    </tr>\n",
       "    <tr>\n",
       "      <th>6</th>\n",
       "      <td>66 años o más</td>\n",
       "      <td>0.24</td>\n",
       "    </tr>\n",
       "    <tr>\n",
       "      <th>1</th>\n",
       "      <td>0 y 16 años</td>\n",
       "      <td>0.15</td>\n",
       "    </tr>\n",
       "  </tbody>\n",
       "</table>\n",
       "</div>"
      ],
      "text/plain": [
       "     rango_texto  porcentaje\n",
       "4   27 y 40 años       35.00\n",
       "0       Sin edad       34.46\n",
       "5   41 y 65 años       18.87\n",
       "3   19 y 26 años       10.29\n",
       "2   17 y 18 años        0.98\n",
       "6  66 años o más        0.24\n",
       "1    0 y 16 años        0.15"
      ]
     },
     "execution_count": 197,
     "metadata": {},
     "output_type": "execute_result"
    }
   ],
   "source": [
    "edades_df = movimientos_df.groupby('ageRange').count()\n",
    "edades_df['rango_texto'] = ['Sin edad','0 y 16 años','17 y 18 años','19 y 26 años','27 y 40 años','41 y 65 años','66 años o más']\n",
    "edades_df ['porcentaje'] = round((edades_df['user_day_code']/edades_df['user_day_code'].sum())*100,2)\n",
    "edades_df.reset_index(inplace=True)\n",
    "edades_df['id'] = edades_df.index\n",
    "edades_df[['rango_texto','porcentaje']].sort_values('porcentaje',ascending = False)[['rango_texto','porcentaje']]"
   ]
  },
  {
   "cell_type": "markdown",
   "metadata": {},
   "source": [
    "###### Rango de edades de los usuarios en función de las rutas por línea"
   ]
  },
  {
   "cell_type": "code",
   "execution_count": 52,
   "metadata": {
    "scrolled": false
   },
   "outputs": [
    {
     "data": {
      "text/html": [
       "<div>\n",
       "<style scoped>\n",
       "    .dataframe tbody tr th:only-of-type {\n",
       "        vertical-align: middle;\n",
       "    }\n",
       "\n",
       "    .dataframe tbody tr th {\n",
       "        vertical-align: top;\n",
       "    }\n",
       "\n",
       "    .dataframe thead th {\n",
       "        text-align: right;\n",
       "    }\n",
       "</style>\n",
       "<table border=\"1\" class=\"dataframe\">\n",
       "  <thead>\n",
       "    <tr style=\"text-align: right;\">\n",
       "      <th>rango_texto</th>\n",
       "      <th>0 y 16 años</th>\n",
       "      <th>17 y 18 años</th>\n",
       "      <th>19 y 26 años</th>\n",
       "      <th>27 y 40 años</th>\n",
       "      <th>41 y 65 años</th>\n",
       "      <th>66 años o más</th>\n",
       "      <th>Sin edad</th>\n",
       "    </tr>\n",
       "    <tr>\n",
       "      <th>id_line</th>\n",
       "      <th></th>\n",
       "      <th></th>\n",
       "      <th></th>\n",
       "      <th></th>\n",
       "      <th></th>\n",
       "      <th></th>\n",
       "      <th></th>\n",
       "    </tr>\n",
       "  </thead>\n",
       "  <tbody>\n",
       "    <tr>\n",
       "      <th>3</th>\n",
       "      <td>NaN</td>\n",
       "      <td>NaN</td>\n",
       "      <td>0.36</td>\n",
       "      <td>85.87</td>\n",
       "      <td>7.97</td>\n",
       "      <td>NaN</td>\n",
       "      <td>5.80</td>\n",
       "    </tr>\n",
       "    <tr>\n",
       "      <th>19</th>\n",
       "      <td>NaN</td>\n",
       "      <td>5.91</td>\n",
       "      <td>1.88</td>\n",
       "      <td>41.13</td>\n",
       "      <td>11.83</td>\n",
       "      <td>NaN</td>\n",
       "      <td>39.25</td>\n",
       "    </tr>\n",
       "    <tr>\n",
       "      <th>26</th>\n",
       "      <td>0.04</td>\n",
       "      <td>0.42</td>\n",
       "      <td>6.37</td>\n",
       "      <td>42.58</td>\n",
       "      <td>9.49</td>\n",
       "      <td>0.18</td>\n",
       "      <td>40.93</td>\n",
       "    </tr>\n",
       "    <tr>\n",
       "      <th>43</th>\n",
       "      <td>0.81</td>\n",
       "      <td>0.48</td>\n",
       "      <td>30.92</td>\n",
       "      <td>15.94</td>\n",
       "      <td>25.93</td>\n",
       "      <td>NaN</td>\n",
       "      <td>25.93</td>\n",
       "    </tr>\n",
       "    <tr>\n",
       "      <th>46</th>\n",
       "      <td>0.10</td>\n",
       "      <td>1.24</td>\n",
       "      <td>9.79</td>\n",
       "      <td>27.14</td>\n",
       "      <td>22.42</td>\n",
       "      <td>0.43</td>\n",
       "      <td>38.88</td>\n",
       "    </tr>\n",
       "    <tr>\n",
       "      <th>61</th>\n",
       "      <td>0.18</td>\n",
       "      <td>1.11</td>\n",
       "      <td>17.51</td>\n",
       "      <td>12.47</td>\n",
       "      <td>33.08</td>\n",
       "      <td>0.47</td>\n",
       "      <td>35.19</td>\n",
       "    </tr>\n",
       "    <tr>\n",
       "      <th>68</th>\n",
       "      <td>NaN</td>\n",
       "      <td>0.16</td>\n",
       "      <td>11.22</td>\n",
       "      <td>44.89</td>\n",
       "      <td>19.41</td>\n",
       "      <td>0.23</td>\n",
       "      <td>24.08</td>\n",
       "    </tr>\n",
       "    <tr>\n",
       "      <th>69</th>\n",
       "      <td>NaN</td>\n",
       "      <td>0.19</td>\n",
       "      <td>9.54</td>\n",
       "      <td>47.16</td>\n",
       "      <td>13.91</td>\n",
       "      <td>0.19</td>\n",
       "      <td>29.01</td>\n",
       "    </tr>\n",
       "    <tr>\n",
       "      <th>156</th>\n",
       "      <td>0.49</td>\n",
       "      <td>1.37</td>\n",
       "      <td>6.86</td>\n",
       "      <td>39.61</td>\n",
       "      <td>15.98</td>\n",
       "      <td>0.29</td>\n",
       "      <td>35.39</td>\n",
       "    </tr>\n",
       "    <tr>\n",
       "      <th>215</th>\n",
       "      <td>NaN</td>\n",
       "      <td>NaN</td>\n",
       "      <td>20.93</td>\n",
       "      <td>19.77</td>\n",
       "      <td>25.58</td>\n",
       "      <td>1.16</td>\n",
       "      <td>32.56</td>\n",
       "    </tr>\n",
       "    <tr>\n",
       "      <th>361</th>\n",
       "      <td>0.32</td>\n",
       "      <td>1.83</td>\n",
       "      <td>14.97</td>\n",
       "      <td>26.65</td>\n",
       "      <td>20.28</td>\n",
       "      <td>0.39</td>\n",
       "      <td>35.57</td>\n",
       "    </tr>\n",
       "    <tr>\n",
       "      <th>362</th>\n",
       "      <td>0.12</td>\n",
       "      <td>0.48</td>\n",
       "      <td>9.83</td>\n",
       "      <td>44.09</td>\n",
       "      <td>16.22</td>\n",
       "      <td>0.24</td>\n",
       "      <td>29.01</td>\n",
       "    </tr>\n",
       "    <tr>\n",
       "      <th>601</th>\n",
       "      <td>0.12</td>\n",
       "      <td>0.76</td>\n",
       "      <td>7.16</td>\n",
       "      <td>39.18</td>\n",
       "      <td>18.43</td>\n",
       "      <td>0.06</td>\n",
       "      <td>34.29</td>\n",
       "    </tr>\n",
       "  </tbody>\n",
       "</table>\n",
       "</div>"
      ],
      "text/plain": [
       "rango_texto  0 y 16 años  17 y 18 años  19 y 26 años  27 y 40 años  \\\n",
       "id_line                                                              \n",
       "3                    NaN           NaN          0.36         85.87   \n",
       "19                   NaN          5.91          1.88         41.13   \n",
       "26                  0.04          0.42          6.37         42.58   \n",
       "43                  0.81          0.48         30.92         15.94   \n",
       "46                  0.10          1.24          9.79         27.14   \n",
       "61                  0.18          1.11         17.51         12.47   \n",
       "68                   NaN          0.16         11.22         44.89   \n",
       "69                   NaN          0.19          9.54         47.16   \n",
       "156                 0.49          1.37          6.86         39.61   \n",
       "215                  NaN           NaN         20.93         19.77   \n",
       "361                 0.32          1.83         14.97         26.65   \n",
       "362                 0.12          0.48          9.83         44.09   \n",
       "601                 0.12          0.76          7.16         39.18   \n",
       "\n",
       "rango_texto  41 y 65 años  66 años o más  Sin edad  \n",
       "id_line                                             \n",
       "3                    7.97            NaN      5.80  \n",
       "19                  11.83            NaN     39.25  \n",
       "26                   9.49           0.18     40.93  \n",
       "43                  25.93            NaN     25.93  \n",
       "46                  22.42           0.43     38.88  \n",
       "61                  33.08           0.47     35.19  \n",
       "68                  19.41           0.23     24.08  \n",
       "69                  13.91           0.19     29.01  \n",
       "156                 15.98           0.29     35.39  \n",
       "215                 25.58           1.16     32.56  \n",
       "361                 20.28           0.39     35.57  \n",
       "362                 16.22           0.24     29.01  \n",
       "601                 18.43           0.06     34.29  "
      ]
     },
     "execution_count": 52,
     "metadata": {},
     "output_type": "execute_result"
    }
   ],
   "source": [
    "mov_age_range = movimientos_df.groupby(['id_line','ageRange']).count()\n",
    "sum_mov_age_range = mov_age_range.groupby(['id_line', 'ageRange']).agg({'user_day_code': 'sum'})\n",
    "age_res = sum_mov_age_range.groupby(level=0).apply(lambda x: round(100 * x / float(x.sum()),2))\n",
    "age_res.reset_index(inplace = True)\n",
    "edades_df.reset_index(inplace=True)\n",
    "age_res = age_res.merge(edades_df[['ageRange','rango_texto']], on='ageRange',how='left')\n",
    "pd.set_option('display.max_rows', None)\n",
    "age_res.rename(columns={'user_day_code': 'porcentaje'}, inplace=True)\n",
    "age_res.sort_values(['id_line','porcentaje'],ascending=False)\n",
    "age_res = age_res[['id_line','porcentaje','rango_texto']]\n",
    "age_res = age_res.pivot(index='id_line', columns='rango_texto', values='porcentaje')\n",
    "age_res"
   ]
  },
  {
   "cell_type": "markdown",
   "metadata": {},
   "source": [
    "## 5.2 Rutas por línea en función del tipo de día"
   ]
  },
  {
   "cell_type": "code",
   "execution_count": 323,
   "metadata": {},
   "outputs": [],
   "source": [
    "dict_history_dt = {'Lineas': []} "
   ]
  },
  {
   "cell_type": "code",
   "execution_count": 324,
   "metadata": {},
   "outputs": [],
   "source": [
    "for index, row in movimientos_df.iterrows():\n",
    "    band = False\n",
    "    for d2 in dict_history_dt['Lineas']:\n",
    "        if (d2['Linea'] == row[\"id_line\"]):\n",
    "            band2 = False\n",
    "            for d3 in d2['day_types']:\n",
    "                if d3['day_type'] == row[\"day_type\"]:\n",
    "                    d3['num_viajes'] = d3['num_viajes'] + 1 \n",
    "                    d3['tiempo_viaje'] = d3['tiempo_viaje'] + row[\"travel_time\"]\n",
    "                    band2 = True\n",
    "            if not band2:\n",
    "                d2['day_types'].append({\"day_type\":row[\"day_type\"],\"id_header_A\":row[\"id_header_A\"],\"id_header_B\":row[\"id_header_B\"],\"num_viajes\":1,\"tiempo_viaje\":row[\"travel_time\"]})\n",
    "            band = True  \n",
    "    if not band:\n",
    "        dict_history_dt['Lineas'].append({\"Linea\":row[\"id_line\"],\"day_types\":[{\"day_type\":row[\"day_type\"],\"id_header_A\":row[\"id_header_A\"],\"id_header_B\":row[\"id_header_B\"],\"num_viajes\":1,\"tiempo_viaje\":row[\"travel_time\"]}]})"
   ]
  },
  {
   "cell_type": "markdown",
   "metadata": {},
   "source": [
    "#### Análisis de rutas"
   ]
  },
  {
   "cell_type": "code",
   "execution_count": 334,
   "metadata": {
    "scrolled": true
   },
   "outputs": [],
   "source": [
    "aux = []\n",
    "for l in dict_history_dt['Lineas']:\n",
    "    num_viajes = 0\n",
    "    tiempo_viajes = 0\n",
    "    for r in l[\"day_types\"]:\n",
    "        num_viajes += r['tiempo_viaje']\n",
    "        tiempo_viajes += r['num_viajes']\n",
    "        aux.append([l[\"Linea\"],r['day_type'] ,r['num_viajes'],round(r['tiempo_viaje']/r['num_viajes']/60,2)])\n",
    "pd.DataFrame(aux).to_csv('agrupamiento_linea_tipo_dia.csv',sep=\";\",header=['id_line','day_type','num_viajes','media'],index=False)"
   ]
  },
  {
   "cell_type": "code",
   "execution_count": 151,
   "metadata": {},
   "outputs": [],
   "source": [
    "agrupamiento_tipo_dia_df = pd.read_csv('agrupamiento_linea_tipo_dia.csv', sep=\";\", header=0)"
   ]
  },
  {
   "cell_type": "markdown",
   "metadata": {},
   "source": [
    "##### Número de viajes por tipo de día"
   ]
  },
  {
   "cell_type": "code",
   "execution_count": 77,
   "metadata": {},
   "outputs": [
    {
     "data": {
      "text/plain": [
       "day_type\n",
       "FE    14.23\n",
       "LA    73.79\n",
       "SA    11.98\n",
       "Name: num_viajes, dtype: float64"
      ]
     },
     "execution_count": 77,
     "metadata": {},
     "output_type": "execute_result"
    }
   ],
   "source": [
    "tipo_dia_df = agrupamiento_tipo_dia_df.groupby('day_type').sum()\n",
    "round((tipo_dia_df['num_viajes']/tipo_dia_df['num_viajes'].sum())*100,2)"
   ]
  },
  {
   "cell_type": "markdown",
   "metadata": {},
   "source": [
    "### 5.2.1. Viajes en función de la línea"
   ]
  },
  {
   "cell_type": "code",
   "execution_count": 180,
   "metadata": {},
   "outputs": [
    {
     "data": {
      "text/html": [
       "<div>\n",
       "<style scoped>\n",
       "    .dataframe tbody tr th:only-of-type {\n",
       "        vertical-align: middle;\n",
       "    }\n",
       "\n",
       "    .dataframe tbody tr th {\n",
       "        vertical-align: top;\n",
       "    }\n",
       "\n",
       "    .dataframe thead th {\n",
       "        text-align: right;\n",
       "    }\n",
       "</style>\n",
       "<table border=\"1\" class=\"dataframe\">\n",
       "  <thead>\n",
       "    <tr style=\"text-align: right;\">\n",
       "      <th>day_type</th>\n",
       "      <th>FE</th>\n",
       "      <th>LA</th>\n",
       "      <th>SA</th>\n",
       "    </tr>\n",
       "    <tr>\n",
       "      <th>id_line</th>\n",
       "      <th></th>\n",
       "      <th></th>\n",
       "      <th></th>\n",
       "    </tr>\n",
       "  </thead>\n",
       "  <tbody>\n",
       "    <tr>\n",
       "      <th>3</th>\n",
       "      <td>3.26</td>\n",
       "      <td>94.93</td>\n",
       "      <td>1.81</td>\n",
       "    </tr>\n",
       "    <tr>\n",
       "      <th>19</th>\n",
       "      <td>13.17</td>\n",
       "      <td>66.13</td>\n",
       "      <td>20.70</td>\n",
       "    </tr>\n",
       "    <tr>\n",
       "      <th>26</th>\n",
       "      <td>16.81</td>\n",
       "      <td>71.60</td>\n",
       "      <td>11.59</td>\n",
       "    </tr>\n",
       "    <tr>\n",
       "      <th>43</th>\n",
       "      <td>17.87</td>\n",
       "      <td>62.96</td>\n",
       "      <td>19.16</td>\n",
       "    </tr>\n",
       "    <tr>\n",
       "      <th>46</th>\n",
       "      <td>12.91</td>\n",
       "      <td>76.48</td>\n",
       "      <td>10.60</td>\n",
       "    </tr>\n",
       "    <tr>\n",
       "      <th>61</th>\n",
       "      <td>7.14</td>\n",
       "      <td>85.60</td>\n",
       "      <td>7.26</td>\n",
       "    </tr>\n",
       "    <tr>\n",
       "      <th>68</th>\n",
       "      <td>17.61</td>\n",
       "      <td>67.97</td>\n",
       "      <td>14.42</td>\n",
       "    </tr>\n",
       "    <tr>\n",
       "      <th>69</th>\n",
       "      <td>16.97</td>\n",
       "      <td>68.25</td>\n",
       "      <td>14.78</td>\n",
       "    </tr>\n",
       "    <tr>\n",
       "      <th>156</th>\n",
       "      <td>19.61</td>\n",
       "      <td>66.86</td>\n",
       "      <td>13.53</td>\n",
       "    </tr>\n",
       "    <tr>\n",
       "      <th>215</th>\n",
       "      <td>13.95</td>\n",
       "      <td>74.42</td>\n",
       "      <td>11.63</td>\n",
       "    </tr>\n",
       "    <tr>\n",
       "      <th>361</th>\n",
       "      <td>14.24</td>\n",
       "      <td>73.53</td>\n",
       "      <td>12.24</td>\n",
       "    </tr>\n",
       "    <tr>\n",
       "      <th>362</th>\n",
       "      <td>13.27</td>\n",
       "      <td>76.24</td>\n",
       "      <td>10.49</td>\n",
       "    </tr>\n",
       "    <tr>\n",
       "      <th>601</th>\n",
       "      <td>14.06</td>\n",
       "      <td>73.62</td>\n",
       "      <td>12.32</td>\n",
       "    </tr>\n",
       "  </tbody>\n",
       "</table>\n",
       "</div>"
      ],
      "text/plain": [
       "day_type     FE     LA     SA\n",
       "id_line                      \n",
       "3          3.26  94.93   1.81\n",
       "19        13.17  66.13  20.70\n",
       "26        16.81  71.60  11.59\n",
       "43        17.87  62.96  19.16\n",
       "46        12.91  76.48  10.60\n",
       "61         7.14  85.60   7.26\n",
       "68        17.61  67.97  14.42\n",
       "69        16.97  68.25  14.78\n",
       "156       19.61  66.86  13.53\n",
       "215       13.95  74.42  11.63\n",
       "361       14.24  73.53  12.24\n",
       "362       13.27  76.24  10.49\n",
       "601       14.06  73.62  12.32"
      ]
     },
     "execution_count": 180,
     "metadata": {},
     "output_type": "execute_result"
    }
   ],
   "source": [
    "tipo_dia_linea = movimientos_df.groupby(['id_line','day_type']).count()\n",
    "sum_mov_tipo_dia = tipo_dia_linea.groupby(['id_line', 'day_type']).agg({'user_day_code': 'sum'})\n",
    "tipo_dia_linea = sum_mov_tipo_dia.groupby(level=0).apply(lambda x: round(100 * x / float(x.sum()),2))\n",
    "tipo_dia_linea.rename(columns={'user_day_code': 'porcentaje'}, inplace=True)\n",
    "tipo_dia_linea.reset_index(inplace = True)\n",
    "tipo_dia_linea.pivot_table(values='porcentaje', index='id_line', columns='day_type', aggfunc='first')\n"
   ]
  },
  {
   "cell_type": "markdown",
   "metadata": {},
   "source": [
    "### 5.2.2. Tipos de usuario por tipo de día"
   ]
  },
  {
   "cell_type": "code",
   "execution_count": 207,
   "metadata": {},
   "outputs": [
    {
     "data": {
      "text/html": [
       "<div>\n",
       "<style scoped>\n",
       "    .dataframe tbody tr th:only-of-type {\n",
       "        vertical-align: middle;\n",
       "    }\n",
       "\n",
       "    .dataframe tbody tr th {\n",
       "        vertical-align: top;\n",
       "    }\n",
       "\n",
       "    .dataframe thead th {\n",
       "        text-align: right;\n",
       "    }\n",
       "</style>\n",
       "<table border=\"1\" class=\"dataframe\">\n",
       "  <thead>\n",
       "    <tr style=\"text-align: right;\">\n",
       "      <th>user_type</th>\n",
       "      <th>Anual</th>\n",
       "      <th>Ocasional</th>\n",
       "    </tr>\n",
       "    <tr>\n",
       "      <th>day_type</th>\n",
       "      <th></th>\n",
       "      <th></th>\n",
       "    </tr>\n",
       "  </thead>\n",
       "  <tbody>\n",
       "    <tr>\n",
       "      <th>FE</th>\n",
       "      <td>2.16</td>\n",
       "      <td>97.84</td>\n",
       "    </tr>\n",
       "    <tr>\n",
       "      <th>LA</th>\n",
       "      <td>0.92</td>\n",
       "      <td>99.08</td>\n",
       "    </tr>\n",
       "    <tr>\n",
       "      <th>SA</th>\n",
       "      <td>2.47</td>\n",
       "      <td>97.53</td>\n",
       "    </tr>\n",
       "  </tbody>\n",
       "</table>\n",
       "</div>"
      ],
      "text/plain": [
       "user_type  Anual  Ocasional\n",
       "day_type                   \n",
       "FE          2.16      97.84\n",
       "LA          0.92      99.08\n",
       "SA          2.47      97.53"
      ]
     },
     "execution_count": 207,
     "metadata": {},
     "output_type": "execute_result"
    }
   ],
   "source": [
    "tipo_usuario_tipo_dia = movimientos_df.groupby(['day_type','user_type']).count()\n",
    "sum_mov_user_type_tipo_dia = tipo_usuario_tipo_dia.groupby(['day_type', 'user_type']).agg({'user_day_code': 'sum'})\n",
    "sum_mov_user_type_tipo_dia= sum_mov_user_type_tipo_dia.groupby(level=0).apply(lambda x: round(100 * x / float(x.sum()),2))\n",
    "sum_mov_user_type_tipo_dia.reset_index(inplace = True)\n",
    "sum_mov_user_type_tipo_dia['user_type'] = np.where(sum_mov_user_type_tipo_dia['user_type'] != 1 , \"Anual\", \"Ocasional\")\n",
    "sum_mov_user_type_tipo_dia.rename(columns={'user_day_code': 'porcentaje'}, inplace=True)\n",
    "sum_mov_user_type_tipo_dia = sum_mov_user_type_tipo_dia.pivot(index='day_type', columns='user_type', values='porcentaje')\n",
    "sum_mov_user_type_tipo_dia"
   ]
  },
  {
   "cell_type": "markdown",
   "metadata": {},
   "source": [
    "### 5.2.3. Edad de los usuarios por tipo de día"
   ]
  },
  {
   "cell_type": "code",
   "execution_count": 205,
   "metadata": {},
   "outputs": [
    {
     "data": {
      "text/html": [
       "<div>\n",
       "<style scoped>\n",
       "    .dataframe tbody tr th:only-of-type {\n",
       "        vertical-align: middle;\n",
       "    }\n",
       "\n",
       "    .dataframe tbody tr th {\n",
       "        vertical-align: top;\n",
       "    }\n",
       "\n",
       "    .dataframe thead th {\n",
       "        text-align: right;\n",
       "    }\n",
       "</style>\n",
       "<table border=\"1\" class=\"dataframe\">\n",
       "  <thead>\n",
       "    <tr style=\"text-align: right;\">\n",
       "      <th>rango_texto</th>\n",
       "      <th>0 y 16 años</th>\n",
       "      <th>17 y 18 años</th>\n",
       "      <th>19 y 26 años</th>\n",
       "      <th>27 y 40 años</th>\n",
       "      <th>41 y 65 años</th>\n",
       "      <th>66 años o más</th>\n",
       "      <th>Sin edad</th>\n",
       "    </tr>\n",
       "    <tr>\n",
       "      <th>day_type</th>\n",
       "      <th></th>\n",
       "      <th></th>\n",
       "      <th></th>\n",
       "      <th></th>\n",
       "      <th></th>\n",
       "      <th></th>\n",
       "      <th></th>\n",
       "    </tr>\n",
       "  </thead>\n",
       "  <tbody>\n",
       "    <tr>\n",
       "      <th>FE</th>\n",
       "      <td>0.18</td>\n",
       "      <td>1.34</td>\n",
       "      <td>11.93</td>\n",
       "      <td>33.40</td>\n",
       "      <td>13.80</td>\n",
       "      <td>0.34</td>\n",
       "      <td>39.00</td>\n",
       "    </tr>\n",
       "    <tr>\n",
       "      <th>LA</th>\n",
       "      <td>0.14</td>\n",
       "      <td>0.79</td>\n",
       "      <td>9.71</td>\n",
       "      <td>35.55</td>\n",
       "      <td>20.37</td>\n",
       "      <td>0.23</td>\n",
       "      <td>33.21</td>\n",
       "    </tr>\n",
       "    <tr>\n",
       "      <th>SA</th>\n",
       "      <td>0.19</td>\n",
       "      <td>1.78</td>\n",
       "      <td>11.95</td>\n",
       "      <td>33.55</td>\n",
       "      <td>15.61</td>\n",
       "      <td>0.19</td>\n",
       "      <td>36.74</td>\n",
       "    </tr>\n",
       "  </tbody>\n",
       "</table>\n",
       "</div>"
      ],
      "text/plain": [
       "rango_texto  0 y 16 años  17 y 18 años  19 y 26 años  27 y 40 años  \\\n",
       "day_type                                                             \n",
       "FE                  0.18          1.34         11.93         33.40   \n",
       "LA                  0.14          0.79          9.71         35.55   \n",
       "SA                  0.19          1.78         11.95         33.55   \n",
       "\n",
       "rango_texto  41 y 65 años  66 años o más  Sin edad  \n",
       "day_type                                            \n",
       "FE                  13.80           0.34     39.00  \n",
       "LA                  20.37           0.23     33.21  \n",
       "SA                  15.61           0.19     36.74  "
      ]
     },
     "execution_count": 205,
     "metadata": {},
     "output_type": "execute_result"
    }
   ],
   "source": [
    "tipo_usuario_tipo_dia = movimientos_df.groupby(['day_type','ageRange']).count()\n",
    "sum_mov_user_type_tipo_dia = tipo_usuario_tipo_dia.groupby(['day_type', 'ageRange']).agg({'user_day_code': 'sum'})\n",
    "age_tipo_res = sum_mov_user_type_tipo_dia.groupby(level=0).apply(lambda x: round(100 * x / float(x.sum()),2))\n",
    "age_tipo_res.reset_index(inplace=True)\n",
    "age_tipo_res.rename(columns={'user_day_code': 'porcentaje','ageRange': 'id'}, inplace=True)\n",
    "age_tipo_res.sort_values(['day_type','porcentaje'],ascending=False)\n",
    "age_tipo_res = pd.merge(age_tipo_res, edades_df[['id','rango_texto']], on='id')\n",
    "age_tipo_res = age_tipo_res.pivot(index='day_type', columns='rango_texto', values='porcentaje')\n",
    "age_tipo_res"
   ]
  }
 ],
 "metadata": {
  "kernelspec": {
   "display_name": "Python 3",
   "language": "python",
   "name": "python3"
  },
  "language_info": {
   "codemirror_mode": {
    "name": "ipython",
    "version": 3
   },
   "file_extension": ".py",
   "mimetype": "text/x-python",
   "name": "python",
   "nbconvert_exporter": "python",
   "pygments_lexer": "ipython3",
   "version": "3.7.4"
  }
 },
 "nbformat": 4,
 "nbformat_minor": 4
}
