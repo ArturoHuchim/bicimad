{
 "cells": [
  {
   "cell_type": "code",
   "execution_count": 1,
   "metadata": {},
   "outputs": [],
   "source": [
    "import requests\n",
    "import json\n",
    "import numpy as np\n",
    "import pandas as pd\n",
    "import csv\n",
    "import time\n",
    "from datetime import datetime"
   ]
  },
  {
   "cell_type": "markdown",
   "metadata": {},
   "source": [
    "## visualizacion.csv"
   ]
  },
  {
   "cell_type": "code",
   "execution_count": 3,
   "metadata": {},
   "outputs": [],
   "source": [
    "visualizacion_df = pd.read_csv('agrupamiento_linea.csv', sep=\";\", header=0)\n",
    "bicis_df = pd.read_csv('bicimad_stations.csv', sep=\";\", header=0)\n",
    "lineas_df = pd.read_csv('line_headers_info.csv', sep=\";\", header=0)"
   ]
  },
  {
   "cell_type": "code",
   "execution_count": 4,
   "metadata": {},
   "outputs": [],
   "source": [
    "bicis_df.rename(columns={'id': 'idunplug_station','name': 'name_origen'}, inplace=True)\n",
    "visualizacion_df =  visualizacion_df.merge(bicis_df[['idunplug_station','name_origen','longitude','latitude']], on='idunplug_station',how='left')\n",
    "visualizacion_df.rename(columns={'longitude': 'longitud_origen','latitude': 'latitud_origen'}, inplace=True)\n",
    "bicis_df.rename(columns={'idunplug_station': 'idplug_station','name_origen': 'name_destino'}, inplace=True)\n",
    "visualizacion_df =  visualizacion_df.merge(bicis_df[['idplug_station','name_destino','longitude','latitude']], on='idplug_station',how='left')\n",
    "visualizacion_df.rename(columns={'longitude': 'longitud_destino','latitude': 'latitud_destino'}, inplace=True)\n",
    "\n",
    "lineas_df.rename(columns={'id_header': 'id_header_A','name_header': 'name_origen_linea'}, inplace=True)\n",
    "visualizacion_df =  visualizacion_df.merge(lineas_df[['id_header_A','name_origen_linea','latitude','longitude']], on='id_header_A',how='left')\n",
    "visualizacion_df.rename(columns={'longitude': 'longitud_origen_linea','latitude': 'latitud_origen_linea'}, inplace=True)\n",
    "\n",
    "lineas_df.rename(columns={'id_header_A': 'id_header_B','name_origen_linea': 'name_destino_linea'}, inplace=True)\n",
    "visualizacion_df =  visualizacion_df.merge(lineas_df[['id_header_B','name_destino_linea','latitude','longitude']], on='id_header_B',how='left')\n",
    "visualizacion_df.rename(columns={'longitude': 'longitud_destino_linea','latitude': 'latitud_destino_linea'}, inplace=True)\n",
    "visualizacion_df.drop_duplicates(subset=['id_header_A','idunplug_station','id_header_B','idplug_station','num_viajes'],inplace=True)"
   ]
  },
  {
   "cell_type": "code",
   "execution_count": 6,
   "metadata": {},
   "outputs": [
    {
     "name": "stderr",
     "output_type": "stream",
     "text": [
      "C:\\Users\\Arturo\\Anaconda3\\lib\\site-packages\\ipykernel_launcher.py:7: SettingWithCopyWarning: \n",
      "A value is trying to be set on a copy of a slice from a DataFrame.\n",
      "Try using .loc[row_indexer,col_indexer] = value instead\n",
      "\n",
      "See the caveats in the documentation: https://pandas.pydata.org/pandas-docs/stable/user_guide/indexing.html#returning-a-view-versus-a-copy\n",
      "  import sys\n",
      "C:\\Users\\Arturo\\Anaconda3\\lib\\site-packages\\ipykernel_launcher.py:8: SettingWithCopyWarning: \n",
      "A value is trying to be set on a copy of a slice from a DataFrame.\n",
      "Try using .loc[row_indexer,col_indexer] = value instead\n",
      "\n",
      "See the caveats in the documentation: https://pandas.pydata.org/pandas-docs/stable/user_guide/indexing.html#returning-a-view-versus-a-copy\n",
      "  \n"
     ]
    }
   ],
   "source": [
    "visualizacion_df = visualizacion_df.reset_index()\n",
    "visualizacion_df['identificador'] = visualizacion_df.index \n",
    "origen = visualizacion_df[[ 'id_line','idunplug_station','num_viajes','media','media_autobus','latitud_origen','longitud_origen','name_origen','identificador']]\n",
    "destino = visualizacion_df[['id_line','idplug_station',  'num_viajes','media','media_autobus','latitud_destino','longitud_destino','name_destino','identificador']]\n",
    "origen.columns = ['id_line','id_station','num_viajes','media','media_autobus','latitud', 'longitud','name_station_bici','identificador']\n",
    "destino.columns = ['id_line','id_station','num_viajes','media','media_autobus','latitud', 'longitud','name_station_bici','identificador']\n",
    "origen['punto'] = \"origen\"\n",
    "destino['punto'] = \"destino\""
   ]
  },
  {
   "cell_type": "code",
   "execution_count": 7,
   "metadata": {},
   "outputs": [],
   "source": [
    "aux = [origen,destino]\n",
    "\n",
    "aux_df = pd.concat(aux)\n",
    "aux_df.to_csv('visualizacion_copia.csv', sep=';', encoding='utf-8',index=False)"
   ]
  },
  {
   "cell_type": "markdown",
   "metadata": {},
   "source": [
    "## lineas_autobus.csv"
   ]
  },
  {
   "cell_type": "code",
   "execution_count": 9,
   "metadata": {},
   "outputs": [],
   "source": [
    "lineas = visualizacion_df[['id_line','id_header_A','name_origen_linea','latitud_origen_linea','longitud_origen_linea','id_header_B','name_destino_linea','latitud_destino_linea','longitud_destino_linea']]"
   ]
  },
  {
   "cell_type": "code",
   "execution_count": 10,
   "metadata": {},
   "outputs": [
    {
     "name": "stderr",
     "output_type": "stream",
     "text": [
      "C:\\Users\\Arturo\\Anaconda3\\lib\\site-packages\\ipykernel_launcher.py:1: SettingWithCopyWarning: \n",
      "A value is trying to be set on a copy of a slice from a DataFrame\n",
      "\n",
      "See the caveats in the documentation: https://pandas.pydata.org/pandas-docs/stable/user_guide/indexing.html#returning-a-view-versus-a-copy\n",
      "  \"\"\"Entry point for launching an IPython kernel.\n"
     ]
    }
   ],
   "source": [
    "lineas.drop_duplicates(subset=['id_header_A','id_header_B'],inplace=True)"
   ]
  },
  {
   "cell_type": "code",
   "execution_count": 11,
   "metadata": {},
   "outputs": [],
   "source": [
    "o = lineas[['id_line','id_header_A','name_origen_linea','latitud_origen_linea','longitud_origen_linea']]\n",
    "d = lineas[['id_line','id_header_B','name_destino_linea','latitud_destino_linea','longitud_destino_linea']]\n",
    "o.columns = ['id_line','id_header','name_linea','latitud','longitud']\n",
    "d.columns = ['id_line','id_header','name_linea','latitud','longitud']\n",
    "\n",
    "aux = [o,d]\n",
    "aux_df = pd.concat(aux)\n",
    "aux_df.to_csv('lineas_autobus_copia.csv', sep=';', encoding='utf-8',index=False)"
   ]
  },
  {
   "cell_type": "code",
   "execution_count": null,
   "metadata": {},
   "outputs": [],
   "source": []
  }
 ],
 "metadata": {
  "kernelspec": {
   "display_name": "Python 3",
   "language": "python",
   "name": "python3"
  },
  "language_info": {
   "codemirror_mode": {
    "name": "ipython",
    "version": 3
   },
   "file_extension": ".py",
   "mimetype": "text/x-python",
   "name": "python",
   "nbconvert_exporter": "python",
   "pygments_lexer": "ipython3",
   "version": "3.7.4"
  }
 },
 "nbformat": 4,
 "nbformat_minor": 4
}
