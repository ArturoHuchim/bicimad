{
 "cells": [
  {
   "cell_type": "code",
   "execution_count": 1,
   "metadata": {},
   "outputs": [],
   "source": [
    "import requests\n",
    "import json\n",
    "import numpy as np\n",
    "import pandas as pd\n",
    "import csv\n",
    "import time\n",
    "from math import sin, cos,asin, degrees,sqrt, atan2, radians\n",
    "from datetime import datetime\n",
    "import shapely.geometry "
   ]
  },
  {
   "cell_type": "code",
   "execution_count": 6,
   "metadata": {},
   "outputs": [],
   "source": [
    "bicis = pd.read_csv('estaciones_bicimad_totales_agregado.csv', sep=\";\", header=0)\n",
    "# bicis = pd.read_csv('estaciones_bicimad_totales.csv', sep=\";\", header=0)"
   ]
  },
  {
   "cell_type": "markdown",
   "metadata": {},
   "source": [
    "## estaciones_2.csv y estaciones_agregado_2.csv"
   ]
  },
  {
   "cell_type": "code",
   "execution_count": 4,
   "metadata": {},
   "outputs": [],
   "source": [
    "bicis = bicis.reset_index()\n",
    "bicis['identificador'] = bicis.index \n",
    "autobus_origen = bicis[['id_line','latitude_origen','longitude_origen','identificador']]\n",
    "autobus_destino = bicis[['id_line','latitude_destino','longitude_destino','identificador']]\n",
    "autobus_origen.columns = ['id_line','latitud', 'latitud','identificador']\n",
    "autobus_destino.columns = ['id_line','latitud', 'latitud','identificador']\n",
    "autobus_origen['tipo'] = \"autobus\"\n",
    "autobus_destino['tipo'] = \"autobus\"\n",
    "autobus_origen['punto'] = \"origen_autobus\"\n",
    "autobus_destino['punto'] = \"destino_autobus\""
   ]
  },
  {
   "cell_type": "code",
   "execution_count": 19,
   "metadata": {},
   "outputs": [],
   "source": [
    "bicis_estaciones = pd.read_csv('bicimad_stations.csv', sep=\";\", header=0)"
   ]
  },
  {
   "cell_type": "code",
   "execution_count": 13,
   "metadata": {},
   "outputs": [
    {
     "data": {
      "text/html": [
       "<div>\n",
       "<style scoped>\n",
       "    .dataframe tbody tr th:only-of-type {\n",
       "        vertical-align: middle;\n",
       "    }\n",
       "\n",
       "    .dataframe tbody tr th {\n",
       "        vertical-align: top;\n",
       "    }\n",
       "\n",
       "    .dataframe thead th {\n",
       "        text-align: right;\n",
       "    }\n",
       "</style>\n",
       "<table border=\"1\" class=\"dataframe\">\n",
       "  <thead>\n",
       "    <tr style=\"text-align: right;\">\n",
       "      <th></th>\n",
       "      <th>id</th>\n",
       "      <th>number</th>\n",
       "      <th>name</th>\n",
       "      <th>address</th>\n",
       "      <th>activate</th>\n",
       "      <th>no_available</th>\n",
       "      <th>total_bases</th>\n",
       "      <th>longitude</th>\n",
       "      <th>latitude</th>\n",
       "    </tr>\n",
       "  </thead>\n",
       "  <tbody>\n",
       "    <tr>\n",
       "      <th>0</th>\n",
       "      <td>1</td>\n",
       "      <td>1a</td>\n",
       "      <td>Puerta del Sol A</td>\n",
       "      <td>Puerta del Sol nº 1</td>\n",
       "      <td>1</td>\n",
       "      <td>1</td>\n",
       "      <td>30</td>\n",
       "      <td>-3.701781</td>\n",
       "      <td>40.417153</td>\n",
       "    </tr>\n",
       "  </tbody>\n",
       "</table>\n",
       "</div>"
      ],
      "text/plain": [
       "   id number              name              address  activate  no_available  \\\n",
       "0   1     1a  Puerta del Sol A  Puerta del Sol nº 1         1             1   \n",
       "\n",
       "   total_bases  longitude   latitude  \n",
       "0           30  -3.701781  40.417153  "
      ]
     },
     "execution_count": 13,
     "metadata": {},
     "output_type": "execute_result"
    }
   ],
   "source": [
    "bicis_estaciones.head(1)"
   ]
  },
  {
   "cell_type": "code",
   "execution_count": 20,
   "metadata": {},
   "outputs": [],
   "source": [
    "bicis_estaciones.columns = ['id_bicimad_origen','number','name','address','activate','no_available','total_bases','longitude','latitude']\n",
    "bicis_origen = pd.merge(bicis[['id_line','id_bicimad_origen','identificador']], bicis_estaciones, how='left', on=['id_bicimad_origen'],indicator='indicator_column')[['id_line','latitude','longitude','identificador']] \n",
    "bicis_estaciones.columns = ['id_bicimad_destino','number','name','address','activate','no_available','total_bases','longitude','latitude']\n",
    "bicis_destino = pd.merge(bicis[['id_line','id_bicimad_destino','identificador']], bicis_estaciones, how='left', on=['id_bicimad_destino'],indicator='indicator_column')[['id_line','latitude','longitude','identificador']]\n",
    "bicis_destino.columns = ['id_line','latitud', 'latitud','identificador']\n",
    "bicis_origen.columns = ['id_line','latitud', 'latitud','identificador']\n",
    "bicis_origen['tipo'] = \"bici\"\n",
    "bicis_destino['tipo'] = \"bici\"\n",
    "bicis_origen['punto'] = \"origen_bici\"\n",
    "bicis_destino['punto'] = \"destino_bici\""
   ]
  },
  {
   "cell_type": "code",
   "execution_count": 21,
   "metadata": {},
   "outputs": [],
   "source": [
    "aux = [bicis_origen,bicis_destino,autobus_origen,autobus_destino]\n",
    "aux_df = pd.concat(aux)"
   ]
  },
  {
   "cell_type": "code",
   "execution_count": 22,
   "metadata": {},
   "outputs": [],
   "source": [
    "aux_df.to_csv('estaciones_agregado_2.csv', sep=';', encoding='utf-8',index=False)"
   ]
  },
  {
   "cell_type": "markdown",
   "metadata": {},
   "source": [
    "## estaciones_bueno.csv"
   ]
  },
  {
   "cell_type": "code",
   "execution_count": 8,
   "metadata": {},
   "outputs": [],
   "source": [
    "estaciones = pd.read_csv('mc_estaciones_dentro.csv', sep=\";\", header=0)"
   ]
  },
  {
   "cell_type": "code",
   "execution_count": 15,
   "metadata": {},
   "outputs": [],
   "source": [
    "def get_lines(df):\n",
    "    iguales = df.groupby('id_line')\n",
    "    res = iguales.filter(lambda x: len(x) >= 2)\n",
    "    return res"
   ]
  },
  {
   "cell_type": "code",
   "execution_count": 18,
   "metadata": {},
   "outputs": [],
   "source": [
    "get_lines(estaciones).sort_values('id_line').to_csv('estaciones_bueno.csv', sep=';', encoding='utf-8',index=False)"
   ]
  }
 ],
 "metadata": {
  "kernelspec": {
   "display_name": "Python 3",
   "language": "python",
   "name": "python3"
  },
  "language_info": {
   "codemirror_mode": {
    "name": "ipython",
    "version": 3
   },
   "file_extension": ".py",
   "mimetype": "text/x-python",
   "name": "python",
   "nbconvert_exporter": "python",
   "pygments_lexer": "ipython3",
   "version": "3.7.4"
  }
 },
 "nbformat": 4,
 "nbformat_minor": 4
}
