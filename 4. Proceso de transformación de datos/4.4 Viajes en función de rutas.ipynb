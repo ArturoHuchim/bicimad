{
 "cells": [
  {
   "cell_type": "code",
   "execution_count": 2,
   "metadata": {},
   "outputs": [],
   "source": [
    "from math import sin, cos,asin, degrees,sqrt, atan2, radians\n",
    "import json\n",
    "import pandas as pd\n",
    "import numpy as np\n",
    "import csv\n",
    "from os import listdir\n",
    "from os.path import isfile, join\n",
    "import gc"
   ]
  },
  {
   "cell_type": "code",
   "execution_count": 25,
   "metadata": {},
   "outputs": [],
   "source": [
    "PATH = '../../../BICIMAD/viajes2017-2019'\n",
    "DISTANCIA = 300\n",
    "estaciones_bicimad_totales = pd.read_csv('estaciones_bicimad_totales.csv', sep=\";\", header=0)"
   ]
  },
  {
   "cell_type": "markdown",
   "metadata": {},
   "source": [
    "## 4.4.2 Búsqueda de itinerarios"
   ]
  },
  {
   "cell_type": "code",
   "execution_count": 36,
   "metadata": {},
   "outputs": [],
   "source": [
    "def get_movimientos(df,df_estaciones_bicis):\n",
    "    list_aux = []\n",
    "    for index, row in df_estaciones_bicis.iterrows():\n",
    "        res = df[(df['idplug_station'] == row.id_bicimad_origen) & (df['idunplug_station'] == row.id_bicimad_destino)]\n",
    "        if not res.empty:\n",
    "            for index2, row2 in res.iterrows():\n",
    "                list_aux.append([row2.user_day_code,row2.user_type,row2.travel_time,row2.idunplug_station,row2.ageRange,row2.idplug_station,row2.unplug_hourTime['$date'],row.id_line,row.id_header_origen,row.id_header_destino,'AtoB'])\n",
    "\n",
    "        res = df[(df['idplug_station'] == row.id_bicimad_destino) & (df['idunplug_station'] == row.id_bicimad_origen)]\n",
    "        if not res.empty:\n",
    "            for index2, row2 in res.iterrows():\n",
    "                list_aux.append([row2.user_day_code,row2.user_type,row2.travel_time,row2.idunplug_station,row2.ageRange,row2.idplug_station,row2.unplug_hourTime['$date'],row.id_line,row.id_header_origen,row.id_header_destino,'BtoA'])\n",
    "    return pd.DataFrame(list_aux, columns = ['user_day_code','user_type','travel_time','idunplug_station','ageRange','idplug_station','date','id_line','id_header_origen','id_header_destino','direction'])  "
   ]
  },
  {
   "cell_type": "markdown",
   "metadata": {},
   "source": [
    "## 4.4.1 Limpieza de los conjunto de datos de movimientos"
   ]
  },
  {
   "cell_type": "code",
   "execution_count": 37,
   "metadata": {},
   "outputs": [
    {
     "name": "stdout",
     "output_type": "stream",
     "text": [
      "../../../BICIMAD/viajes2017-2019\\201704_Usage_Bicimad.json\n",
      "../../../BICIMAD/viajes2017-2019\\201705_Usage_Bicimad.json\n",
      "../../../BICIMAD/viajes2017-2019\\201706_Usage_Bicimad.json\n",
      "../../../BICIMAD/viajes2017-2019\\201707_Usage_Bicimad.json\n",
      "../../../BICIMAD/viajes2017-2019\\201708_Usage_Bicimad.json\n",
      "../../../BICIMAD/viajes2017-2019\\201709_Usage_Bicimad.json\n",
      "../../../BICIMAD/viajes2017-2019\\201710_Usage_Bicimad.json\n",
      "../../../BICIMAD/viajes2017-2019\\201711_Usage_Bicimad.json\n",
      "../../../BICIMAD/viajes2017-2019\\201712_Usage_Bicimad.json\n",
      "../../../BICIMAD/viajes2017-2019\\201801_Usage_Bicimad.json\n",
      "../../../BICIMAD/viajes2017-2019\\201802_Usage_Bicimad.json\n",
      "../../../BICIMAD/viajes2017-2019\\201803_Usage_Bicimad.json\n",
      "../../../BICIMAD/viajes2017-2019\\201804_Usage_Bicimad.json\n",
      "../../../BICIMAD/viajes2017-2019\\201805_Usage_Bicimad.json\n",
      "../../../BICIMAD/viajes2017-2019\\201806_Usage_Bicimad.json\n",
      "../../../BICIMAD/viajes2017-2019\\201807_Usage_Bicimad.json\n",
      "../../../BICIMAD/viajes2017-2019\\201808_Usage_Bicimad.json\n",
      "../../../BICIMAD/viajes2017-2019\\201809_Usage_Bicimad.json\n",
      "../../../BICIMAD/viajes2017-2019\\201810_Usage_Bicimad.json\n",
      "../../../BICIMAD/viajes2017-2019\\201811_Usage_Bicimad.json\n",
      "../../../BICIMAD/viajes2017-2019\\201812_Usage_Bicimad.json\n",
      "../../../BICIMAD/viajes2017-2019\\201901_Usage_Bicimad.json\n",
      "../../../BICIMAD/viajes2017-2019\\201902_Usage_Bicimad.json\n",
      "../../../BICIMAD/viajes2017-2019\\201903_Usage_Bicimad.json\n",
      "../../../BICIMAD/viajes2017-2019\\201904_Usage_Bicimad.json\n",
      "../../../BICIMAD/viajes2017-2019\\201905_Usage_Bicimad.json\n",
      "../../../BICIMAD/viajes2017-2019\\201906_Usage_Bicimad.json\n"
     ]
    }
   ],
   "source": [
    "for f in listdir(PATH):\n",
    "    f_csv = str(DISTANCIA) + \"-\" + f\n",
    "    file_json = join(PATH, f)\n",
    "    file_csv = join(PATH, f_csv.replace('.json','.csv'))\n",
    "    if isfile(file_json) and \".json\" in file_json:\n",
    "        viajes_mes_df = pd.read_json(file_json,encoding = \"ISO-8859-1\", lines=True)\n",
    "        viajes_mes_df = viajes_mes_df.loc[viajes_mes_df['user_type'].isin(['1','2'])]\n",
    "        get_movimientos(viajes_mes_df,estaciones_bicimad_totales).to_csv(file_csv, sep=';', encoding='utf-8',index=False)\n",
    "        print(file_json)\n",
    "        del viajes_mes_df\n",
    "        viajes_mes_df = ''\n",
    "        gc.collect()     "
   ]
  },
  {
   "cell_type": "markdown",
   "metadata": {},
   "source": [
    "##### Unimos los ficheros resultantes en un solo archivo CSV"
   ]
  },
  {
   "cell_type": "code",
   "execution_count": 50,
   "metadata": {},
   "outputs": [],
   "source": [
    "aux = []\n",
    "for f in listdir(PATH):\n",
    "    file_json = join(PATH, f)\n",
    "    if isfile(file_json) and \"csv\" in file_json and \"csv\" in file_json:\n",
    "        aux.append(pd.read_csv(file_json, sep=\";\", header=0))\n",
    "pd.DataFrame(pd.concat(aux)).to_csv(PATH + '/' + 'MOVIMIENTOS-GENERAL.csv', sep=';', encoding='utf-8',index=False)"
   ]
  },
  {
   "cell_type": "markdown",
   "metadata": {},
   "source": [
    "##### Total de movimientos"
   ]
  },
  {
   "cell_type": "code",
   "execution_count": 3,
   "metadata": {},
   "outputs": [],
   "source": [
    "movimientos = pd.read_csv('movimientos_general.csv', sep=\";\", header=0)"
   ]
  },
  {
   "cell_type": "code",
   "execution_count": 4,
   "metadata": {},
   "outputs": [
    {
     "data": {
      "text/plain": [
       "20891"
      ]
     },
     "execution_count": 4,
     "metadata": {},
     "output_type": "execute_result"
    }
   ],
   "source": [
    "movimientos.count()[0]"
   ]
  },
  {
   "cell_type": "markdown",
   "metadata": {},
   "source": [
    "## 4.4.3 Análisis de los resultados"
   ]
  },
  {
   "cell_type": "markdown",
   "metadata": {},
   "source": [
    "##### Número de lineas encontradas en los movimientos"
   ]
  },
  {
   "cell_type": "code",
   "execution_count": 5,
   "metadata": {},
   "outputs": [
    {
     "data": {
      "text/plain": [
       "dict_keys([3, 19, 26, 43, 46, 61, 68, 69, 156, 215, 361, 362, 601])"
      ]
     },
     "execution_count": 5,
     "metadata": {},
     "output_type": "execute_result"
    }
   ],
   "source": [
    "movimientos.groupby('id_line').groups.keys()"
   ]
  },
  {
   "cell_type": "markdown",
   "metadata": {},
   "source": [
    "##### Número de lineas encontradas en las rutas "
   ]
  },
  {
   "cell_type": "code",
   "execution_count": 6,
   "metadata": {},
   "outputs": [],
   "source": [
    "estaciones_bicimad_totales = pd.read_csv('estaciones_bicimad_totales.csv', sep=\";\", header=0)"
   ]
  },
  {
   "cell_type": "code",
   "execution_count": 8,
   "metadata": {},
   "outputs": [
    {
     "data": {
      "text/plain": [
       "dict_keys([1, 3, 12, 19, 26, 27, 37, 43, 46, 56, 61, 68, 69, 148, 149, 152, 156, 215, 361, 362, 601])"
      ]
     },
     "execution_count": 8,
     "metadata": {},
     "output_type": "execute_result"
    }
   ],
   "source": [
    "estaciones_bicimad_totales.groupby('id_line').groups.keys()"
   ]
  },
  {
   "cell_type": "markdown",
   "metadata": {},
   "source": [
    "## 4.4.4 Estaciones de BiciMAD extra"
   ]
  },
  {
   "cell_type": "markdown",
   "metadata": {},
   "source": [
    "##### Estaciones de bicimad cerca de la Estación de Atocha"
   ]
  },
  {
   "cell_type": "code",
   "execution_count": 9,
   "metadata": {},
   "outputs": [
    {
     "data": {
      "text/plain": [
       "dict_keys([84, 85])"
      ]
     },
     "execution_count": 9,
     "metadata": {},
     "output_type": "execute_result"
    }
   ],
   "source": [
    "estaciones_bicimad_totales[estaciones_bicimad_totales['name_header_origen'].str.contains(\"Atocha\")].groupby('id_bicimad_origen').groups.keys()"
   ]
  },
  {
   "cell_type": "code",
   "execution_count": 12,
   "metadata": {},
   "outputs": [],
   "source": [
    "estaciones_bicimad_totales_agregado = pd.read_csv('estaciones_bicimad_totales_agregado.csv', sep=\";\", header=0)"
   ]
  },
  {
   "cell_type": "markdown",
   "metadata": {},
   "source": [
    "##### Número de rutas encontradas"
   ]
  },
  {
   "cell_type": "code",
   "execution_count": 13,
   "metadata": {},
   "outputs": [
    {
     "data": {
      "text/plain": [
       "165"
      ]
     },
     "execution_count": 13,
     "metadata": {},
     "output_type": "execute_result"
    }
   ],
   "source": [
    "estaciones_bicimad_totales_agregado.count()[0]"
   ]
  },
  {
   "cell_type": "code",
   "execution_count": 14,
   "metadata": {},
   "outputs": [],
   "source": [
    "movimientos_agregado = pd.read_csv('movimientos_general_agregado.csv', sep=\";\", header=0)"
   ]
  },
  {
   "cell_type": "markdown",
   "metadata": {},
   "source": [
    "##### Número de viajes efectuados"
   ]
  },
  {
   "cell_type": "code",
   "execution_count": 15,
   "metadata": {},
   "outputs": [
    {
     "data": {
      "text/plain": [
       "26737"
      ]
     },
     "execution_count": 15,
     "metadata": {},
     "output_type": "execute_result"
    }
   ],
   "source": [
    "movimientos_agregado.count()[0]"
   ]
  },
  {
   "cell_type": "markdown",
   "metadata": {},
   "source": [
    "##### Número de lineas encontradas en las rutas "
   ]
  },
  {
   "cell_type": "code",
   "execution_count": 16,
   "metadata": {
    "scrolled": true
   },
   "outputs": [
    {
     "data": {
      "text/plain": [
       "dict_keys([3, 19, 26, 43, 46, 61, 68, 69, 156, 215, 361, 362, 601])"
      ]
     },
     "execution_count": 16,
     "metadata": {},
     "output_type": "execute_result"
    }
   ],
   "source": [
    "movimientos_agregado.groupby('id_line').groups.keys()"
   ]
  }
 ],
 "metadata": {
  "kernelspec": {
   "display_name": "Python 3",
   "language": "python",
   "name": "python3"
  },
  "language_info": {
   "codemirror_mode": {
    "name": "ipython",
    "version": 3
   },
   "file_extension": ".py",
   "mimetype": "text/x-python",
   "name": "python",
   "nbconvert_exporter": "python",
   "pygments_lexer": "ipython3",
   "version": "3.7.4"
  }
 },
 "nbformat": 4,
 "nbformat_minor": 4
}
