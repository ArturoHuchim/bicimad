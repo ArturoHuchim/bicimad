{
 "cells": [
  {
   "cell_type": "code",
   "execution_count": 8,
   "metadata": {},
   "outputs": [],
   "source": [
    "from math import sin, cos,asin, degrees,sqrt, atan2, radians\n",
    "import json\n",
    "import pandas as pd\n",
    "import numpy as np\n",
    "import csv\n",
    "from shapely.geometry import Point\n",
    "from shapely.geometry.polygon import Polygon\n",
    "\n",
    "from mpl_toolkits.basemap import Basemap\n",
    "import matplotlib.pyplot as plt \n",
    "import matplotlib.patches as mpatches"
   ]
  },
  {
   "cell_type": "markdown",
   "metadata": {},
   "source": [
    "## 4.2.1 Clasificación de estaciones de autobús"
   ]
  },
  {
   "cell_type": "code",
   "execution_count": 57,
   "metadata": {},
   "outputs": [],
   "source": [
    "madrid_central_df = pd.read_csv('CoordenadasMadridCentral.txt', sep=\",\", header=0)\n",
    "estaciones_dentro_df = pd.read_csv('estaciones_dentro_bicimad.csv', sep=\";\", header=0)"
   ]
  },
  {
   "cell_type": "code",
   "execution_count": 58,
   "metadata": {},
   "outputs": [],
   "source": [
    "madrid_central_np = madrid_central_df.to_numpy()\n",
    "polygon = Polygon(madrid_central_np)"
   ]
  },
  {
   "cell_type": "code",
   "execution_count": 59,
   "metadata": {},
   "outputs": [],
   "source": [
    "def calcular_distancia(lat1, lon1, lat2, lon2):\n",
    "    R = 6373.0\n",
    "    lat1 = radians(lat1)\n",
    "    lon1 = radians(lon1)\n",
    "    lat2 = radians(lat2)\n",
    "    lon2 = radians(lon2)\n",
    "    dlon = lon2 - lon1\n",
    "    dlat = lat2 - lat1\n",
    "    a = sin(dlat/2)**2 + cos(lat1) * cos(lat2) * (sin(dlon/2))**2\n",
    "    c = 2 * atan2( sqrt(a), sqrt(1-a) )\n",
    "    return R * c * 1000"
   ]
  },
  {
   "cell_type": "code",
   "execution_count": 60,
   "metadata": {},
   "outputs": [],
   "source": [
    "def is_in_madrid_central(lat, lon,ratio):\n",
    "    point = Point(lon,lat)\n",
    "    if is_in_limit_madrid_central(lat,lon,ratio): return 2\n",
    "    else: \n",
    "        if polygon.contains(point): return 1\n",
    "        else: return 0"
   ]
  },
  {
   "cell_type": "code",
   "execution_count": 61,
   "metadata": {},
   "outputs": [],
   "source": [
    "def is_in_limit_madrid_central(lat,lon,radio):\n",
    "    for index, row in madrid_central_df.iterrows():\n",
    "        distancia = calcular_distancia(lat,lon,row.latitude,row.longitude) \n",
    "        if(distancia <= radio): return True\n",
    "    return False"
   ]
  },
  {
   "cell_type": "code",
   "execution_count": 62,
   "metadata": {},
   "outputs": [],
   "source": [
    "def discriminate_madrid_central(df):\n",
    "    aux = []\n",
    "    for index, row in df.iterrows():\n",
    "        row_aux = row.tolist()\n",
    "        row_aux.append(is_in_madrid_central(row.latitude,row.longitude,25))\n",
    "        aux.append(row_aux)\n",
    "    return aux"
   ]
  },
  {
   "cell_type": "code",
   "execution_count": 63,
   "metadata": {},
   "outputs": [],
   "source": [
    "pd.DataFrame(discriminate_madrid_central(estaciones_dentro_df), columns = [\"id_line\",\"label\",\"type_header\",\"id_header\",\"name_header\",\"latitude\",\"longitude\",\"mc\"]).to_csv('mc_estaciones_dentro.csv', sep=';', encoding='utf-8',index=False)"
   ]
  },
  {
   "cell_type": "markdown",
   "metadata": {},
   "source": [
    "Muestra de las primeras cinco estaciones"
   ]
  },
  {
   "cell_type": "code",
   "execution_count": 74,
   "metadata": {},
   "outputs": [],
   "source": [
    "estaciones_emt_mc = pd.read_csv('mc_estaciones_dentro.csv', sep=\";\", header=0)"
   ]
  },
  {
   "cell_type": "code",
   "execution_count": 75,
   "metadata": {},
   "outputs": [
    {
     "data": {
      "text/html": [
       "<div>\n",
       "<style scoped>\n",
       "    .dataframe tbody tr th:only-of-type {\n",
       "        vertical-align: middle;\n",
       "    }\n",
       "\n",
       "    .dataframe tbody tr th {\n",
       "        vertical-align: top;\n",
       "    }\n",
       "\n",
       "    .dataframe thead th {\n",
       "        text-align: right;\n",
       "    }\n",
       "</style>\n",
       "<table border=\"1\" class=\"dataframe\">\n",
       "  <thead>\n",
       "    <tr style=\"text-align: right;\">\n",
       "      <th></th>\n",
       "      <th>id_line</th>\n",
       "      <th>label</th>\n",
       "      <th>type_header</th>\n",
       "      <th>id_header</th>\n",
       "      <th>name_header</th>\n",
       "      <th>latitude</th>\n",
       "      <th>longitude</th>\n",
       "      <th>mc</th>\n",
       "    </tr>\n",
       "  </thead>\n",
       "  <tbody>\n",
       "    <tr>\n",
       "      <th>0</th>\n",
       "      <td>5</td>\n",
       "      <td>5</td>\n",
       "      <td>headerA</td>\n",
       "      <td>5907</td>\n",
       "      <td>Sol-Sevilla</td>\n",
       "      <td>40.418008</td>\n",
       "      <td>-3.698486</td>\n",
       "      <td>1</td>\n",
       "    </tr>\n",
       "    <tr>\n",
       "      <th>1</th>\n",
       "      <td>15</td>\n",
       "      <td>15</td>\n",
       "      <td>headerA</td>\n",
       "      <td>2711</td>\n",
       "      <td>Sol-Sevilla</td>\n",
       "      <td>40.417495</td>\n",
       "      <td>-3.698388</td>\n",
       "      <td>1</td>\n",
       "    </tr>\n",
       "    <tr>\n",
       "      <th>2</th>\n",
       "      <td>20</td>\n",
       "      <td>20</td>\n",
       "      <td>headerA</td>\n",
       "      <td>2711</td>\n",
       "      <td>Sol-Sevilla</td>\n",
       "      <td>40.417495</td>\n",
       "      <td>-3.698388</td>\n",
       "      <td>1</td>\n",
       "    </tr>\n",
       "    <tr>\n",
       "      <th>3</th>\n",
       "      <td>46</td>\n",
       "      <td>46</td>\n",
       "      <td>headerA</td>\n",
       "      <td>2056</td>\n",
       "      <td>Sevilla</td>\n",
       "      <td>40.418253</td>\n",
       "      <td>-3.698951</td>\n",
       "      <td>1</td>\n",
       "    </tr>\n",
       "    <tr>\n",
       "      <th>4</th>\n",
       "      <td>51</td>\n",
       "      <td>51</td>\n",
       "      <td>headerA</td>\n",
       "      <td>5682</td>\n",
       "      <td>Sol</td>\n",
       "      <td>40.417264</td>\n",
       "      <td>-3.702258</td>\n",
       "      <td>1</td>\n",
       "    </tr>\n",
       "  </tbody>\n",
       "</table>\n",
       "</div>"
      ],
      "text/plain": [
       "   id_line label type_header  id_header  name_header   latitude  longitude  mc\n",
       "0        5     5     headerA       5907  Sol-Sevilla  40.418008  -3.698486   1\n",
       "1       15    15     headerA       2711  Sol-Sevilla  40.417495  -3.698388   1\n",
       "2       20    20     headerA       2711  Sol-Sevilla  40.417495  -3.698388   1\n",
       "3       46    46     headerA       2056      Sevilla  40.418253  -3.698951   1\n",
       "4       51    51     headerA       5682          Sol  40.417264  -3.702258   1"
      ]
     },
     "execution_count": 75,
     "metadata": {},
     "output_type": "execute_result"
    }
   ],
   "source": [
    "estaciones_emt_mc.head(5)"
   ]
  },
  {
   "cell_type": "markdown",
   "metadata": {},
   "source": [
    "## 4.2.2 Clasificación de estaciones de bicicleta"
   ]
  },
  {
   "cell_type": "code",
   "execution_count": 68,
   "metadata": {},
   "outputs": [],
   "source": [
    "bicimad_df = pd.read_csv('bicimad_stations.csv', sep=\";\", header=0)"
   ]
  },
  {
   "cell_type": "code",
   "execution_count": 71,
   "metadata": {},
   "outputs": [],
   "source": [
    "pd.DataFrame(discriminate_madrid_central(bicimad_df), columns = [\"id\",\"number\",\"name\",\"address\",\"activate\",\"no_available\",\"total_bases\",\"longitude\",\"latitude\",\"mc\"]).to_csv('mc_bicimad.csv', sep=';', encoding='utf-8',index=False)"
   ]
  },
  {
   "cell_type": "markdown",
   "metadata": {},
   "source": [
    "Muestra de las primeras cinco estaciones"
   ]
  },
  {
   "cell_type": "code",
   "execution_count": 76,
   "metadata": {},
   "outputs": [],
   "source": [
    "bicimad_dentro_mc = pd.read_csv('mc_bicimad.csv', sep=\";\", header=0)"
   ]
  },
  {
   "cell_type": "code",
   "execution_count": 77,
   "metadata": {},
   "outputs": [
    {
     "data": {
      "text/html": [
       "<div>\n",
       "<style scoped>\n",
       "    .dataframe tbody tr th:only-of-type {\n",
       "        vertical-align: middle;\n",
       "    }\n",
       "\n",
       "    .dataframe tbody tr th {\n",
       "        vertical-align: top;\n",
       "    }\n",
       "\n",
       "    .dataframe thead th {\n",
       "        text-align: right;\n",
       "    }\n",
       "</style>\n",
       "<table border=\"1\" class=\"dataframe\">\n",
       "  <thead>\n",
       "    <tr style=\"text-align: right;\">\n",
       "      <th></th>\n",
       "      <th>id_line</th>\n",
       "      <th>label</th>\n",
       "      <th>type_header</th>\n",
       "      <th>id_header</th>\n",
       "      <th>name_header</th>\n",
       "      <th>latitude</th>\n",
       "      <th>longitude</th>\n",
       "      <th>mc</th>\n",
       "    </tr>\n",
       "  </thead>\n",
       "  <tbody>\n",
       "    <tr>\n",
       "      <th>0</th>\n",
       "      <td>5</td>\n",
       "      <td>5</td>\n",
       "      <td>headerA</td>\n",
       "      <td>5907</td>\n",
       "      <td>Sol-Sevilla</td>\n",
       "      <td>40.418008</td>\n",
       "      <td>-3.698486</td>\n",
       "      <td>1</td>\n",
       "    </tr>\n",
       "    <tr>\n",
       "      <th>1</th>\n",
       "      <td>15</td>\n",
       "      <td>15</td>\n",
       "      <td>headerA</td>\n",
       "      <td>2711</td>\n",
       "      <td>Sol-Sevilla</td>\n",
       "      <td>40.417495</td>\n",
       "      <td>-3.698388</td>\n",
       "      <td>1</td>\n",
       "    </tr>\n",
       "    <tr>\n",
       "      <th>2</th>\n",
       "      <td>20</td>\n",
       "      <td>20</td>\n",
       "      <td>headerA</td>\n",
       "      <td>2711</td>\n",
       "      <td>Sol-Sevilla</td>\n",
       "      <td>40.417495</td>\n",
       "      <td>-3.698388</td>\n",
       "      <td>1</td>\n",
       "    </tr>\n",
       "    <tr>\n",
       "      <th>3</th>\n",
       "      <td>46</td>\n",
       "      <td>46</td>\n",
       "      <td>headerA</td>\n",
       "      <td>2056</td>\n",
       "      <td>Sevilla</td>\n",
       "      <td>40.418253</td>\n",
       "      <td>-3.698951</td>\n",
       "      <td>1</td>\n",
       "    </tr>\n",
       "    <tr>\n",
       "      <th>4</th>\n",
       "      <td>51</td>\n",
       "      <td>51</td>\n",
       "      <td>headerA</td>\n",
       "      <td>5682</td>\n",
       "      <td>Sol</td>\n",
       "      <td>40.417264</td>\n",
       "      <td>-3.702258</td>\n",
       "      <td>1</td>\n",
       "    </tr>\n",
       "  </tbody>\n",
       "</table>\n",
       "</div>"
      ],
      "text/plain": [
       "   id_line label type_header  id_header  name_header   latitude  longitude  mc\n",
       "0        5     5     headerA       5907  Sol-Sevilla  40.418008  -3.698486   1\n",
       "1       15    15     headerA       2711  Sol-Sevilla  40.417495  -3.698388   1\n",
       "2       20    20     headerA       2711  Sol-Sevilla  40.417495  -3.698388   1\n",
       "3       46    46     headerA       2056      Sevilla  40.418253  -3.698951   1\n",
       "4       51    51     headerA       5682          Sol  40.417264  -3.702258   1"
      ]
     },
     "execution_count": 77,
     "metadata": {},
     "output_type": "execute_result"
    }
   ],
   "source": [
    "estaciones_bicimad_totales.head(5)"
   ]
  },
  {
   "cell_type": "markdown",
   "metadata": {},
   "source": [
    "## 4.2.3 Clasificación de las líneas que empiecen y terminen dentro de la zona"
   ]
  },
  {
   "cell_type": "code",
   "execution_count": 78,
   "metadata": {},
   "outputs": [],
   "source": [
    "mc_in = estaciones_emt_mc[estaciones_emt_mc.mc != 0].sort_values('id_line')\n",
    "mc_out = estaciones_emt_mc[estaciones_emt_mc.mc == 0].sort_values('id_line')"
   ]
  },
  {
   "cell_type": "code",
   "execution_count": 79,
   "metadata": {},
   "outputs": [],
   "source": [
    "def get_lines(df):\n",
    "    iguales = df.groupby('id_line')\n",
    "    res = iguales.filter(lambda x: len(x) >= 2)\n",
    "    return res"
   ]
  },
  {
   "cell_type": "code",
   "execution_count": 80,
   "metadata": {},
   "outputs": [],
   "source": [
    "def get_mc_cerrado(df):\n",
    "    return get_lines(df)"
   ]
  },
  {
   "cell_type": "code",
   "execution_count": 81,
   "metadata": {},
   "outputs": [],
   "source": [
    "mc_cabeceras_cerrado = get_mc_cerrado(mc_in)"
   ]
  },
  {
   "cell_type": "markdown",
   "metadata": {},
   "source": [
    "##### Número de lineas encontradas"
   ]
  },
  {
   "cell_type": "code",
   "execution_count": 82,
   "metadata": {},
   "outputs": [
    {
     "data": {
      "text/html": [
       "<div>\n",
       "<style scoped>\n",
       "    .dataframe tbody tr th:only-of-type {\n",
       "        vertical-align: middle;\n",
       "    }\n",
       "\n",
       "    .dataframe tbody tr th {\n",
       "        vertical-align: top;\n",
       "    }\n",
       "\n",
       "    .dataframe thead th {\n",
       "        text-align: right;\n",
       "    }\n",
       "</style>\n",
       "<table border=\"1\" class=\"dataframe\">\n",
       "  <thead>\n",
       "    <tr style=\"text-align: right;\">\n",
       "      <th></th>\n",
       "      <th>id_line</th>\n",
       "      <th>label</th>\n",
       "      <th>type_header</th>\n",
       "      <th>id_header</th>\n",
       "      <th>name_header</th>\n",
       "      <th>latitude</th>\n",
       "      <th>longitude</th>\n",
       "      <th>mc</th>\n",
       "    </tr>\n",
       "  </thead>\n",
       "  <tbody>\n",
       "    <tr>\n",
       "      <th>58</th>\n",
       "      <td>362</td>\n",
       "      <td>OO2</td>\n",
       "      <td>headerA</td>\n",
       "      <td>80</td>\n",
       "      <td>Metro Puerta de Toledo</td>\n",
       "      <td>40.407200</td>\n",
       "      <td>-3.711269</td>\n",
       "      <td>1</td>\n",
       "    </tr>\n",
       "    <tr>\n",
       "      <th>74</th>\n",
       "      <td>362</td>\n",
       "      <td>OO2</td>\n",
       "      <td>headerB</td>\n",
       "      <td>289</td>\n",
       "      <td>Arguelles</td>\n",
       "      <td>40.430514</td>\n",
       "      <td>-3.715236</td>\n",
       "      <td>2</td>\n",
       "    </tr>\n",
       "    <tr>\n",
       "      <th>66</th>\n",
       "      <td>601</td>\n",
       "      <td>M1</td>\n",
       "      <td>headerB</td>\n",
       "      <td>4057</td>\n",
       "      <td>Embajadores</td>\n",
       "      <td>40.405569</td>\n",
       "      <td>-3.702604</td>\n",
       "      <td>1</td>\n",
       "    </tr>\n",
       "    <tr>\n",
       "      <th>7</th>\n",
       "      <td>601</td>\n",
       "      <td>M1</td>\n",
       "      <td>headerA</td>\n",
       "      <td>5837</td>\n",
       "      <td>Sol-Sevilla</td>\n",
       "      <td>40.417408</td>\n",
       "      <td>-3.700132</td>\n",
       "      <td>1</td>\n",
       "    </tr>\n",
       "  </tbody>\n",
       "</table>\n",
       "</div>"
      ],
      "text/plain": [
       "    id_line label type_header  id_header             name_header   latitude  \\\n",
       "58      362   OO2     headerA         80  Metro Puerta de Toledo  40.407200   \n",
       "74      362   OO2     headerB        289               Arguelles  40.430514   \n",
       "66      601    M1     headerB       4057             Embajadores  40.405569   \n",
       "7       601    M1     headerA       5837             Sol-Sevilla  40.417408   \n",
       "\n",
       "    longitude  mc  \n",
       "58  -3.711269   1  \n",
       "74  -3.715236   2  \n",
       "66  -3.702604   1  \n",
       "7   -3.700132   1  "
      ]
     },
     "execution_count": 82,
     "metadata": {},
     "output_type": "execute_result"
    }
   ],
   "source": [
    "mc_cabeceras_cerrado"
   ]
  },
  {
   "cell_type": "markdown",
   "metadata": {},
   "source": [
    "## 4.2.4 Clasificación de las líneas que empiecen y terminen cerca de la zona"
   ]
  },
  {
   "cell_type": "code",
   "execution_count": 91,
   "metadata": {},
   "outputs": [],
   "source": [
    "def loop_distancia(latitud,longitud,radio,df):\n",
    "    res = []\n",
    "    for index, row in df.iterrows():\n",
    "        distancia = calcular_distancia(latitud,longitud,row.latitude,row.longitude) \n",
    "        if distancia <= radio:\n",
    "            res.append(row)\n",
    "    return pd.DataFrame(res) "
   ]
  },
  {
   "cell_type": "code",
   "execution_count": 87,
   "metadata": {},
   "outputs": [],
   "source": [
    "def calcular_distancia_con_coordinates(lat,lon,radio,df):\n",
    "    res = loop_distancia(lat,lon,radio,df)\n",
    "    return res"
   ]
  },
  {
   "cell_type": "code",
   "execution_count": 88,
   "metadata": {},
   "outputs": [],
   "source": [
    "def incluir_estaciones_cercanas_mc(radio,cabeceras_df):\n",
    "    estaciones_dentro_bicimad = []\n",
    "    for index, row in madrid_central_df.iterrows():\n",
    "        res = calcular_distancia_con_coordinates(row.latitude,row.longitude,radio,cabeceras_df)\n",
    "        for index, r in res.iterrows():\n",
    "            r = r.tolist()\n",
    "            if r not in estaciones_dentro_bicimad:\n",
    "                estaciones_dentro_bicimad.append(r)\n",
    "    return pd.DataFrame(estaciones_dentro_bicimad,columns=[\"id_line\",\"label\",\"type_header\",\"id_header\",\"name_header\",\"latitude\",\"longitude\",\"mc\"])"
   ]
  },
  {
   "cell_type": "code",
   "execution_count": 89,
   "metadata": {},
   "outputs": [],
   "source": [
    "def get_mc_abierto(radio,df):\n",
    "    res = incluir_estaciones_cercanas_mc(radio,df)\n",
    "    return get_lines(pd.concat([mc_in,res]).sort_values('id_line'))"
   ]
  },
  {
   "cell_type": "code",
   "execution_count": 92,
   "metadata": {},
   "outputs": [],
   "source": [
    "mc_cabeceras_abierto = get_mc_abierto(300,mc_out)"
   ]
  },
  {
   "cell_type": "markdown",
   "metadata": {},
   "source": [
    "##### Número de lineas encontradas"
   ]
  },
  {
   "cell_type": "code",
   "execution_count": 93,
   "metadata": {},
   "outputs": [
    {
     "data": {
      "text/html": [
       "<div>\n",
       "<style scoped>\n",
       "    .dataframe tbody tr th:only-of-type {\n",
       "        vertical-align: middle;\n",
       "    }\n",
       "\n",
       "    .dataframe tbody tr th {\n",
       "        vertical-align: top;\n",
       "    }\n",
       "\n",
       "    .dataframe thead th {\n",
       "        text-align: right;\n",
       "    }\n",
       "</style>\n",
       "<table border=\"1\" class=\"dataframe\">\n",
       "  <thead>\n",
       "    <tr style=\"text-align: right;\">\n",
       "      <th></th>\n",
       "      <th>id_line</th>\n",
       "      <th>label</th>\n",
       "      <th>type_header</th>\n",
       "      <th>id_header</th>\n",
       "      <th>name_header</th>\n",
       "      <th>latitude</th>\n",
       "      <th>longitude</th>\n",
       "      <th>mc</th>\n",
       "    </tr>\n",
       "  </thead>\n",
       "  <tbody>\n",
       "    <tr>\n",
       "      <th>74</th>\n",
       "      <td>362</td>\n",
       "      <td>OO2</td>\n",
       "      <td>headerB</td>\n",
       "      <td>289</td>\n",
       "      <td>Arguelles</td>\n",
       "      <td>40.430514</td>\n",
       "      <td>-3.715236</td>\n",
       "      <td>2</td>\n",
       "    </tr>\n",
       "    <tr>\n",
       "      <th>58</th>\n",
       "      <td>362</td>\n",
       "      <td>OO2</td>\n",
       "      <td>headerA</td>\n",
       "      <td>80</td>\n",
       "      <td>Metro Puerta de Toledo</td>\n",
       "      <td>40.407200</td>\n",
       "      <td>-3.711269</td>\n",
       "      <td>1</td>\n",
       "    </tr>\n",
       "    <tr>\n",
       "      <th>7</th>\n",
       "      <td>601</td>\n",
       "      <td>M1</td>\n",
       "      <td>headerA</td>\n",
       "      <td>5837</td>\n",
       "      <td>Sol-Sevilla</td>\n",
       "      <td>40.417408</td>\n",
       "      <td>-3.700132</td>\n",
       "      <td>1</td>\n",
       "    </tr>\n",
       "    <tr>\n",
       "      <th>66</th>\n",
       "      <td>601</td>\n",
       "      <td>M1</td>\n",
       "      <td>headerB</td>\n",
       "      <td>4057</td>\n",
       "      <td>Embajadores</td>\n",
       "      <td>40.405569</td>\n",
       "      <td>-3.702604</td>\n",
       "      <td>1</td>\n",
       "    </tr>\n",
       "  </tbody>\n",
       "</table>\n",
       "</div>"
      ],
      "text/plain": [
       "    id_line label type_header  id_header             name_header   latitude  \\\n",
       "74      362   OO2     headerB        289               Arguelles  40.430514   \n",
       "58      362   OO2     headerA         80  Metro Puerta de Toledo  40.407200   \n",
       "7       601    M1     headerA       5837             Sol-Sevilla  40.417408   \n",
       "66      601    M1     headerB       4057             Embajadores  40.405569   \n",
       "\n",
       "    longitude  mc  \n",
       "74  -3.715236   2  \n",
       "58  -3.711269   1  \n",
       "7   -3.700132   1  \n",
       "66  -3.702604   1  "
      ]
     },
     "execution_count": 93,
     "metadata": {},
     "output_type": "execute_result"
    }
   ],
   "source": [
    "mc_cabeceras_abierto"
   ]
  }
 ],
 "metadata": {
  "kernelspec": {
   "display_name": "Python 3",
   "language": "python",
   "name": "python3"
  },
  "language_info": {
   "codemirror_mode": {
    "name": "ipython",
    "version": 3
   },
   "file_extension": ".py",
   "mimetype": "text/x-python",
   "name": "python",
   "nbconvert_exporter": "python",
   "pygments_lexer": "ipython3",
   "version": "3.7.4"
  }
 },
 "nbformat": 4,
 "nbformat_minor": 4
}
