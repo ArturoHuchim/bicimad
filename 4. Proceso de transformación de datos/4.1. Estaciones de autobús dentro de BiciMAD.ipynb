{
 "cells": [
  {
   "cell_type": "code",
   "execution_count": 3,
   "metadata": {},
   "outputs": [],
   "source": [
    "from math import sin, cos,asin, degrees,sqrt, atan2, radians\n",
    "import json\n",
    "import pandas as pd\n",
    "import numpy as np\n",
    "import csv\n",
    "from shapely.geometry import Point\n",
    "from shapely.geometry.polygon import Polygon\n",
    "\n",
    "from mpl_toolkits.basemap import Basemap\n",
    "import matplotlib.pyplot as plt \n",
    "import matplotlib.patches as mpatches"
   ]
  },
  {
   "cell_type": "code",
   "execution_count": 4,
   "metadata": {},
   "outputs": [],
   "source": [
    "bicimad_df = pd.read_csv('bicimad_stations.csv', sep=\";\", header=0)\n",
    "emt_df =  pd.read_csv('line_headers_info.csv', sep=\";\", header=0)"
   ]
  },
  {
   "cell_type": "markdown",
   "metadata": {},
   "source": [
    "### 4.1.1 Distancia haversine"
   ]
  },
  {
   "cell_type": "code",
   "execution_count": 6,
   "metadata": {},
   "outputs": [],
   "source": [
    "def calcular_distancia(lat1, lon1, lat2, lon2):\n",
    "    R = 6373.0\n",
    "    lat1 = radians(lat1)\n",
    "    lon1 = radians(lon1)\n",
    "    lat2 = radians(lat2)\n",
    "    lon2 = radians(lon2)\n",
    "    dlon = lon2 - lon1\n",
    "    dlat = lat2 - lat1\n",
    "    a = sin(dlat/2)**2 + cos(lat1) * cos(lat2) * (sin(dlon/2))**2\n",
    "    c = 2 * atan2( sqrt(a), sqrt(1-a) )\n",
    "    return R * c * 1000"
   ]
  },
  {
   "cell_type": "markdown",
   "metadata": {},
   "source": [
    "## Procedimiento"
   ]
  },
  {
   "cell_type": "code",
   "execution_count": 7,
   "metadata": {},
   "outputs": [],
   "source": [
    "def loop_distancia(latitud,longitud,radio,df):\n",
    "    res = []\n",
    "    for index, row in df.iterrows():\n",
    "        distancia = calcular_distancia(latitud,longitud,row.latitude,row.longitude) \n",
    "        if distancia <= radio:\n",
    "            res.append(row)\n",
    "    return pd.DataFrame(res) "
   ]
  },
  {
   "cell_type": "code",
   "execution_count": 8,
   "metadata": {},
   "outputs": [],
   "source": [
    "def calcular_distancia_con_id_estacion(id_estacion,radio,dataset_busqueda):\n",
    "    res =  bicimad_df[bicimad_df.id == id_estacion]\n",
    "    if not res.empty:\n",
    "        lon = res.longitude.values[0]\n",
    "        lat = res.latitude.values[0]\n",
    "        res2 = loop_distancia(res.latitude.iloc[0],res.longitude.iloc[0],radio,dataset_busqueda)\n",
    "        titulo = res.name.iloc[0]\n",
    "        return res2"
   ]
  },
  {
   "cell_type": "code",
   "execution_count": 15,
   "metadata": {},
   "outputs": [],
   "source": [
    "def excluir_estaciones_emt(radio):\n",
    "    estaciones_dentro_bicimad = []\n",
    "    for index, row in bicimad_df.iterrows():\n",
    "        res = calcular_distancia_con_id_estacion(row.id,radio,emt_df)\n",
    "        for index, r in res.iterrows():\n",
    "            r = r.tolist()\n",
    "            if r not in estaciones_dentro_bicimad:\n",
    "                estaciones_dentro_bicimad.append(r)\n",
    "    pd.DataFrame(estaciones_dentro_bicimad, columns = [\"id_line\",\"label\",\"type_header\",\"id_header\",\"name_header\",\"latitude\",\"longitude\"]).to_csv('estaciones_dentro_bicimad.csv', sep=';', encoding='utf-8',index=False)"
   ]
  },
  {
   "cell_type": "code",
   "execution_count": 18,
   "metadata": {},
   "outputs": [],
   "source": [
    "excluir_estaciones_emt(300)"
   ]
  }
 ],
 "metadata": {
  "kernelspec": {
   "display_name": "Python 3",
   "language": "python",
   "name": "python3"
  },
  "language_info": {
   "codemirror_mode": {
    "name": "ipython",
    "version": 3
   },
   "file_extension": ".py",
   "mimetype": "text/x-python",
   "name": "python",
   "nbconvert_exporter": "python",
   "pygments_lexer": "ipython3",
   "version": "3.7.4"
  }
 },
 "nbformat": 4,
 "nbformat_minor": 4
}
