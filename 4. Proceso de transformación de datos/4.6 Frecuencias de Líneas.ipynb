{
 "cells": [
  {
   "cell_type": "code",
   "execution_count": 1,
   "metadata": {},
   "outputs": [],
   "source": [
    "import requests\n",
    "import json\n",
    "import numpy as np\n",
    "import pandas as pd\n",
    "import csv\n",
    "import time\n",
    "import time\n",
    "from datetime import datetime"
   ]
  },
  {
   "cell_type": "code",
   "execution_count": 5,
   "metadata": {},
   "outputs": [],
   "source": [
    "EMAIL = \"\"\n",
    "PASSWORD = \"\"\n",
    "URL_LOGIN = \"https://openapi.emtmadrid.es/v1/mobilitylabs/user/login/\"\n",
    "headers = {\"email\": EMAIL,\"password\":PASSWORD}"
   ]
  },
  {
   "cell_type": "code",
   "execution_count": 6,
   "metadata": {},
   "outputs": [],
   "source": [
    "response = requests.request(\"GET\", URL_LOGIN, headers = headers)"
   ]
  },
  {
   "cell_type": "code",
   "execution_count": 7,
   "metadata": {},
   "outputs": [],
   "source": [
    "response_json = json.loads(response.text)"
   ]
  },
  {
   "cell_type": "code",
   "execution_count": 8,
   "metadata": {},
   "outputs": [],
   "source": [
    "accessToken = response_json[\"data\"][0][\"accessToken\"]"
   ]
  },
  {
   "cell_type": "code",
   "execution_count": 9,
   "metadata": {},
   "outputs": [],
   "source": [
    "headers_token = {\"accessToken\": accessToken}"
   ]
  },
  {
   "cell_type": "markdown",
   "metadata": {},
   "source": [
    "## 4.6.1 TIPOS DE DÍA"
   ]
  },
  {
   "cell_type": "code",
   "execution_count": 3,
   "metadata": {},
   "outputs": [],
   "source": [
    "movimientos_df = pd.read_csv('movimientos_general.csv', sep=\";\", header=0)"
   ]
  },
  {
   "cell_type": "code",
   "execution_count": 11,
   "metadata": {},
   "outputs": [],
   "source": [
    "movimientos_df = movimientos_df[['date','id_line']]\n",
    "f = lambda x: x[\"date\"].split(\"T\",1)[0]\n",
    "movimientos_df[\"date\"] = movimientos_df.apply(f,axis=1)"
   ]
  },
  {
   "cell_type": "markdown",
   "metadata": {},
   "source": [
    "##### Fecha mínima encontrada"
   ]
  },
  {
   "cell_type": "code",
   "execution_count": 12,
   "metadata": {},
   "outputs": [
    {
     "data": {
      "text/plain": [
       "'20170401'"
      ]
     },
     "execution_count": 12,
     "metadata": {},
     "output_type": "execute_result"
    }
   ],
   "source": [
    "fecha_minima = movimientos_df['date'].min().replace(\"-\",\"\")\n",
    "fecha_minima"
   ]
  },
  {
   "cell_type": "markdown",
   "metadata": {},
   "source": [
    "##### Fecha máxima encontrada"
   ]
  },
  {
   "cell_type": "code",
   "execution_count": 13,
   "metadata": {},
   "outputs": [
    {
     "data": {
      "text/plain": [
       "'20190626'"
      ]
     },
     "execution_count": 13,
     "metadata": {},
     "output_type": "execute_result"
    }
   ],
   "source": [
    "fecha_maxima = movimientos_df['date'].max().replace(\"-\",\"\")\n",
    "fecha_maxima"
   ]
  },
  {
   "cell_type": "markdown",
   "metadata": {},
   "source": [
    "#### Obtener el calendario"
   ]
  },
  {
   "cell_type": "code",
   "execution_count": 14,
   "metadata": {},
   "outputs": [],
   "source": [
    "URL_CALENDAR = \"https://openapi.emtmadrid.es/v1/transport/busemtmad/calendar/\" + fecha_minima + \"/\" + fecha_maxima + \"/\""
   ]
  },
  {
   "cell_type": "code",
   "execution_count": 15,
   "metadata": {},
   "outputs": [],
   "source": [
    "response_calendar = requests.request(\"GET\", URL_CALENDAR, headers = headers_token)"
   ]
  },
  {
   "cell_type": "code",
   "execution_count": 16,
   "metadata": {},
   "outputs": [],
   "source": [
    "calendario = []\n",
    "parsed = (json.loads(response_calendar.text)[\"data\"])\n",
    "for data in parsed:\n",
    "    calendario.append([datetime.strptime(data[\"date\"], \"%d/%m/%Y %H:%M:%S\").strftime(\"%Y-%m-%d\"),data[\"dayType\"]])"
   ]
  },
  {
   "cell_type": "code",
   "execution_count": 17,
   "metadata": {},
   "outputs": [],
   "source": [
    "calendario = pd.DataFrame(calendario,columns =['date','day_type'])"
   ]
  },
  {
   "cell_type": "code",
   "execution_count": 18,
   "metadata": {},
   "outputs": [
    {
     "data": {
      "text/html": [
       "<div>\n",
       "<style scoped>\n",
       "    .dataframe tbody tr th:only-of-type {\n",
       "        vertical-align: middle;\n",
       "    }\n",
       "\n",
       "    .dataframe tbody tr th {\n",
       "        vertical-align: top;\n",
       "    }\n",
       "\n",
       "    .dataframe thead th {\n",
       "        text-align: right;\n",
       "    }\n",
       "</style>\n",
       "<table border=\"1\" class=\"dataframe\">\n",
       "  <thead>\n",
       "    <tr style=\"text-align: right;\">\n",
       "      <th></th>\n",
       "      <th>date</th>\n",
       "      <th>day_type</th>\n",
       "    </tr>\n",
       "  </thead>\n",
       "  <tbody>\n",
       "    <tr>\n",
       "      <th>0</th>\n",
       "      <td>2017-04-01</td>\n",
       "      <td>SA</td>\n",
       "    </tr>\n",
       "    <tr>\n",
       "      <th>1</th>\n",
       "      <td>2017-04-02</td>\n",
       "      <td>FE</td>\n",
       "    </tr>\n",
       "    <tr>\n",
       "      <th>2</th>\n",
       "      <td>2017-04-03</td>\n",
       "      <td>LA</td>\n",
       "    </tr>\n",
       "  </tbody>\n",
       "</table>\n",
       "</div>"
      ],
      "text/plain": [
       "         date day_type\n",
       "0  2017-04-01       SA\n",
       "1  2017-04-02       FE\n",
       "2  2017-04-03       LA"
      ]
     },
     "execution_count": 18,
     "metadata": {},
     "output_type": "execute_result"
    }
   ],
   "source": [
    "calendario.head(3)"
   ]
  },
  {
   "cell_type": "markdown",
   "metadata": {},
   "source": [
    "##### Número de días"
   ]
  },
  {
   "cell_type": "code",
   "execution_count": 19,
   "metadata": {},
   "outputs": [
    {
     "data": {
      "text/plain": [
       "817"
      ]
     },
     "execution_count": 19,
     "metadata": {},
     "output_type": "execute_result"
    }
   ],
   "source": [
    "calendario.shape[0]"
   ]
  },
  {
   "cell_type": "markdown",
   "metadata": {},
   "source": [
    "## 4.6.2 FRECUENCIAS"
   ]
  },
  {
   "cell_type": "code",
   "execution_count": 20,
   "metadata": {},
   "outputs": [],
   "source": [
    "movimientos_df.drop_duplicates(subset=['date', 'id_line'],inplace=True)"
   ]
  },
  {
   "cell_type": "code",
   "execution_count": 21,
   "metadata": {},
   "outputs": [],
   "source": [
    "mov_linea_fecha = pd.merge(movimientos_df, calendario, on='date',how=\"left\")"
   ]
  },
  {
   "cell_type": "markdown",
   "metadata": {},
   "source": [
    "##### Movimientos únicos entre una línea y una fecha en específico de todo el período"
   ]
  },
  {
   "cell_type": "code",
   "execution_count": 22,
   "metadata": {},
   "outputs": [
    {
     "data": {
      "text/plain": [
       "6967"
      ]
     },
     "execution_count": 22,
     "metadata": {},
     "output_type": "execute_result"
    }
   ],
   "source": [
    "mov_linea_fecha.shape[0]"
   ]
  },
  {
   "cell_type": "code",
   "execution_count": 21,
   "metadata": {},
   "outputs": [
    {
     "data": {
      "text/html": [
       "<div>\n",
       "<style scoped>\n",
       "    .dataframe tbody tr th:only-of-type {\n",
       "        vertical-align: middle;\n",
       "    }\n",
       "\n",
       "    .dataframe tbody tr th {\n",
       "        vertical-align: top;\n",
       "    }\n",
       "\n",
       "    .dataframe thead th {\n",
       "        text-align: right;\n",
       "    }\n",
       "</style>\n",
       "<table border=\"1\" class=\"dataframe\">\n",
       "  <thead>\n",
       "    <tr style=\"text-align: right;\">\n",
       "      <th></th>\n",
       "      <th>date</th>\n",
       "      <th>id_line</th>\n",
       "      <th>day_type</th>\n",
       "    </tr>\n",
       "  </thead>\n",
       "  <tbody>\n",
       "    <tr>\n",
       "      <th>3677</th>\n",
       "      <td>2018-06-17</td>\n",
       "      <td>361</td>\n",
       "      <td>FE</td>\n",
       "    </tr>\n",
       "    <tr>\n",
       "      <th>6657</th>\n",
       "      <td>2019-05-26</td>\n",
       "      <td>601</td>\n",
       "      <td>FE</td>\n",
       "    </tr>\n",
       "    <tr>\n",
       "      <th>4932</th>\n",
       "      <td>2018-11-11</td>\n",
       "      <td>46</td>\n",
       "      <td>FE</td>\n",
       "    </tr>\n",
       "    <tr>\n",
       "      <th>6445</th>\n",
       "      <td>2019-05-14</td>\n",
       "      <td>43</td>\n",
       "      <td>LA</td>\n",
       "    </tr>\n",
       "    <tr>\n",
       "      <th>3129</th>\n",
       "      <td>2018-04-08</td>\n",
       "      <td>69</td>\n",
       "      <td>FE</td>\n",
       "    </tr>\n",
       "  </tbody>\n",
       "</table>\n",
       "</div>"
      ],
      "text/plain": [
       "            date  id_line day_type\n",
       "3677  2018-06-17      361       FE\n",
       "6657  2019-05-26      601       FE\n",
       "4932  2018-11-11       46       FE\n",
       "6445  2019-05-14       43       LA\n",
       "3129  2018-04-08       69       FE"
      ]
     },
     "execution_count": 21,
     "metadata": {},
     "output_type": "execute_result"
    }
   ],
   "source": [
    "mov_linea_fecha.sample(5)"
   ]
  },
  {
   "cell_type": "markdown",
   "metadata": {},
   "source": [
    "### 4.6.2.1 Análisis de una petición"
   ]
  },
  {
   "cell_type": "code",
   "execution_count": 331,
   "metadata": {},
   "outputs": [],
   "source": [
    "line_o_label = \"3\"\n",
    "dateref = \"20170413\"\n",
    "URL_INFO_DETAIL = \"https://openapi.emtmadrid.es/v1/transport/busemtmad/lines/\" + line_o_label + \"/info/\" + dateref + \"/\""
   ]
  },
  {
   "cell_type": "code",
   "execution_count": 332,
   "metadata": {},
   "outputs": [],
   "source": [
    "response_info_detail = requests.request(\"GET\", URL_INFO_DETAIL, headers = headers_token)"
   ]
  },
  {
   "cell_type": "code",
   "execution_count": 333,
   "metadata": {},
   "outputs": [
    {
     "name": "stdout",
     "output_type": "stream",
     "text": [
      "{\n",
      "    \"line\": \"003\",\n",
      "    \"nameA\": \"PUERTA TOLEDO\",\n",
      "    \"nameB\": \"SAN AMARO\",\n",
      "    \"dateRef\": \"13/04/2017\",\n",
      "    \"label\": \"3\",\n",
      "    \"timeTable\": [\n",
      "        {\n",
      "            \"idDayType\": \"FE\",\n",
      "            \"Direction1\": {\n",
      "                \"StartTime\": \"07:30\",\n",
      "                \"StopTime\": \"23:30\",\n",
      "                \"MinimunFrequency\": \"11\",\n",
      "                \"MaximumFrequency\": \"34\",\n",
      "                \"FrequencyText\": \"De 07:30 a 23:30 -> Cada 11 - 34min./\"\n",
      "            },\n",
      "            \"Direction2\": {\n",
      "                \"StartTime\": \"07:00\",\n",
      "                \"StopTime\": \"23:00\",\n",
      "                \"MinimunFrequency\": \"11\",\n",
      "                \"MaximumFrequency\": \"34\",\n",
      "                \"FrequencyText\": \"De 07:00 a 23:00 -> Cada 11 - 34min./\"\n",
      "            }\n",
      "        },\n",
      "        {\n",
      "            \"idDayType\": \"LA\",\n",
      "            \"Direction1\": {\n",
      "                \"StartTime\": \"06:30\",\n",
      "                \"StopTime\": \"23:30\",\n",
      "                \"MinimunFrequency\": \"7\",\n",
      "                \"MaximumFrequency\": \"14\",\n",
      "                \"FrequencyText\": \"De 06:30 a 23:30 -> Cada 7 - 14min./\"\n",
      "            },\n",
      "            \"Direction2\": {\n",
      "                \"StartTime\": \"06:00\",\n",
      "                \"StopTime\": \"23:00\",\n",
      "                \"MinimunFrequency\": \"7\",\n",
      "                \"MaximumFrequency\": \"14\",\n",
      "                \"FrequencyText\": \"De 06:00 a 23:00 -> Cada 7 - 14min./\"\n",
      "            }\n",
      "        },\n",
      "        {\n",
      "            \"idDayType\": \"SA\",\n",
      "            \"Direction1\": {\n",
      "                \"StartTime\": \"06:30\",\n",
      "                \"StopTime\": \"23:30\",\n",
      "                \"MinimunFrequency\": \"10\",\n",
      "                \"MaximumFrequency\": \"23\",\n",
      "                \"FrequencyText\": \"De 06:30 a 23:30 -> Cada 10 - 23min./\"\n",
      "            },\n",
      "            \"Direction2\": {\n",
      "                \"StartTime\": \"06:00\",\n",
      "                \"StopTime\": \"23:00\",\n",
      "                \"MinimunFrequency\": \"10\",\n",
      "                \"MaximumFrequency\": \"23\",\n",
      "                \"FrequencyText\": \"De 06:00 a 23:00 -> Cada 10 - 23min./\"\n",
      "            }\n",
      "        }\n",
      "    ]\n",
      "}\n"
     ]
    }
   ],
   "source": [
    "parsed = (json.loads(response_info_detail.text)[\"data\"][0])\n",
    "print(json.dumps(parsed, indent=4))"
   ]
  },
  {
   "cell_type": "markdown",
   "metadata": {},
   "source": [
    "### 4.6.2.2 Conjunto de peticiones por mes"
   ]
  },
  {
   "cell_type": "markdown",
   "metadata": {},
   "source": [
    "Convertimos la fecha a un formato en específico que la API requiere para pasar como parámetro"
   ]
  },
  {
   "cell_type": "code",
   "execution_count": 23,
   "metadata": {},
   "outputs": [],
   "source": [
    "mov_linea_fecha['date'] = pd.to_datetime(mov_linea_fecha['date'], errors='coerce')"
   ]
  },
  {
   "cell_type": "code",
   "execution_count": 24,
   "metadata": {},
   "outputs": [],
   "source": [
    "mov_linea_fecha['date_month'] = mov_linea_fecha['date'].dt.year.astype(str) + \"-\" + mov_linea_fecha['date'].dt.month.map(\"{:02}\".format)"
   ]
  },
  {
   "cell_type": "code",
   "execution_count": 25,
   "metadata": {},
   "outputs": [
    {
     "data": {
      "text/html": [
       "<div>\n",
       "<style scoped>\n",
       "    .dataframe tbody tr th:only-of-type {\n",
       "        vertical-align: middle;\n",
       "    }\n",
       "\n",
       "    .dataframe tbody tr th {\n",
       "        vertical-align: top;\n",
       "    }\n",
       "\n",
       "    .dataframe thead th {\n",
       "        text-align: right;\n",
       "    }\n",
       "</style>\n",
       "<table border=\"1\" class=\"dataframe\">\n",
       "  <thead>\n",
       "    <tr style=\"text-align: right;\">\n",
       "      <th></th>\n",
       "      <th>date</th>\n",
       "      <th>id_line</th>\n",
       "      <th>day_type</th>\n",
       "      <th>date_month</th>\n",
       "    </tr>\n",
       "  </thead>\n",
       "  <tbody>\n",
       "    <tr>\n",
       "      <th>0</th>\n",
       "      <td>2017-04-12</td>\n",
       "      <td>3</td>\n",
       "      <td>LA</td>\n",
       "      <td>2017-04</td>\n",
       "    </tr>\n",
       "    <tr>\n",
       "      <th>1</th>\n",
       "      <td>2017-04-23</td>\n",
       "      <td>3</td>\n",
       "      <td>FE</td>\n",
       "      <td>2017-04</td>\n",
       "    </tr>\n",
       "    <tr>\n",
       "      <th>2</th>\n",
       "      <td>2017-04-08</td>\n",
       "      <td>19</td>\n",
       "      <td>SA</td>\n",
       "      <td>2017-04</td>\n",
       "    </tr>\n",
       "  </tbody>\n",
       "</table>\n",
       "</div>"
      ],
      "text/plain": [
       "        date  id_line day_type date_month\n",
       "0 2017-04-12        3       LA    2017-04\n",
       "1 2017-04-23        3       FE    2017-04\n",
       "2 2017-04-08       19       SA    2017-04"
      ]
     },
     "execution_count": 25,
     "metadata": {},
     "output_type": "execute_result"
    }
   ],
   "source": [
    "mov_linea_fecha.head(3)"
   ]
  },
  {
   "cell_type": "code",
   "execution_count": 26,
   "metadata": {},
   "outputs": [],
   "source": [
    "movs_totales = mov_linea_fecha.groupby(['date_month','id_line']).count().reset_index()[['date_month','id_line']]\n",
    "movs_totales['date_month_api'] = movs_totales['date_month'].astype(str).str.replace(\"-\",\"\")"
   ]
  },
  {
   "cell_type": "markdown",
   "metadata": {},
   "source": [
    "##### Servicios durante el período"
   ]
  },
  {
   "cell_type": "code",
   "execution_count": 29,
   "metadata": {},
   "outputs": [
    {
     "data": {
      "text/plain": [
       "323"
      ]
     },
     "execution_count": 29,
     "metadata": {},
     "output_type": "execute_result"
    }
   ],
   "source": [
    "movs_totales.count()[0]"
   ]
  },
  {
   "cell_type": "code",
   "execution_count": 27,
   "metadata": {},
   "outputs": [
    {
     "data": {
      "text/html": [
       "<div>\n",
       "<style scoped>\n",
       "    .dataframe tbody tr th:only-of-type {\n",
       "        vertical-align: middle;\n",
       "    }\n",
       "\n",
       "    .dataframe tbody tr th {\n",
       "        vertical-align: top;\n",
       "    }\n",
       "\n",
       "    .dataframe thead th {\n",
       "        text-align: right;\n",
       "    }\n",
       "</style>\n",
       "<table border=\"1\" class=\"dataframe\">\n",
       "  <thead>\n",
       "    <tr style=\"text-align: right;\">\n",
       "      <th></th>\n",
       "      <th>date_month</th>\n",
       "      <th>id_line</th>\n",
       "      <th>date_month_api</th>\n",
       "    </tr>\n",
       "  </thead>\n",
       "  <tbody>\n",
       "    <tr>\n",
       "      <th>0</th>\n",
       "      <td>2017-04</td>\n",
       "      <td>3</td>\n",
       "      <td>201704</td>\n",
       "    </tr>\n",
       "    <tr>\n",
       "      <th>1</th>\n",
       "      <td>2017-04</td>\n",
       "      <td>19</td>\n",
       "      <td>201704</td>\n",
       "    </tr>\n",
       "    <tr>\n",
       "      <th>2</th>\n",
       "      <td>2017-04</td>\n",
       "      <td>26</td>\n",
       "      <td>201704</td>\n",
       "    </tr>\n",
       "  </tbody>\n",
       "</table>\n",
       "</div>"
      ],
      "text/plain": [
       "  date_month  id_line date_month_api\n",
       "0    2017-04        3         201704\n",
       "1    2017-04       19         201704\n",
       "2    2017-04       26         201704"
      ]
     },
     "execution_count": 27,
     "metadata": {},
     "output_type": "execute_result"
    }
   ],
   "source": [
    "movs_totales.head(3)"
   ]
  },
  {
   "cell_type": "markdown",
   "metadata": {},
   "source": [
    "##### Obtener las frecuencias"
   ]
  },
  {
   "cell_type": "code",
   "execution_count": 66,
   "metadata": {},
   "outputs": [],
   "source": [
    "def get_frecuencias(data,row):\n",
    "    aux = []\n",
    "    columns=['id_line','date_month','type_date','MinimunFrequency1','MaximumFrequency1','MinimunFrequency2','MaximumFrequency2']\n",
    "    try:\n",
    "        data = data[\"data\"][0][\"timeTable\"]\n",
    "        if type(data) == list: \n",
    "            for d in data:\n",
    "                data = [[row[\"id_line\"],row[\"date_month\"],d[\"idDayType\"],d[\"Direction1\"][\"MinimunFrequency\"],d[\"Direction1\"][\"MaximumFrequency\"],d[\"Direction2\"][\"MinimunFrequency\"],d[\"Direction2\"][\"MaximumFrequency\"]]]\n",
    "                aux.append(pd.DataFrame(data,columns = columns))\n",
    "            return aux\n",
    "        else:\n",
    "            return pd.DataFrame([[row[\"id_line\"],row[\"date_month\"],data[\"idDayType\"],data[\"Direction1\"][\"MinimunFrequency\"],data[\"Direction1\"][\"MaximumFrequency\"],data[\"Direction2\"][\"MinimunFrequency\"],data[\"Direction2\"][\"MaximumFrequency\"]]],columns = columns)\n",
    "    except:\n",
    "         return [pd.DataFrame([[row[\"id_line\"],row[\"date_month\"],-1,-1,-1,-1,-1]],columns = columns)]\n",
    "    return [pd.DataFrame([[row[\"id_line\"],row[\"date_month\"],-1,-1,-1,-1,-1]],columns = columns)]"
   ]
  },
  {
   "cell_type": "code",
   "execution_count": 69,
   "metadata": {},
   "outputs": [],
   "source": [
    "import random"
   ]
  },
  {
   "cell_type": "code",
   "execution_count": 67,
   "metadata": {
    "scrolled": true
   },
   "outputs": [],
   "source": [
    "def get_frecuencias_total(df,dia):\n",
    "    cont = pd.DataFrame()\n",
    "    for index, row in df.iterrows():\n",
    "        URL_INFO_DETAIL = \"https://openapi.emtmadrid.es/v1/transport/busemtmad/lines/\" + str(row[\"id_line\"]) + \"/info/\" + row[\"date_month_api\"] + dia + \"/\"\n",
    "        response_info_detail = requests.request(\"GET\", URL_INFO_DETAIL, headers = headers_token)\n",
    "        parsed = (json.loads(response_info_detail.text))\n",
    "        res = get_frecuencias(parsed,row)\n",
    "        time.sleep(round(random.uniform(0, 1),1))\n",
    "        cont = cont.append(res)\n",
    "    return cont"
   ]
  },
  {
   "cell_type": "markdown",
   "metadata": {},
   "source": [
    "Le pasamos a la función el día sobre el cual realizará la búsqueda. Para este caso, será para el día 02 de cada \"añomes\""
   ]
  },
  {
   "cell_type": "code",
   "execution_count": 70,
   "metadata": {},
   "outputs": [],
   "source": [
    "cont = get_frecuencias_total(movs_totales,\"02\")"
   ]
  },
  {
   "cell_type": "code",
   "execution_count": 71,
   "metadata": {},
   "outputs": [
    {
     "data": {
      "text/html": [
       "<div>\n",
       "<style scoped>\n",
       "    .dataframe tbody tr th:only-of-type {\n",
       "        vertical-align: middle;\n",
       "    }\n",
       "\n",
       "    .dataframe tbody tr th {\n",
       "        vertical-align: top;\n",
       "    }\n",
       "\n",
       "    .dataframe thead th {\n",
       "        text-align: right;\n",
       "    }\n",
       "</style>\n",
       "<table border=\"1\" class=\"dataframe\">\n",
       "  <thead>\n",
       "    <tr style=\"text-align: right;\">\n",
       "      <th></th>\n",
       "      <th>id_line</th>\n",
       "      <th>date_month</th>\n",
       "      <th>type_date</th>\n",
       "      <th>MinimunFrequency1</th>\n",
       "      <th>MaximumFrequency1</th>\n",
       "      <th>MinimunFrequency2</th>\n",
       "      <th>MaximumFrequency2</th>\n",
       "    </tr>\n",
       "  </thead>\n",
       "  <tbody>\n",
       "    <tr>\n",
       "      <th>0</th>\n",
       "      <td>69</td>\n",
       "      <td>2018-04</td>\n",
       "      <td>SA</td>\n",
       "      <td>6</td>\n",
       "      <td>17</td>\n",
       "      <td>6</td>\n",
       "      <td>17</td>\n",
       "    </tr>\n",
       "    <tr>\n",
       "      <th>0</th>\n",
       "      <td>43</td>\n",
       "      <td>2017-08</td>\n",
       "      <td>SA</td>\n",
       "      <td>24</td>\n",
       "      <td>33</td>\n",
       "      <td>24</td>\n",
       "      <td>33</td>\n",
       "    </tr>\n",
       "    <tr>\n",
       "      <th>0</th>\n",
       "      <td>19</td>\n",
       "      <td>2019-05</td>\n",
       "      <td>SA</td>\n",
       "      <td>9</td>\n",
       "      <td>20</td>\n",
       "      <td>9</td>\n",
       "      <td>20</td>\n",
       "    </tr>\n",
       "  </tbody>\n",
       "</table>\n",
       "</div>"
      ],
      "text/plain": [
       "   id_line date_month type_date MinimunFrequency1 MaximumFrequency1  \\\n",
       "0       69    2018-04        SA                 6                17   \n",
       "0       43    2017-08        SA                24                33   \n",
       "0       19    2019-05        SA                 9                20   \n",
       "\n",
       "  MinimunFrequency2 MaximumFrequency2  \n",
       "0                 6                17  \n",
       "0                24                33  \n",
       "0                 9                20  "
      ]
     },
     "execution_count": 71,
     "metadata": {},
     "output_type": "execute_result"
    }
   ],
   "source": [
    "cont.sample(3)"
   ]
  },
  {
   "cell_type": "code",
   "execution_count": 357,
   "metadata": {},
   "outputs": [],
   "source": [
    "cont.to_csv('frecuencias_tipo_dia.csv',sep=\";\",header=['id_line','date_month','type_date','dir1_min_freq','dir1_max_freq','dir2_min_freq','dir2_max_freq'],index=False)"
   ]
  },
  {
   "cell_type": "code",
   "execution_count": 92,
   "metadata": {},
   "outputs": [],
   "source": [
    "frecuencias_df = pd.read_csv('frecuencias_tipo_dia.csv', sep=\";\", header=0)"
   ]
  },
  {
   "cell_type": "markdown",
   "metadata": {},
   "source": [
    "##### Revisamos si hay alguna línea donde no se haya obtenido registro en algún mes en específico"
   ]
  },
  {
   "cell_type": "code",
   "execution_count": 56,
   "metadata": {},
   "outputs": [
    {
     "data": {
      "text/html": [
       "<div>\n",
       "<style scoped>\n",
       "    .dataframe tbody tr th:only-of-type {\n",
       "        vertical-align: middle;\n",
       "    }\n",
       "\n",
       "    .dataframe tbody tr th {\n",
       "        vertical-align: top;\n",
       "    }\n",
       "\n",
       "    .dataframe thead th {\n",
       "        text-align: right;\n",
       "    }\n",
       "</style>\n",
       "<table border=\"1\" class=\"dataframe\">\n",
       "  <thead>\n",
       "    <tr style=\"text-align: right;\">\n",
       "      <th></th>\n",
       "      <th>date_month</th>\n",
       "      <th>type_date</th>\n",
       "      <th>dir1_min_freq</th>\n",
       "      <th>dir1_max_freq</th>\n",
       "      <th>dir2_min_freq</th>\n",
       "      <th>dir2_max_freq</th>\n",
       "    </tr>\n",
       "    <tr>\n",
       "      <th>id_line</th>\n",
       "      <th></th>\n",
       "      <th></th>\n",
       "      <th></th>\n",
       "      <th></th>\n",
       "      <th></th>\n",
       "      <th></th>\n",
       "    </tr>\n",
       "  </thead>\n",
       "  <tbody>\n",
       "    <tr>\n",
       "      <th>361</th>\n",
       "      <td>27</td>\n",
       "      <td>27</td>\n",
       "      <td>27</td>\n",
       "      <td>27</td>\n",
       "      <td>27</td>\n",
       "      <td>27</td>\n",
       "    </tr>\n",
       "    <tr>\n",
       "      <th>362</th>\n",
       "      <td>27</td>\n",
       "      <td>27</td>\n",
       "      <td>27</td>\n",
       "      <td>27</td>\n",
       "      <td>27</td>\n",
       "      <td>27</td>\n",
       "    </tr>\n",
       "  </tbody>\n",
       "</table>\n",
       "</div>"
      ],
      "text/plain": [
       "         date_month  type_date  dir1_min_freq  dir1_max_freq  dir2_min_freq  \\\n",
       "id_line                                                                       \n",
       "361              27         27             27             27             27   \n",
       "362              27         27             27             27             27   \n",
       "\n",
       "         dir2_max_freq  \n",
       "id_line                 \n",
       "361                 27  \n",
       "362                 27  "
      ]
     },
     "execution_count": 56,
     "metadata": {},
     "output_type": "execute_result"
    }
   ],
   "source": [
    "frecuencias_df[(frecuencias_df.dir1_min_freq == -1) | (frecuencias_df.dir1_max_freq == -1)].groupby('id_line').count()"
   ]
  },
  {
   "cell_type": "markdown",
   "metadata": {},
   "source": [
    "### 4.6.2.3 Líneas 361 y 362"
   ]
  },
  {
   "cell_type": "code",
   "execution_count": 64,
   "metadata": {},
   "outputs": [],
   "source": [
    "lineas_no_buscadas = [['2020-03', '361','202003'], ['2020-03', '362','202003']] \n",
    "lineas_no_buscadas_df = pd.DataFrame(lineas_no_buscadas, columns = ['date_month','id_line','date_month_api']) "
   ]
  },
  {
   "cell_type": "code",
   "execution_count": 70,
   "metadata": {},
   "outputs": [],
   "source": [
    "cont2 = get_frecuencias_total(lineas_no_buscadas_df,\"18\")\n",
    "cont2.columns = ['id_line','date_month','type_date','dir1_min_freq','dir1_max_freq','dir2_min_freq','dir2_max_freq']"
   ]
  },
  {
   "cell_type": "code",
   "execution_count": 71,
   "metadata": {},
   "outputs": [
    {
     "data": {
      "text/html": [
       "<div>\n",
       "<style scoped>\n",
       "    .dataframe tbody tr th:only-of-type {\n",
       "        vertical-align: middle;\n",
       "    }\n",
       "\n",
       "    .dataframe tbody tr th {\n",
       "        vertical-align: top;\n",
       "    }\n",
       "\n",
       "    .dataframe thead th {\n",
       "        text-align: right;\n",
       "    }\n",
       "</style>\n",
       "<table border=\"1\" class=\"dataframe\">\n",
       "  <thead>\n",
       "    <tr style=\"text-align: right;\">\n",
       "      <th></th>\n",
       "      <th>id_line</th>\n",
       "      <th>date_month</th>\n",
       "      <th>type_date</th>\n",
       "      <th>dir1_min_freq</th>\n",
       "      <th>dir1_max_freq</th>\n",
       "      <th>dir2_min_freq</th>\n",
       "      <th>dir2_max_freq</th>\n",
       "    </tr>\n",
       "  </thead>\n",
       "  <tbody>\n",
       "    <tr>\n",
       "      <th>0</th>\n",
       "      <td>361</td>\n",
       "      <td>2020-03</td>\n",
       "      <td>FE</td>\n",
       "      <td>10</td>\n",
       "      <td>30</td>\n",
       "      <td>10</td>\n",
       "      <td>30</td>\n",
       "    </tr>\n",
       "    <tr>\n",
       "      <th>0</th>\n",
       "      <td>361</td>\n",
       "      <td>2020-03</td>\n",
       "      <td>LA</td>\n",
       "      <td>7</td>\n",
       "      <td>23</td>\n",
       "      <td>7</td>\n",
       "      <td>23</td>\n",
       "    </tr>\n",
       "    <tr>\n",
       "      <th>0</th>\n",
       "      <td>361</td>\n",
       "      <td>2020-03</td>\n",
       "      <td>SA</td>\n",
       "      <td>10</td>\n",
       "      <td>30</td>\n",
       "      <td>10</td>\n",
       "      <td>30</td>\n",
       "    </tr>\n",
       "    <tr>\n",
       "      <th>0</th>\n",
       "      <td>362</td>\n",
       "      <td>2020-03</td>\n",
       "      <td>FE</td>\n",
       "      <td>16</td>\n",
       "      <td>30</td>\n",
       "      <td>16</td>\n",
       "      <td>30</td>\n",
       "    </tr>\n",
       "    <tr>\n",
       "      <th>0</th>\n",
       "      <td>362</td>\n",
       "      <td>2020-03</td>\n",
       "      <td>LA</td>\n",
       "      <td>11</td>\n",
       "      <td>24</td>\n",
       "      <td>11</td>\n",
       "      <td>24</td>\n",
       "    </tr>\n",
       "    <tr>\n",
       "      <th>0</th>\n",
       "      <td>362</td>\n",
       "      <td>2020-03</td>\n",
       "      <td>SA</td>\n",
       "      <td>16</td>\n",
       "      <td>30</td>\n",
       "      <td>16</td>\n",
       "      <td>30</td>\n",
       "    </tr>\n",
       "  </tbody>\n",
       "</table>\n",
       "</div>"
      ],
      "text/plain": [
       "  id_line date_month type_date dir1_min_freq dir1_max_freq dir2_min_freq  \\\n",
       "0     361    2020-03        FE            10            30            10   \n",
       "0     361    2020-03        LA             7            23             7   \n",
       "0     361    2020-03        SA            10            30            10   \n",
       "0     362    2020-03        FE            16            30            16   \n",
       "0     362    2020-03        LA            11            24            11   \n",
       "0     362    2020-03        SA            16            30            16   \n",
       "\n",
       "  dir2_max_freq  \n",
       "0            30  \n",
       "0            23  \n",
       "0            30  \n",
       "0            30  \n",
       "0            24  \n",
       "0            30  "
      ]
     },
     "execution_count": 71,
     "metadata": {},
     "output_type": "execute_result"
    }
   ],
   "source": [
    "cont2"
   ]
  },
  {
   "cell_type": "markdown",
   "metadata": {},
   "source": [
    "##### Eliminamos esas lineas"
   ]
  },
  {
   "cell_type": "code",
   "execution_count": 72,
   "metadata": {},
   "outputs": [],
   "source": [
    "frecuencias_df = frecuencias_df[(frecuencias_df.dir1_min_freq != -1) | (frecuencias_df.dir1_max_freq != -1)]"
   ]
  },
  {
   "cell_type": "markdown",
   "metadata": {},
   "source": [
    "##### Unimos ambos datasets"
   ]
  },
  {
   "cell_type": "code",
   "execution_count": 73,
   "metadata": {},
   "outputs": [],
   "source": [
    "frecuencias_df = frecuencias_df.append(cont2)"
   ]
  },
  {
   "cell_type": "code",
   "execution_count": 74,
   "metadata": {},
   "outputs": [],
   "source": [
    "frecuencias_df.to_csv('frecuencias_tipo_dia.csv',sep=\";\",index=False)"
   ]
  },
  {
   "cell_type": "markdown",
   "metadata": {},
   "source": [
    "##### Número de frecuencias encontradas"
   ]
  },
  {
   "cell_type": "code",
   "execution_count": 86,
   "metadata": {},
   "outputs": [
    {
     "data": {
      "text/plain": [
       "774"
      ]
     },
     "execution_count": 86,
     "metadata": {},
     "output_type": "execute_result"
    }
   ],
   "source": [
    "frecuencias_df.count()[0]"
   ]
  },
  {
   "cell_type": "markdown",
   "metadata": {},
   "source": [
    "### 4.6.2.4 Análisis de la dirección"
   ]
  },
  {
   "cell_type": "code",
   "execution_count": 99,
   "metadata": {},
   "outputs": [],
   "source": [
    "frecuencias_df['diff_min'] = np.where(frecuencias_df['dir1_min_freq'] != frecuencias_df['dir2_min_freq'] , 1, 0)\n",
    "frecuencias_df['diff_max'] = np.where(frecuencias_df['dir1_max_freq'] != frecuencias_df['dir2_max_freq'] , 1, 0)"
   ]
  },
  {
   "cell_type": "markdown",
   "metadata": {},
   "source": [
    "##### tiempo mínimo "
   ]
  },
  {
   "cell_type": "code",
   "execution_count": 100,
   "metadata": {},
   "outputs": [
    {
     "data": {
      "text/html": [
       "<div>\n",
       "<style scoped>\n",
       "    .dataframe tbody tr th:only-of-type {\n",
       "        vertical-align: middle;\n",
       "    }\n",
       "\n",
       "    .dataframe tbody tr th {\n",
       "        vertical-align: top;\n",
       "    }\n",
       "\n",
       "    .dataframe thead th {\n",
       "        text-align: right;\n",
       "    }\n",
       "</style>\n",
       "<table border=\"1\" class=\"dataframe\">\n",
       "  <thead>\n",
       "    <tr style=\"text-align: right;\">\n",
       "      <th></th>\n",
       "      <th>id_line</th>\n",
       "      <th>date_month</th>\n",
       "      <th>type_date</th>\n",
       "      <th>dir1_min_freq</th>\n",
       "      <th>dir1_max_freq</th>\n",
       "      <th>dir2_min_freq</th>\n",
       "      <th>dir2_max_freq</th>\n",
       "      <th>diff_min</th>\n",
       "      <th>diff_max</th>\n",
       "    </tr>\n",
       "  </thead>\n",
       "  <tbody>\n",
       "  </tbody>\n",
       "</table>\n",
       "</div>"
      ],
      "text/plain": [
       "Empty DataFrame\n",
       "Columns: [id_line, date_month, type_date, dir1_min_freq, dir1_max_freq, dir2_min_freq, dir2_max_freq, diff_min, diff_max]\n",
       "Index: []"
      ]
     },
     "execution_count": 100,
     "metadata": {},
     "output_type": "execute_result"
    }
   ],
   "source": [
    "diff_df = frecuencias_df[frecuencias_df['diff_min'] == 1]\n",
    "diff_df"
   ]
  },
  {
   "cell_type": "markdown",
   "metadata": {},
   "source": [
    "##### tiempo máximo"
   ]
  },
  {
   "cell_type": "code",
   "execution_count": 101,
   "metadata": {},
   "outputs": [
    {
     "data": {
      "text/html": [
       "<div>\n",
       "<style scoped>\n",
       "    .dataframe tbody tr th:only-of-type {\n",
       "        vertical-align: middle;\n",
       "    }\n",
       "\n",
       "    .dataframe tbody tr th {\n",
       "        vertical-align: top;\n",
       "    }\n",
       "\n",
       "    .dataframe thead th {\n",
       "        text-align: right;\n",
       "    }\n",
       "</style>\n",
       "<table border=\"1\" class=\"dataframe\">\n",
       "  <thead>\n",
       "    <tr style=\"text-align: right;\">\n",
       "      <th></th>\n",
       "      <th>id_line</th>\n",
       "      <th>date_month</th>\n",
       "      <th>type_date</th>\n",
       "      <th>dir1_min_freq</th>\n",
       "      <th>dir1_max_freq</th>\n",
       "      <th>dir2_min_freq</th>\n",
       "      <th>dir2_max_freq</th>\n",
       "      <th>diff_min</th>\n",
       "      <th>diff_max</th>\n",
       "    </tr>\n",
       "  </thead>\n",
       "  <tbody>\n",
       "  </tbody>\n",
       "</table>\n",
       "</div>"
      ],
      "text/plain": [
       "Empty DataFrame\n",
       "Columns: [id_line, date_month, type_date, dir1_min_freq, dir1_max_freq, dir2_min_freq, dir2_max_freq, diff_min, diff_max]\n",
       "Index: []"
      ]
     },
     "execution_count": 101,
     "metadata": {},
     "output_type": "execute_result"
    }
   ],
   "source": [
    "diff_df = frecuencias_df[frecuencias_df['diff_max'] == 1]\n",
    "diff_df"
   ]
  },
  {
   "cell_type": "markdown",
   "metadata": {},
   "source": [
    "#### CONCLUSIÓN: Son los mismos tiempos en ambos sentidos"
   ]
  },
  {
   "cell_type": "markdown",
   "metadata": {},
   "source": [
    "##### Eliminamos una direción y los campos generados de las comparaciones"
   ]
  },
  {
   "cell_type": "code",
   "execution_count": 104,
   "metadata": {},
   "outputs": [],
   "source": [
    "frecuencias_df.drop(['dir2_min_freq','dir2_max_freq','diff_min','diff_max'], axis=1, inplace=True)"
   ]
  },
  {
   "cell_type": "code",
   "execution_count": 105,
   "metadata": {},
   "outputs": [
    {
     "data": {
      "text/html": [
       "<div>\n",
       "<style scoped>\n",
       "    .dataframe tbody tr th:only-of-type {\n",
       "        vertical-align: middle;\n",
       "    }\n",
       "\n",
       "    .dataframe tbody tr th {\n",
       "        vertical-align: top;\n",
       "    }\n",
       "\n",
       "    .dataframe thead th {\n",
       "        text-align: right;\n",
       "    }\n",
       "</style>\n",
       "<table border=\"1\" class=\"dataframe\">\n",
       "  <thead>\n",
       "    <tr style=\"text-align: right;\">\n",
       "      <th></th>\n",
       "      <th>id_line</th>\n",
       "      <th>date_month</th>\n",
       "      <th>type_date</th>\n",
       "      <th>dir1_min_freq</th>\n",
       "      <th>dir1_max_freq</th>\n",
       "    </tr>\n",
       "  </thead>\n",
       "  <tbody>\n",
       "    <tr>\n",
       "      <th>0</th>\n",
       "      <td>3</td>\n",
       "      <td>2017-04</td>\n",
       "      <td>FE</td>\n",
       "      <td>11</td>\n",
       "      <td>34</td>\n",
       "    </tr>\n",
       "    <tr>\n",
       "      <th>1</th>\n",
       "      <td>3</td>\n",
       "      <td>2017-04</td>\n",
       "      <td>LA</td>\n",
       "      <td>7</td>\n",
       "      <td>14</td>\n",
       "    </tr>\n",
       "    <tr>\n",
       "      <th>2</th>\n",
       "      <td>3</td>\n",
       "      <td>2017-04</td>\n",
       "      <td>SA</td>\n",
       "      <td>10</td>\n",
       "      <td>23</td>\n",
       "    </tr>\n",
       "    <tr>\n",
       "      <th>3</th>\n",
       "      <td>19</td>\n",
       "      <td>2017-04</td>\n",
       "      <td>FE</td>\n",
       "      <td>14</td>\n",
       "      <td>30</td>\n",
       "    </tr>\n",
       "    <tr>\n",
       "      <th>4</th>\n",
       "      <td>19</td>\n",
       "      <td>2017-04</td>\n",
       "      <td>LA</td>\n",
       "      <td>3</td>\n",
       "      <td>15</td>\n",
       "    </tr>\n",
       "  </tbody>\n",
       "</table>\n",
       "</div>"
      ],
      "text/plain": [
       "   id_line date_month type_date  dir1_min_freq  dir1_max_freq\n",
       "0        3    2017-04        FE             11             34\n",
       "1        3    2017-04        LA              7             14\n",
       "2        3    2017-04        SA             10             23\n",
       "3       19    2017-04        FE             14             30\n",
       "4       19    2017-04        LA              3             15"
      ]
     },
     "execution_count": 105,
     "metadata": {},
     "output_type": "execute_result"
    }
   ],
   "source": [
    "frecuencias_df.head(5)"
   ]
  },
  {
   "cell_type": "markdown",
   "metadata": {},
   "source": [
    "##### Reescribimos el conjunto de datos"
   ]
  },
  {
   "cell_type": "code",
   "execution_count": 106,
   "metadata": {},
   "outputs": [],
   "source": [
    "frecuencias_df.to_csv('frecuencias_tipo_dia.csv',sep=\";\",index=False)"
   ]
  },
  {
   "cell_type": "markdown",
   "metadata": {},
   "source": [
    "### 4.6.2.5 Asignar frecuencias"
   ]
  },
  {
   "cell_type": "markdown",
   "metadata": {},
   "source": [
    "##### Creamos una columna clave para relacionar las frecuencias con los registros de mov_linea_fecha"
   ]
  },
  {
   "cell_type": "code",
   "execution_count": 109,
   "metadata": {},
   "outputs": [],
   "source": [
    "frecuencias_df['month_line_day_type'] = frecuencias_df['date_month'].astype(str).str.replace(\"-\",\"\") + frecuencias_df['type_date'] + frecuencias_df['id_line'].astype(str)"
   ]
  },
  {
   "cell_type": "code",
   "execution_count": 110,
   "metadata": {},
   "outputs": [],
   "source": [
    "frecuencias_df = frecuencias_df[['dir1_min_freq','dir1_max_freq','month_line_day_type']]"
   ]
  },
  {
   "cell_type": "code",
   "execution_count": 158,
   "metadata": {},
   "outputs": [
    {
     "data": {
      "text/html": [
       "<div>\n",
       "<style scoped>\n",
       "    .dataframe tbody tr th:only-of-type {\n",
       "        vertical-align: middle;\n",
       "    }\n",
       "\n",
       "    .dataframe tbody tr th {\n",
       "        vertical-align: top;\n",
       "    }\n",
       "\n",
       "    .dataframe thead th {\n",
       "        text-align: right;\n",
       "    }\n",
       "</style>\n",
       "<table border=\"1\" class=\"dataframe\">\n",
       "  <thead>\n",
       "    <tr style=\"text-align: right;\">\n",
       "      <th></th>\n",
       "      <th>dir1_min_freq</th>\n",
       "      <th>dir1_max_freq</th>\n",
       "      <th>month_line_day_type</th>\n",
       "    </tr>\n",
       "  </thead>\n",
       "  <tbody>\n",
       "    <tr>\n",
       "      <th>0</th>\n",
       "      <td>11</td>\n",
       "      <td>34</td>\n",
       "      <td>201704FE3</td>\n",
       "    </tr>\n",
       "    <tr>\n",
       "      <th>1</th>\n",
       "      <td>7</td>\n",
       "      <td>14</td>\n",
       "      <td>201704LA3</td>\n",
       "    </tr>\n",
       "    <tr>\n",
       "      <th>2</th>\n",
       "      <td>10</td>\n",
       "      <td>23</td>\n",
       "      <td>201704SA3</td>\n",
       "    </tr>\n",
       "  </tbody>\n",
       "</table>\n",
       "</div>"
      ],
      "text/plain": [
       "  dir1_min_freq dir1_max_freq month_line_day_type\n",
       "0            11            34           201704FE3\n",
       "1             7            14           201704LA3\n",
       "2            10            23           201704SA3"
      ]
     },
     "execution_count": 158,
     "metadata": {},
     "output_type": "execute_result"
    }
   ],
   "source": [
    "frecuencias_df.head(3)"
   ]
  },
  {
   "cell_type": "code",
   "execution_count": 111,
   "metadata": {},
   "outputs": [],
   "source": [
    "mov_linea_fecha['month_line_day_type'] = mov_linea_fecha['date_month'].astype(str).str.replace(\"-\",\"\") + mov_linea_fecha['day_type'] + mov_linea_fecha['id_line'].astype(str)"
   ]
  },
  {
   "cell_type": "code",
   "execution_count": 39,
   "metadata": {},
   "outputs": [
    {
     "data": {
      "text/html": [
       "<div>\n",
       "<style scoped>\n",
       "    .dataframe tbody tr th:only-of-type {\n",
       "        vertical-align: middle;\n",
       "    }\n",
       "\n",
       "    .dataframe tbody tr th {\n",
       "        vertical-align: top;\n",
       "    }\n",
       "\n",
       "    .dataframe thead th {\n",
       "        text-align: right;\n",
       "    }\n",
       "</style>\n",
       "<table border=\"1\" class=\"dataframe\">\n",
       "  <thead>\n",
       "    <tr style=\"text-align: right;\">\n",
       "      <th></th>\n",
       "      <th>date</th>\n",
       "      <th>id_line</th>\n",
       "      <th>day_type</th>\n",
       "      <th>date_month</th>\n",
       "      <th>month_line_day_type</th>\n",
       "    </tr>\n",
       "  </thead>\n",
       "  <tbody>\n",
       "    <tr>\n",
       "      <th>0</th>\n",
       "      <td>2017-04-12</td>\n",
       "      <td>3</td>\n",
       "      <td>LA</td>\n",
       "      <td>2017-04</td>\n",
       "      <td>201704LA3</td>\n",
       "    </tr>\n",
       "    <tr>\n",
       "      <th>1</th>\n",
       "      <td>2017-04-23</td>\n",
       "      <td>3</td>\n",
       "      <td>FE</td>\n",
       "      <td>2017-04</td>\n",
       "      <td>201704FE3</td>\n",
       "    </tr>\n",
       "    <tr>\n",
       "      <th>2</th>\n",
       "      <td>2017-04-08</td>\n",
       "      <td>19</td>\n",
       "      <td>SA</td>\n",
       "      <td>2017-04</td>\n",
       "      <td>201704SA19</td>\n",
       "    </tr>\n",
       "  </tbody>\n",
       "</table>\n",
       "</div>"
      ],
      "text/plain": [
       "        date  id_line day_type date_month month_line_day_type\n",
       "0 2017-04-12        3       LA    2017-04           201704LA3\n",
       "1 2017-04-23        3       FE    2017-04           201704FE3\n",
       "2 2017-04-08       19       SA    2017-04          201704SA19"
      ]
     },
     "execution_count": 39,
     "metadata": {},
     "output_type": "execute_result"
    }
   ],
   "source": [
    "mov_linea_fecha.head(3)"
   ]
  },
  {
   "cell_type": "markdown",
   "metadata": {},
   "source": [
    "##### Relacionamos ambos datasets"
   ]
  },
  {
   "cell_type": "code",
   "execution_count": 112,
   "metadata": {},
   "outputs": [],
   "source": [
    "frecuencias_df_new =  mov_linea_fecha.merge(frecuencias_df, on='month_line_day_type',how='left')"
   ]
  },
  {
   "cell_type": "markdown",
   "metadata": {},
   "source": [
    "##### Número de registros"
   ]
  },
  {
   "cell_type": "code",
   "execution_count": 114,
   "metadata": {},
   "outputs": [
    {
     "data": {
      "text/plain": [
       "6967"
      ]
     },
     "execution_count": 114,
     "metadata": {},
     "output_type": "execute_result"
    }
   ],
   "source": [
    "frecuencias_df_new.count()[0]"
   ]
  },
  {
   "cell_type": "markdown",
   "metadata": {},
   "source": [
    "#### Revisamos si hay alguna línea donde no se haya obtenido registro"
   ]
  },
  {
   "cell_type": "code",
   "execution_count": 145,
   "metadata": {},
   "outputs": [
    {
     "data": {
      "text/html": [
       "<div>\n",
       "<style scoped>\n",
       "    .dataframe tbody tr th:only-of-type {\n",
       "        vertical-align: middle;\n",
       "    }\n",
       "\n",
       "    .dataframe tbody tr th {\n",
       "        vertical-align: top;\n",
       "    }\n",
       "\n",
       "    .dataframe thead th {\n",
       "        text-align: right;\n",
       "    }\n",
       "</style>\n",
       "<table border=\"1\" class=\"dataframe\">\n",
       "  <thead>\n",
       "    <tr style=\"text-align: right;\">\n",
       "      <th></th>\n",
       "      <th>date</th>\n",
       "      <th>day_type</th>\n",
       "      <th>date_month</th>\n",
       "      <th>month_line_day_type</th>\n",
       "      <th>dir1_min_freq</th>\n",
       "      <th>dir1_max_freq</th>\n",
       "    </tr>\n",
       "    <tr>\n",
       "      <th>id_line</th>\n",
       "      <th></th>\n",
       "      <th></th>\n",
       "      <th></th>\n",
       "      <th></th>\n",
       "      <th></th>\n",
       "      <th></th>\n",
       "    </tr>\n",
       "  </thead>\n",
       "  <tbody>\n",
       "    <tr>\n",
       "      <th>156</th>\n",
       "      <td>34</td>\n",
       "      <td>34</td>\n",
       "      <td>34</td>\n",
       "      <td>34</td>\n",
       "      <td>0</td>\n",
       "      <td>0</td>\n",
       "    </tr>\n",
       "    <tr>\n",
       "      <th>361</th>\n",
       "      <td>773</td>\n",
       "      <td>773</td>\n",
       "      <td>773</td>\n",
       "      <td>773</td>\n",
       "      <td>0</td>\n",
       "      <td>0</td>\n",
       "    </tr>\n",
       "    <tr>\n",
       "      <th>362</th>\n",
       "      <td>655</td>\n",
       "      <td>655</td>\n",
       "      <td>655</td>\n",
       "      <td>655</td>\n",
       "      <td>0</td>\n",
       "      <td>0</td>\n",
       "    </tr>\n",
       "    <tr>\n",
       "      <th>601</th>\n",
       "      <td>142</td>\n",
       "      <td>142</td>\n",
       "      <td>142</td>\n",
       "      <td>142</td>\n",
       "      <td>0</td>\n",
       "      <td>0</td>\n",
       "    </tr>\n",
       "  </tbody>\n",
       "</table>\n",
       "</div>"
      ],
      "text/plain": [
       "         date  day_type  date_month  month_line_day_type  dir1_min_freq  \\\n",
       "id_line                                                                   \n",
       "156        34        34          34                   34              0   \n",
       "361       773       773         773                  773              0   \n",
       "362       655       655         655                  655              0   \n",
       "601       142       142         142                  142              0   \n",
       "\n",
       "         dir1_max_freq  \n",
       "id_line                 \n",
       "156                  0  \n",
       "361                  0  \n",
       "362                  0  \n",
       "601                  0  "
      ]
     },
     "execution_count": 145,
     "metadata": {},
     "output_type": "execute_result"
    }
   ],
   "source": [
    "frecuencias_df_new[frecuencias_df_new.dir1_min_freq.isna()].groupby('id_line').count()"
   ]
  },
  {
   "cell_type": "markdown",
   "metadata": {},
   "source": [
    "Por el momento no consideramos la 361 y 362. Analizaremos la 156 y 601"
   ]
  },
  {
   "cell_type": "markdown",
   "metadata": {},
   "source": [
    "### 4.6.2.6 Días festivos como sábado"
   ]
  },
  {
   "cell_type": "code",
   "execution_count": 147,
   "metadata": {},
   "outputs": [
    {
     "data": {
      "text/html": [
       "<div>\n",
       "<style scoped>\n",
       "    .dataframe tbody tr th:only-of-type {\n",
       "        vertical-align: middle;\n",
       "    }\n",
       "\n",
       "    .dataframe tbody tr th {\n",
       "        vertical-align: top;\n",
       "    }\n",
       "\n",
       "    .dataframe thead th {\n",
       "        text-align: right;\n",
       "    }\n",
       "</style>\n",
       "<table border=\"1\" class=\"dataframe\">\n",
       "  <thead>\n",
       "    <tr style=\"text-align: right;\">\n",
       "      <th></th>\n",
       "      <th>date</th>\n",
       "      <th>id_line</th>\n",
       "      <th>date_month</th>\n",
       "      <th>month_line_day_type</th>\n",
       "      <th>dir1_min_freq</th>\n",
       "      <th>dir1_max_freq</th>\n",
       "    </tr>\n",
       "    <tr>\n",
       "      <th>day_type</th>\n",
       "      <th></th>\n",
       "      <th></th>\n",
       "      <th></th>\n",
       "      <th></th>\n",
       "      <th></th>\n",
       "      <th></th>\n",
       "    </tr>\n",
       "  </thead>\n",
       "  <tbody>\n",
       "    <tr>\n",
       "      <th>FE</th>\n",
       "      <td>176</td>\n",
       "      <td>176</td>\n",
       "      <td>176</td>\n",
       "      <td>176</td>\n",
       "      <td>0</td>\n",
       "      <td>0</td>\n",
       "    </tr>\n",
       "  </tbody>\n",
       "</table>\n",
       "</div>"
      ],
      "text/plain": [
       "          date  id_line  date_month  month_line_day_type  dir1_min_freq  \\\n",
       "day_type                                                                  \n",
       "FE         176      176         176                  176              0   \n",
       "\n",
       "          dir1_max_freq  \n",
       "day_type                 \n",
       "FE                    0  "
      ]
     },
     "execution_count": 147,
     "metadata": {},
     "output_type": "execute_result"
    }
   ],
   "source": [
    "frecuencias_df_new[(frecuencias_df_new.dir1_min_freq.isna()) & (frecuencias_df_new['id_line'].isin([156,601]))].groupby('day_type').count()"
   ]
  },
  {
   "cell_type": "markdown",
   "metadata": {},
   "source": [
    "Como solo se presentan frecuencias nulas para los días 'FE' (Festivos), para proseguir con el estudio, asumiremos que un viernes se comporta como un sábado. "
   ]
  },
  {
   "cell_type": "code",
   "execution_count": 115,
   "metadata": {},
   "outputs": [],
   "source": [
    "festivo_a_sabado = frecuencias_df_new[(frecuencias_df_new.dir1_min_freq.isna()) & (frecuencias_df_new['id_line'].isin([156,601]))]"
   ]
  },
  {
   "cell_type": "code",
   "execution_count": 67,
   "metadata": {},
   "outputs": [
    {
     "data": {
      "text/html": [
       "<div>\n",
       "<style scoped>\n",
       "    .dataframe tbody tr th:only-of-type {\n",
       "        vertical-align: middle;\n",
       "    }\n",
       "\n",
       "    .dataframe tbody tr th {\n",
       "        vertical-align: top;\n",
       "    }\n",
       "\n",
       "    .dataframe thead th {\n",
       "        text-align: right;\n",
       "    }\n",
       "</style>\n",
       "<table border=\"1\" class=\"dataframe\">\n",
       "  <thead>\n",
       "    <tr style=\"text-align: right;\">\n",
       "      <th></th>\n",
       "      <th>date</th>\n",
       "      <th>id_line</th>\n",
       "      <th>day_type</th>\n",
       "      <th>date_month</th>\n",
       "      <th>month_line_day_type</th>\n",
       "      <th>dir1_min_freq</th>\n",
       "      <th>dir1_max_freq</th>\n",
       "    </tr>\n",
       "  </thead>\n",
       "  <tbody>\n",
       "    <tr>\n",
       "      <th>139</th>\n",
       "      <td>2017-04-02</td>\n",
       "      <td>156</td>\n",
       "      <td>FE</td>\n",
       "      <td>2017-04</td>\n",
       "      <td>201704FE156</td>\n",
       "      <td>NaN</td>\n",
       "      <td>NaN</td>\n",
       "    </tr>\n",
       "  </tbody>\n",
       "</table>\n",
       "</div>"
      ],
      "text/plain": [
       "          date  id_line day_type date_month month_line_day_type dir1_min_freq  \\\n",
       "139 2017-04-02      156       FE    2017-04         201704FE156           NaN   \n",
       "\n",
       "    dir1_max_freq  \n",
       "139           NaN  "
      ]
     },
     "execution_count": 67,
     "metadata": {},
     "output_type": "execute_result"
    }
   ],
   "source": [
    "festivo_a_sabado.head(1)"
   ]
  },
  {
   "cell_type": "markdown",
   "metadata": {},
   "source": [
    "##### Sustitución de frecuencias del tipo de día 'FE' por frecuencias del tipo de día 'SA'"
   ]
  },
  {
   "cell_type": "code",
   "execution_count": 69,
   "metadata": {},
   "outputs": [],
   "source": [
    "def get_frecuencias_NaN(data,day_type):\n",
    "    try:\n",
    "        for d in data[\"data\"][0][\"timeTable\"]:\n",
    "            if d[\"idDayType\"] == \"SA\":\n",
    "                return [d[\"Direction1\"][\"MinimunFrequency\"],d[\"Direction1\"][\"MaximumFrequency\"]]\n",
    "    except:\n",
    "         return [-1,-1]\n",
    "    return [\"\",\"\"]"
   ]
  },
  {
   "cell_type": "code",
   "execution_count": 85,
   "metadata": {
    "scrolled": true
   },
   "outputs": [],
   "source": [
    "f_s = []\n",
    "for index, row in festivo_a_sabado.iterrows():\n",
    "    URL_INFO_DETAIL = \"https://openapi.emtmadrid.es/v1/transport/busemtmad/lines/\" + str(row[\"id_line\"]) + \"/info/\" + str(row[\"date_month\"].replace(\"-\",\"\")) + \"02/\"\n",
    "    response_info_detail = requests.request(\"GET\", URL_INFO_DETAIL, headers = headers_token)\n",
    "    parsed = (json.loads(response_info_detail.text))\n",
    "    res = get_frecuencias_NaN(parsed,row[\"day_type\"])\n",
    "    result = [row[\"date\"],row[\"id_line\"],row[\"day_type\"],row[\"date_month\"],row[\"month_line_day_type\"],res[0],res[1]]\n",
    "    f_s.append(result)"
   ]
  },
  {
   "cell_type": "code",
   "execution_count": 87,
   "metadata": {},
   "outputs": [],
   "source": [
    "festivo_a_sabado_new = pd.DataFrame(cont_NaN,columns=['date','id_line','day_type','date_month','month_line_day_type','dir1_min_freq','dir1_max_freq'])"
   ]
  },
  {
   "cell_type": "code",
   "execution_count": 88,
   "metadata": {},
   "outputs": [
    {
     "data": {
      "text/html": [
       "<div>\n",
       "<style scoped>\n",
       "    .dataframe tbody tr th:only-of-type {\n",
       "        vertical-align: middle;\n",
       "    }\n",
       "\n",
       "    .dataframe tbody tr th {\n",
       "        vertical-align: top;\n",
       "    }\n",
       "\n",
       "    .dataframe thead th {\n",
       "        text-align: right;\n",
       "    }\n",
       "</style>\n",
       "<table border=\"1\" class=\"dataframe\">\n",
       "  <thead>\n",
       "    <tr style=\"text-align: right;\">\n",
       "      <th></th>\n",
       "      <th>date</th>\n",
       "      <th>id_line</th>\n",
       "      <th>day_type</th>\n",
       "      <th>date_month</th>\n",
       "      <th>month_line_day_type</th>\n",
       "      <th>dir1_min_freq</th>\n",
       "      <th>dir1_max_freq</th>\n",
       "    </tr>\n",
       "  </thead>\n",
       "  <tbody>\n",
       "    <tr>\n",
       "      <th>0</th>\n",
       "      <td>2017-04-02</td>\n",
       "      <td>156</td>\n",
       "      <td>FE</td>\n",
       "      <td>2017-04</td>\n",
       "      <td>201704FE156</td>\n",
       "      <td>13</td>\n",
       "      <td>28</td>\n",
       "    </tr>\n",
       "  </tbody>\n",
       "</table>\n",
       "</div>"
      ],
      "text/plain": [
       "        date  id_line day_type date_month month_line_day_type dir1_min_freq  \\\n",
       "0 2017-04-02      156       FE    2017-04         201704FE156            13   \n",
       "\n",
       "  dir1_max_freq  \n",
       "0            28  "
      ]
     },
     "execution_count": 88,
     "metadata": {},
     "output_type": "execute_result"
    }
   ],
   "source": [
    "festivo_a_sabado_new.head(1)"
   ]
  },
  {
   "cell_type": "markdown",
   "metadata": {},
   "source": [
    "##### Revisamos si hay nulos"
   ]
  },
  {
   "cell_type": "code",
   "execution_count": 89,
   "metadata": {},
   "outputs": [
    {
     "data": {
      "text/html": [
       "<div>\n",
       "<style scoped>\n",
       "    .dataframe tbody tr th:only-of-type {\n",
       "        vertical-align: middle;\n",
       "    }\n",
       "\n",
       "    .dataframe tbody tr th {\n",
       "        vertical-align: top;\n",
       "    }\n",
       "\n",
       "    .dataframe thead th {\n",
       "        text-align: right;\n",
       "    }\n",
       "</style>\n",
       "<table border=\"1\" class=\"dataframe\">\n",
       "  <thead>\n",
       "    <tr style=\"text-align: right;\">\n",
       "      <th></th>\n",
       "      <th>date</th>\n",
       "      <th>day_type</th>\n",
       "      <th>date_month</th>\n",
       "      <th>month_line_day_type</th>\n",
       "      <th>dir1_min_freq</th>\n",
       "      <th>dir1_max_freq</th>\n",
       "    </tr>\n",
       "    <tr>\n",
       "      <th>id_line</th>\n",
       "      <th></th>\n",
       "      <th></th>\n",
       "      <th></th>\n",
       "      <th></th>\n",
       "      <th></th>\n",
       "      <th></th>\n",
       "    </tr>\n",
       "  </thead>\n",
       "  <tbody>\n",
       "  </tbody>\n",
       "</table>\n",
       "</div>"
      ],
      "text/plain": [
       "Empty DataFrame\n",
       "Columns: [date, day_type, date_month, month_line_day_type, dir1_min_freq, dir1_max_freq]\n",
       "Index: []"
      ]
     },
     "execution_count": 89,
     "metadata": {},
     "output_type": "execute_result"
    }
   ],
   "source": [
    "festivo_a_sabado_new[festivo_a_sabado_new['dir1_min_freq'].isna()].groupby('id_line').count()"
   ]
  },
  {
   "cell_type": "markdown",
   "metadata": {},
   "source": [
    "### 4.6.2.7 Agregación de frecuencias "
   ]
  },
  {
   "cell_type": "markdown",
   "metadata": {},
   "source": [
    "##### Agregamos los registros de las líneas 361 y 362"
   ]
  },
  {
   "cell_type": "code",
   "execution_count": 243,
   "metadata": {},
   "outputs": [
    {
     "name": "stderr",
     "output_type": "stream",
     "text": [
      "C:\\Users\\Arturo\\Anaconda3\\lib\\site-packages\\ipykernel_launcher.py:3: SettingWithCopyWarning: \n",
      "A value is trying to be set on a copy of a slice from a DataFrame.\n",
      "Try using .loc[row_indexer,col_indexer] = value instead\n",
      "\n",
      "See the caveats in the documentation: https://pandas.pydata.org/pandas-docs/stable/user_guide/indexing.html#returning-a-view-versus-a-copy\n",
      "  This is separate from the ipykernel package so we can avoid doing imports until\n",
      "C:\\Users\\Arturo\\Anaconda3\\lib\\site-packages\\pandas\\core\\frame.py:3997: SettingWithCopyWarning: \n",
      "A value is trying to be set on a copy of a slice from a DataFrame\n",
      "\n",
      "See the caveats in the documentation: https://pandas.pydata.org/pandas-docs/stable/user_guide/indexing.html#returning-a-view-versus-a-copy\n",
      "  errors=errors,\n"
     ]
    }
   ],
   "source": [
    "cont2_copy = cont2[['id_line','type_date','dir1_min_freq','dir1_max_freq']]\n",
    "cont2_copy.columns = ['id_line','day_type','dir1_min_freq','dir1_max_freq']\n",
    "cont2_copy['line_day_type'] = cont2_copy['id_line'].astype(str) +  cont2_copy['day_type']\n",
    "cont2_copy.drop(['id_line','day_type'], axis=1, inplace=True)"
   ]
  },
  {
   "cell_type": "code",
   "execution_count": 244,
   "metadata": {},
   "outputs": [
    {
     "data": {
      "text/html": [
       "<div>\n",
       "<style scoped>\n",
       "    .dataframe tbody tr th:only-of-type {\n",
       "        vertical-align: middle;\n",
       "    }\n",
       "\n",
       "    .dataframe tbody tr th {\n",
       "        vertical-align: top;\n",
       "    }\n",
       "\n",
       "    .dataframe thead th {\n",
       "        text-align: right;\n",
       "    }\n",
       "</style>\n",
       "<table border=\"1\" class=\"dataframe\">\n",
       "  <thead>\n",
       "    <tr style=\"text-align: right;\">\n",
       "      <th></th>\n",
       "      <th>dir1_min_freq</th>\n",
       "      <th>dir1_max_freq</th>\n",
       "      <th>line_day_type</th>\n",
       "    </tr>\n",
       "  </thead>\n",
       "  <tbody>\n",
       "    <tr>\n",
       "      <th>0</th>\n",
       "      <td>10</td>\n",
       "      <td>30</td>\n",
       "      <td>361FE</td>\n",
       "    </tr>\n",
       "    <tr>\n",
       "      <th>0</th>\n",
       "      <td>7</td>\n",
       "      <td>23</td>\n",
       "      <td>361LA</td>\n",
       "    </tr>\n",
       "    <tr>\n",
       "      <th>0</th>\n",
       "      <td>10</td>\n",
       "      <td>30</td>\n",
       "      <td>361SA</td>\n",
       "    </tr>\n",
       "    <tr>\n",
       "      <th>0</th>\n",
       "      <td>16</td>\n",
       "      <td>30</td>\n",
       "      <td>362FE</td>\n",
       "    </tr>\n",
       "    <tr>\n",
       "      <th>0</th>\n",
       "      <td>11</td>\n",
       "      <td>24</td>\n",
       "      <td>362LA</td>\n",
       "    </tr>\n",
       "    <tr>\n",
       "      <th>0</th>\n",
       "      <td>16</td>\n",
       "      <td>30</td>\n",
       "      <td>362SA</td>\n",
       "    </tr>\n",
       "  </tbody>\n",
       "</table>\n",
       "</div>"
      ],
      "text/plain": [
       "  dir1_min_freq dir1_max_freq line_day_type\n",
       "0            10            30         361FE\n",
       "0             7            23         361LA\n",
       "0            10            30         361SA\n",
       "0            16            30         362FE\n",
       "0            11            24         362LA\n",
       "0            16            30         362SA"
      ]
     },
     "execution_count": 244,
     "metadata": {},
     "output_type": "execute_result"
    }
   ],
   "source": [
    "cont2_copy"
   ]
  },
  {
   "cell_type": "code",
   "execution_count": 121,
   "metadata": {},
   "outputs": [],
   "source": [
    "lineas_361_362 = frecuencias_df_new[frecuencias_df_new['id_line'].isin([361,362])][['date','id_line','day_type','date_month','month_line_day_type']]"
   ]
  },
  {
   "cell_type": "code",
   "execution_count": 268,
   "metadata": {},
   "outputs": [],
   "source": [
    "lineas_361_362['line_day_type'] = lineas_361_362['id_line'].astype(str) +  lineas_361_362['day_type']"
   ]
  },
  {
   "cell_type": "code",
   "execution_count": 269,
   "metadata": {},
   "outputs": [
    {
     "data": {
      "text/html": [
       "<div>\n",
       "<style scoped>\n",
       "    .dataframe tbody tr th:only-of-type {\n",
       "        vertical-align: middle;\n",
       "    }\n",
       "\n",
       "    .dataframe tbody tr th {\n",
       "        vertical-align: top;\n",
       "    }\n",
       "\n",
       "    .dataframe thead th {\n",
       "        text-align: right;\n",
       "    }\n",
       "</style>\n",
       "<table border=\"1\" class=\"dataframe\">\n",
       "  <thead>\n",
       "    <tr style=\"text-align: right;\">\n",
       "      <th></th>\n",
       "      <th>date</th>\n",
       "      <th>id_line</th>\n",
       "      <th>day_type</th>\n",
       "      <th>date_month</th>\n",
       "      <th>month_line_day_type</th>\n",
       "      <th>line_day_type</th>\n",
       "    </tr>\n",
       "  </thead>\n",
       "  <tbody>\n",
       "    <tr>\n",
       "      <th>154</th>\n",
       "      <td>2017-04-01</td>\n",
       "      <td>361</td>\n",
       "      <td>SA</td>\n",
       "      <td>2017-04</td>\n",
       "      <td>201704SA361</td>\n",
       "      <td>361SA</td>\n",
       "    </tr>\n",
       "    <tr>\n",
       "      <th>155</th>\n",
       "      <td>2017-04-03</td>\n",
       "      <td>361</td>\n",
       "      <td>LA</td>\n",
       "      <td>2017-04</td>\n",
       "      <td>201704LA361</td>\n",
       "      <td>361LA</td>\n",
       "    </tr>\n",
       "    <tr>\n",
       "      <th>156</th>\n",
       "      <td>2017-04-05</td>\n",
       "      <td>361</td>\n",
       "      <td>LA</td>\n",
       "      <td>2017-04</td>\n",
       "      <td>201704LA361</td>\n",
       "      <td>361LA</td>\n",
       "    </tr>\n",
       "  </tbody>\n",
       "</table>\n",
       "</div>"
      ],
      "text/plain": [
       "          date  id_line day_type date_month month_line_day_type line_day_type\n",
       "154 2017-04-01      361       SA    2017-04         201704SA361         361SA\n",
       "155 2017-04-03      361       LA    2017-04         201704LA361         361LA\n",
       "156 2017-04-05      361       LA    2017-04         201704LA361         361LA"
      ]
     },
     "execution_count": 269,
     "metadata": {},
     "output_type": "execute_result"
    }
   ],
   "source": [
    "lineas_361_362.head(3)"
   ]
  },
  {
   "cell_type": "markdown",
   "metadata": {},
   "source": [
    "##### Número de registros a modificar"
   ]
  },
  {
   "cell_type": "code",
   "execution_count": 124,
   "metadata": {},
   "outputs": [
    {
     "data": {
      "text/plain": [
       "1428"
      ]
     },
     "execution_count": 124,
     "metadata": {},
     "output_type": "execute_result"
    }
   ],
   "source": [
    "lineas_361_362.count()[0]"
   ]
  },
  {
   "cell_type": "code",
   "execution_count": 270,
   "metadata": {},
   "outputs": [],
   "source": [
    "lineas_361_362_new = pd.merge(lineas_361_362, cont2_copy, on='line_day_type',how=\"left\")"
   ]
  },
  {
   "cell_type": "code",
   "execution_count": 271,
   "metadata": {},
   "outputs": [
    {
     "data": {
      "text/html": [
       "<div>\n",
       "<style scoped>\n",
       "    .dataframe tbody tr th:only-of-type {\n",
       "        vertical-align: middle;\n",
       "    }\n",
       "\n",
       "    .dataframe tbody tr th {\n",
       "        vertical-align: top;\n",
       "    }\n",
       "\n",
       "    .dataframe thead th {\n",
       "        text-align: right;\n",
       "    }\n",
       "</style>\n",
       "<table border=\"1\" class=\"dataframe\">\n",
       "  <thead>\n",
       "    <tr style=\"text-align: right;\">\n",
       "      <th></th>\n",
       "      <th>date</th>\n",
       "      <th>id_line</th>\n",
       "      <th>day_type</th>\n",
       "      <th>date_month</th>\n",
       "      <th>month_line_day_type</th>\n",
       "      <th>line_day_type</th>\n",
       "      <th>dir1_min_freq</th>\n",
       "      <th>dir1_max_freq</th>\n",
       "    </tr>\n",
       "  </thead>\n",
       "  <tbody>\n",
       "    <tr>\n",
       "      <th>0</th>\n",
       "      <td>2017-04-01</td>\n",
       "      <td>361</td>\n",
       "      <td>SA</td>\n",
       "      <td>2017-04</td>\n",
       "      <td>201704SA361</td>\n",
       "      <td>361SA</td>\n",
       "      <td>10</td>\n",
       "      <td>30</td>\n",
       "    </tr>\n",
       "    <tr>\n",
       "      <th>1</th>\n",
       "      <td>2017-04-03</td>\n",
       "      <td>361</td>\n",
       "      <td>LA</td>\n",
       "      <td>2017-04</td>\n",
       "      <td>201704LA361</td>\n",
       "      <td>361LA</td>\n",
       "      <td>7</td>\n",
       "      <td>23</td>\n",
       "    </tr>\n",
       "    <tr>\n",
       "      <th>2</th>\n",
       "      <td>2017-04-05</td>\n",
       "      <td>361</td>\n",
       "      <td>LA</td>\n",
       "      <td>2017-04</td>\n",
       "      <td>201704LA361</td>\n",
       "      <td>361LA</td>\n",
       "      <td>7</td>\n",
       "      <td>23</td>\n",
       "    </tr>\n",
       "  </tbody>\n",
       "</table>\n",
       "</div>"
      ],
      "text/plain": [
       "        date  id_line day_type date_month month_line_day_type line_day_type  \\\n",
       "0 2017-04-01      361       SA    2017-04         201704SA361         361SA   \n",
       "1 2017-04-03      361       LA    2017-04         201704LA361         361LA   \n",
       "2 2017-04-05      361       LA    2017-04         201704LA361         361LA   \n",
       "\n",
       "  dir1_min_freq dir1_max_freq  \n",
       "0            10            30  \n",
       "1             7            23  \n",
       "2             7            23  "
      ]
     },
     "execution_count": 271,
     "metadata": {},
     "output_type": "execute_result"
    }
   ],
   "source": [
    "lineas_361_362_new.head(3)"
   ]
  },
  {
   "cell_type": "code",
   "execution_count": 273,
   "metadata": {},
   "outputs": [],
   "source": [
    "lineas_361_362_new.drop('line_day_type', axis=1, inplace=True)"
   ]
  },
  {
   "cell_type": "markdown",
   "metadata": {},
   "source": [
    "##### Eliminamos los registros completos"
   ]
  },
  {
   "cell_type": "code",
   "execution_count": 274,
   "metadata": {},
   "outputs": [],
   "source": [
    "frecuencias_df_new = frecuencias_df_new[(frecuencias_df_new['dir1_min_freq'].notna()) | (frecuencias_df_new['dir1_max_freq'].notna())]"
   ]
  },
  {
   "cell_type": "markdown",
   "metadata": {},
   "source": [
    "##### Agregamos los registros de festivo a sábado"
   ]
  },
  {
   "cell_type": "code",
   "execution_count": 275,
   "metadata": {},
   "outputs": [],
   "source": [
    "frecuencias_df_new = frecuencias_df_new.append(festivo_a_sabado_new)"
   ]
  },
  {
   "cell_type": "markdown",
   "metadata": {},
   "source": [
    "##### Agregamos los registros de las lineas especiales 361 y 362"
   ]
  },
  {
   "cell_type": "code",
   "execution_count": 276,
   "metadata": {},
   "outputs": [],
   "source": [
    "frecuencias_df_new = frecuencias_df_new.append(lineas_361_362_new)"
   ]
  },
  {
   "cell_type": "markdown",
   "metadata": {},
   "source": [
    "### 4.6.2.8 Asignar frecuencias a los movimientos en bicicleta"
   ]
  },
  {
   "cell_type": "code",
   "execution_count": 307,
   "metadata": {},
   "outputs": [],
   "source": [
    "movimientos_df = pd.read_csv('movimientos_general_agregado.csv', sep=\";\", header=0)\n",
    "\n",
    "f = lambda x: x[\"date\"].split(\"T\",1)[0].replace(\"-\",\"\") + str(x[\"id_line\"])\n",
    "movimientos_df[\"dateline_join\"] = movimientos_df.apply(f,axis=1)\n",
    "\n",
    "f2 = lambda x: x[\"date\"].strftime(\"%Y%m%d\") + str(x[\"id_line\"])\n",
    "frecuencias_df_new[\"dateline_join\"] = frecuencias_df_new.apply(f2,axis=1)\n",
    "frecuencias_df_new.sort_values(['id_line','date'],inplace=True)"
   ]
  },
  {
   "cell_type": "code",
   "execution_count": 70,
   "metadata": {},
   "outputs": [
    {
     "data": {
      "text/html": [
       "<div>\n",
       "<style scoped>\n",
       "    .dataframe tbody tr th:only-of-type {\n",
       "        vertical-align: middle;\n",
       "    }\n",
       "\n",
       "    .dataframe tbody tr th {\n",
       "        vertical-align: top;\n",
       "    }\n",
       "\n",
       "    .dataframe thead th {\n",
       "        text-align: right;\n",
       "    }\n",
       "</style>\n",
       "<table border=\"1\" class=\"dataframe\">\n",
       "  <thead>\n",
       "    <tr style=\"text-align: right;\">\n",
       "      <th></th>\n",
       "      <th>user_day_code</th>\n",
       "      <th>user_type</th>\n",
       "      <th>travel_time</th>\n",
       "      <th>idunplug_station</th>\n",
       "      <th>ageRange</th>\n",
       "      <th>idplug_station</th>\n",
       "      <th>date</th>\n",
       "      <th>id_line</th>\n",
       "      <th>id_header_A</th>\n",
       "      <th>id_header_B</th>\n",
       "      <th>direction</th>\n",
       "      <th>dateline_join</th>\n",
       "    </tr>\n",
       "  </thead>\n",
       "  <tbody>\n",
       "    <tr>\n",
       "      <th>0</th>\n",
       "      <td>5876778a2a6a59f97028d504c89d516e36bf94e6480b4f...</td>\n",
       "      <td>1</td>\n",
       "      <td>1672</td>\n",
       "      <td>141</td>\n",
       "      <td>4</td>\n",
       "      <td>49</td>\n",
       "      <td>2017-04-12T17:00:00.000+0200</td>\n",
       "      <td>3</td>\n",
       "      <td>1885</td>\n",
       "      <td>1855</td>\n",
       "      <td>AtoB</td>\n",
       "      <td>201704123</td>\n",
       "    </tr>\n",
       "    <tr>\n",
       "      <th>1</th>\n",
       "      <td>1c7b8e5eb895cb7268cbf215cfe09598d557711ec6b839...</td>\n",
       "      <td>1</td>\n",
       "      <td>1724</td>\n",
       "      <td>49</td>\n",
       "      <td>4</td>\n",
       "      <td>141</td>\n",
       "      <td>2017-04-23T16:00:00.000+0200</td>\n",
       "      <td>3</td>\n",
       "      <td>1885</td>\n",
       "      <td>1855</td>\n",
       "      <td>BtoA</td>\n",
       "      <td>201704233</td>\n",
       "    </tr>\n",
       "  </tbody>\n",
       "</table>\n",
       "</div>"
      ],
      "text/plain": [
       "                                       user_day_code  user_type  travel_time  \\\n",
       "0  5876778a2a6a59f97028d504c89d516e36bf94e6480b4f...          1         1672   \n",
       "1  1c7b8e5eb895cb7268cbf215cfe09598d557711ec6b839...          1         1724   \n",
       "\n",
       "   idunplug_station  ageRange  idplug_station                          date  \\\n",
       "0               141         4              49  2017-04-12T17:00:00.000+0200   \n",
       "1                49         4             141  2017-04-23T16:00:00.000+0200   \n",
       "\n",
       "   id_line  id_header_A  id_header_B direction dateline_join  \n",
       "0        3         1885         1855      AtoB     201704123  \n",
       "1        3         1885         1855      BtoA     201704233  "
      ]
     },
     "execution_count": 70,
     "metadata": {},
     "output_type": "execute_result"
    }
   ],
   "source": [
    "movimientos_df.head(2)"
   ]
  },
  {
   "cell_type": "code",
   "execution_count": 308,
   "metadata": {},
   "outputs": [
    {
     "data": {
      "text/html": [
       "<div>\n",
       "<style scoped>\n",
       "    .dataframe tbody tr th:only-of-type {\n",
       "        vertical-align: middle;\n",
       "    }\n",
       "\n",
       "    .dataframe tbody tr th {\n",
       "        vertical-align: top;\n",
       "    }\n",
       "\n",
       "    .dataframe thead th {\n",
       "        text-align: right;\n",
       "    }\n",
       "</style>\n",
       "<table border=\"1\" class=\"dataframe\">\n",
       "  <thead>\n",
       "    <tr style=\"text-align: right;\">\n",
       "      <th></th>\n",
       "      <th>date</th>\n",
       "      <th>id_line</th>\n",
       "      <th>day_type</th>\n",
       "      <th>date_month</th>\n",
       "      <th>month_line_day_type</th>\n",
       "      <th>dir1_min_freq</th>\n",
       "      <th>dir1_max_freq</th>\n",
       "      <th>dateline_join</th>\n",
       "    </tr>\n",
       "  </thead>\n",
       "  <tbody>\n",
       "    <tr>\n",
       "      <th>0</th>\n",
       "      <td>2017-04-12</td>\n",
       "      <td>3</td>\n",
       "      <td>LA</td>\n",
       "      <td>2017-04</td>\n",
       "      <td>201704LA3</td>\n",
       "      <td>7</td>\n",
       "      <td>14</td>\n",
       "      <td>201704123</td>\n",
       "    </tr>\n",
       "    <tr>\n",
       "      <th>1</th>\n",
       "      <td>2017-04-23</td>\n",
       "      <td>3</td>\n",
       "      <td>FE</td>\n",
       "      <td>2017-04</td>\n",
       "      <td>201704FE3</td>\n",
       "      <td>11</td>\n",
       "      <td>34</td>\n",
       "      <td>201704233</td>\n",
       "    </tr>\n",
       "    <tr>\n",
       "      <th>238</th>\n",
       "      <td>2017-05-05</td>\n",
       "      <td>3</td>\n",
       "      <td>LA</td>\n",
       "      <td>2017-05</td>\n",
       "      <td>201705LA3</td>\n",
       "      <td>7</td>\n",
       "      <td>14</td>\n",
       "      <td>201705053</td>\n",
       "    </tr>\n",
       "  </tbody>\n",
       "</table>\n",
       "</div>"
      ],
      "text/plain": [
       "          date  id_line day_type date_month month_line_day_type dir1_min_freq  \\\n",
       "0   2017-04-12        3       LA    2017-04           201704LA3             7   \n",
       "1   2017-04-23        3       FE    2017-04           201704FE3            11   \n",
       "238 2017-05-05        3       LA    2017-05           201705LA3             7   \n",
       "\n",
       "    dir1_max_freq dateline_join  \n",
       "0              14     201704123  \n",
       "1              34     201704233  \n",
       "238            14     201705053  "
      ]
     },
     "execution_count": 308,
     "metadata": {},
     "output_type": "execute_result"
    }
   ],
   "source": [
    "frecuencias_df_new.head(3)"
   ]
  },
  {
   "cell_type": "code",
   "execution_count": 314,
   "metadata": {},
   "outputs": [],
   "source": [
    "movimientos_df_new =  movimientos_df.merge(frecuencias_df_new, on='dateline_join',how='inner')\n",
    "movimientos_df_new.rename(columns={'date_x': 'date', 'id_line_x': 'id_line'}, inplace=True)\n",
    "movimientos_df_new.drop(['id_line_y','date_y','dateline_join','date_month','month_line_day_type'], axis=1, inplace=True)"
   ]
  },
  {
   "cell_type": "code",
   "execution_count": 311,
   "metadata": {},
   "outputs": [
    {
     "data": {
      "text/plain": [
       "(26737, 16)"
      ]
     },
     "execution_count": 311,
     "metadata": {},
     "output_type": "execute_result"
    }
   ],
   "source": [
    "movimientos_df_new.shape"
   ]
  },
  {
   "cell_type": "code",
   "execution_count": 315,
   "metadata": {},
   "outputs": [
    {
     "data": {
      "text/html": [
       "<div>\n",
       "<style scoped>\n",
       "    .dataframe tbody tr th:only-of-type {\n",
       "        vertical-align: middle;\n",
       "    }\n",
       "\n",
       "    .dataframe tbody tr th {\n",
       "        vertical-align: top;\n",
       "    }\n",
       "\n",
       "    .dataframe thead th {\n",
       "        text-align: right;\n",
       "    }\n",
       "</style>\n",
       "<table border=\"1\" class=\"dataframe\">\n",
       "  <thead>\n",
       "    <tr style=\"text-align: right;\">\n",
       "      <th></th>\n",
       "      <th>user_day_code</th>\n",
       "      <th>user_type</th>\n",
       "      <th>travel_time</th>\n",
       "      <th>idunplug_station</th>\n",
       "      <th>ageRange</th>\n",
       "      <th>idplug_station</th>\n",
       "      <th>date</th>\n",
       "      <th>id_line</th>\n",
       "      <th>id_header_A</th>\n",
       "      <th>id_header_B</th>\n",
       "      <th>direction</th>\n",
       "      <th>day_type</th>\n",
       "      <th>dir1_min_freq</th>\n",
       "      <th>dir1_max_freq</th>\n",
       "    </tr>\n",
       "  </thead>\n",
       "  <tbody>\n",
       "    <tr>\n",
       "      <th>20896</th>\n",
       "      <td>c46b1413362b6f9277b2aba16406d1ac62d16a23518f45...</td>\n",
       "      <td>1</td>\n",
       "      <td>1359</td>\n",
       "      <td>148</td>\n",
       "      <td>4</td>\n",
       "      <td>135</td>\n",
       "      <td>2019-02-02T13:00:00.000+0100</td>\n",
       "      <td>19</td>\n",
       "      <td>5167</td>\n",
       "      <td>1171</td>\n",
       "      <td>BtoA</td>\n",
       "      <td>SA</td>\n",
       "      <td>9</td>\n",
       "      <td>20</td>\n",
       "    </tr>\n",
       "    <tr>\n",
       "      <th>5421</th>\n",
       "      <td>d1812ed2c52080b718df3270a2ea47d7f39ec9842039f2...</td>\n",
       "      <td>1</td>\n",
       "      <td>1021</td>\n",
       "      <td>49</td>\n",
       "      <td>4</td>\n",
       "      <td>131</td>\n",
       "      <td>2017-09-14T13:00:00.000+0200</td>\n",
       "      <td>362</td>\n",
       "      <td>80</td>\n",
       "      <td>289</td>\n",
       "      <td>BtoA</td>\n",
       "      <td>LA</td>\n",
       "      <td>11</td>\n",
       "      <td>24</td>\n",
       "    </tr>\n",
       "    <tr>\n",
       "      <th>589</th>\n",
       "      <td>43c250b5b829bc19f8ba905a6f9171aad52670fec38083...</td>\n",
       "      <td>1</td>\n",
       "      <td>5734</td>\n",
       "      <td>53</td>\n",
       "      <td>3</td>\n",
       "      <td>1</td>\n",
       "      <td>2017-04-15T00:00:00.000+0200</td>\n",
       "      <td>601</td>\n",
       "      <td>5837</td>\n",
       "      <td>4057</td>\n",
       "      <td>AtoB</td>\n",
       "      <td>SA</td>\n",
       "      <td>12</td>\n",
       "      <td>20</td>\n",
       "    </tr>\n",
       "  </tbody>\n",
       "</table>\n",
       "</div>"
      ],
      "text/plain": [
       "                                           user_day_code  user_type  \\\n",
       "20896  c46b1413362b6f9277b2aba16406d1ac62d16a23518f45...          1   \n",
       "5421   d1812ed2c52080b718df3270a2ea47d7f39ec9842039f2...          1   \n",
       "589    43c250b5b829bc19f8ba905a6f9171aad52670fec38083...          1   \n",
       "\n",
       "       travel_time  idunplug_station  ageRange  idplug_station  \\\n",
       "20896         1359               148         4             135   \n",
       "5421          1021                49         4             131   \n",
       "589           5734                53         3               1   \n",
       "\n",
       "                               date  id_line  id_header_A  id_header_B  \\\n",
       "20896  2019-02-02T13:00:00.000+0100       19         5167         1171   \n",
       "5421   2017-09-14T13:00:00.000+0200      362           80          289   \n",
       "589    2017-04-15T00:00:00.000+0200      601         5837         4057   \n",
       "\n",
       "      direction day_type dir1_min_freq dir1_max_freq  \n",
       "20896      BtoA       SA             9            20  \n",
       "5421       BtoA       LA            11            24  \n",
       "589        AtoB       SA            12            20  "
      ]
     },
     "execution_count": 315,
     "metadata": {},
     "output_type": "execute_result"
    }
   ],
   "source": [
    "movimientos_df_new.sample(3)"
   ]
  },
  {
   "cell_type": "markdown",
   "metadata": {},
   "source": [
    "##### Revisamos si hay nulos"
   ]
  },
  {
   "cell_type": "code",
   "execution_count": 129,
   "metadata": {},
   "outputs": [
    {
     "data": {
      "text/html": [
       "<div>\n",
       "<style scoped>\n",
       "    .dataframe tbody tr th:only-of-type {\n",
       "        vertical-align: middle;\n",
       "    }\n",
       "\n",
       "    .dataframe tbody tr th {\n",
       "        vertical-align: top;\n",
       "    }\n",
       "\n",
       "    .dataframe thead th {\n",
       "        text-align: right;\n",
       "    }\n",
       "</style>\n",
       "<table border=\"1\" class=\"dataframe\">\n",
       "  <thead>\n",
       "    <tr style=\"text-align: right;\">\n",
       "      <th></th>\n",
       "      <th>user_day_code</th>\n",
       "      <th>user_type</th>\n",
       "      <th>travel_time</th>\n",
       "      <th>idunplug_station</th>\n",
       "      <th>ageRange</th>\n",
       "      <th>idplug_station</th>\n",
       "      <th>date</th>\n",
       "      <th>id_header_A</th>\n",
       "      <th>id_header_B</th>\n",
       "      <th>direction</th>\n",
       "      <th>day_type</th>\n",
       "      <th>dir1_min_freq</th>\n",
       "      <th>dir1_max_freq</th>\n",
       "    </tr>\n",
       "    <tr>\n",
       "      <th>id_line</th>\n",
       "      <th></th>\n",
       "      <th></th>\n",
       "      <th></th>\n",
       "      <th></th>\n",
       "      <th></th>\n",
       "      <th></th>\n",
       "      <th></th>\n",
       "      <th></th>\n",
       "      <th></th>\n",
       "      <th></th>\n",
       "      <th></th>\n",
       "      <th></th>\n",
       "      <th></th>\n",
       "    </tr>\n",
       "  </thead>\n",
       "  <tbody>\n",
       "  </tbody>\n",
       "</table>\n",
       "</div>"
      ],
      "text/plain": [
       "Empty DataFrame\n",
       "Columns: [user_day_code, user_type, travel_time, idunplug_station, ageRange, idplug_station, date, id_header_A, id_header_B, direction, day_type, dir1_min_freq, dir1_max_freq]\n",
       "Index: []"
      ]
     },
     "execution_count": 129,
     "metadata": {},
     "output_type": "execute_result"
    }
   ],
   "source": [
    "movimientos_df_new[(movimientos_df_new['dir1_min_freq'].isna()) | (movimientos_df_new['dir1_max_freq'].isna())].groupby('id_line').count()"
   ]
  },
  {
   "cell_type": "code",
   "execution_count": 316,
   "metadata": {},
   "outputs": [],
   "source": [
    "movimientos_df_new.to_csv('movimientos_general_con_frecuencias.csv',sep=\";\",index=False)"
   ]
  }
 ],
 "metadata": {
  "kernelspec": {
   "display_name": "Python 3",
   "language": "python",
   "name": "python3"
  },
  "language_info": {
   "codemirror_mode": {
    "name": "ipython",
    "version": 3
   },
   "file_extension": ".py",
   "mimetype": "text/x-python",
   "name": "python",
   "nbconvert_exporter": "python",
   "pygments_lexer": "ipython3",
   "version": "3.7.4"
  }
 },
 "nbformat": 4,
 "nbformat_minor": 4
}
