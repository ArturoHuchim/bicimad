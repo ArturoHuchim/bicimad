{
 "cells": [
  {
   "cell_type": "code",
   "execution_count": 34,
   "metadata": {},
   "outputs": [],
   "source": [
    "from math import sin, cos,asin, degrees,sqrt, atan2, radians\n",
    "import json\n",
    "import pandas as pd\n",
    "import numpy as np\n",
    "import csv\n",
    "from shapely.geometry import Point\n",
    "from shapely.geometry.polygon import Polygon"
   ]
  },
  {
   "cell_type": "code",
   "execution_count": 48,
   "metadata": {},
   "outputs": [],
   "source": [
    "cabeceras = pd.read_csv('estaciones_dentro_bicimad.csv', sep=\";\", header=0)\n",
    "bicimad_df = pd.read_csv('bicimad_stations.csv', sep=\";\", header=0) "
   ]
  },
  {
   "cell_type": "markdown",
   "metadata": {},
   "source": [
    "## 4.3.1 Clasificación de las líneas que empiecen y terminen dentro de la zona"
   ]
  },
  {
   "cell_type": "code",
   "execution_count": 37,
   "metadata": {},
   "outputs": [],
   "source": [
    "def get_lines(df):\n",
    "    iguales = df.groupby('id_line')\n",
    "    res = iguales.filter(lambda x: len(x) >= 2)\n",
    "    return res"
   ]
  },
  {
   "cell_type": "code",
   "execution_count": 38,
   "metadata": {},
   "outputs": [],
   "source": [
    "cabeceras_biciMAD = get_lines(cabeceras).sort_values(['id_line','type_header'])"
   ]
  },
  {
   "cell_type": "markdown",
   "metadata": {},
   "source": [
    "##### Número de lineas encontradas"
   ]
  },
  {
   "cell_type": "code",
   "execution_count": 39,
   "metadata": {},
   "outputs": [
    {
     "data": {
      "text/plain": [
       "21"
      ]
     },
     "execution_count": 39,
     "metadata": {},
     "output_type": "execute_result"
    }
   ],
   "source": [
    "cabeceras_biciMAD.groupby('id_line').size().count()"
   ]
  },
  {
   "cell_type": "code",
   "execution_count": 43,
   "metadata": {},
   "outputs": [
    {
     "data": {
      "text/html": [
       "<div>\n",
       "<style scoped>\n",
       "    .dataframe tbody tr th:only-of-type {\n",
       "        vertical-align: middle;\n",
       "    }\n",
       "\n",
       "    .dataframe tbody tr th {\n",
       "        vertical-align: top;\n",
       "    }\n",
       "\n",
       "    .dataframe thead th {\n",
       "        text-align: right;\n",
       "    }\n",
       "</style>\n",
       "<table border=\"1\" class=\"dataframe\">\n",
       "  <thead>\n",
       "    <tr style=\"text-align: right;\">\n",
       "      <th></th>\n",
       "      <th>id_line</th>\n",
       "      <th>label</th>\n",
       "      <th>type_header</th>\n",
       "      <th>id_header</th>\n",
       "      <th>name_header</th>\n",
       "      <th>latitude</th>\n",
       "      <th>longitude</th>\n",
       "    </tr>\n",
       "  </thead>\n",
       "  <tbody>\n",
       "    <tr>\n",
       "      <th>126</th>\n",
       "      <td>1</td>\n",
       "      <td>1</td>\n",
       "      <td>headerA</td>\n",
       "      <td>4514</td>\n",
       "      <td>Cristo Rey</td>\n",
       "      <td>40.438475</td>\n",
       "      <td>-3.717931</td>\n",
       "    </tr>\n",
       "    <tr>\n",
       "      <th>174</th>\n",
       "      <td>1</td>\n",
       "      <td>1</td>\n",
       "      <td>headerB</td>\n",
       "      <td>273</td>\n",
       "      <td>Prosperidad</td>\n",
       "      <td>40.443801</td>\n",
       "      <td>-3.674896</td>\n",
       "    </tr>\n",
       "    <tr>\n",
       "      <th>59</th>\n",
       "      <td>3</td>\n",
       "      <td>3</td>\n",
       "      <td>headerA</td>\n",
       "      <td>1885</td>\n",
       "      <td>Puerta de Toledo</td>\n",
       "      <td>40.406352</td>\n",
       "      <td>-3.711462</td>\n",
       "    </tr>\n",
       "    <tr>\n",
       "      <th>146</th>\n",
       "      <td>3</td>\n",
       "      <td>3</td>\n",
       "      <td>headerB</td>\n",
       "      <td>1855</td>\n",
       "      <td>San Amaro</td>\n",
       "      <td>40.455057</td>\n",
       "      <td>-3.697000</td>\n",
       "    </tr>\n",
       "    <tr>\n",
       "      <th>127</th>\n",
       "      <td>12</td>\n",
       "      <td>12</td>\n",
       "      <td>headerA</td>\n",
       "      <td>4541</td>\n",
       "      <td>Cristo Rey</td>\n",
       "      <td>40.439460</td>\n",
       "      <td>-3.715913</td>\n",
       "    </tr>\n",
       "    <tr>\n",
       "      <th>167</th>\n",
       "      <td>12</td>\n",
       "      <td>12</td>\n",
       "      <td>headerB</td>\n",
       "      <td>779</td>\n",
       "      <td>Marqués de Zafra</td>\n",
       "      <td>40.425278</td>\n",
       "      <td>-3.661794</td>\n",
       "    </tr>\n",
       "    <tr>\n",
       "      <th>143</th>\n",
       "      <td>19</td>\n",
       "      <td>19</td>\n",
       "      <td>headerA</td>\n",
       "      <td>5167</td>\n",
       "      <td>Plaza de Cataluña</td>\n",
       "      <td>40.448658</td>\n",
       "      <td>-3.678621</td>\n",
       "    </tr>\n",
       "    <tr>\n",
       "      <th>150</th>\n",
       "      <td>19</td>\n",
       "      <td>19</td>\n",
       "      <td>headerB</td>\n",
       "      <td>1171</td>\n",
       "      <td>Legazpi</td>\n",
       "      <td>40.392147</td>\n",
       "      <td>-3.694757</td>\n",
       "    </tr>\n",
       "    <tr>\n",
       "      <th>56</th>\n",
       "      <td>26</td>\n",
       "      <td>26</td>\n",
       "      <td>headerA</td>\n",
       "      <td>1919</td>\n",
       "      <td>Tirso de Molina</td>\n",
       "      <td>40.412547</td>\n",
       "      <td>-3.704619</td>\n",
       "    </tr>\n",
       "    <tr>\n",
       "      <th>142</th>\n",
       "      <td>26</td>\n",
       "      <td>26</td>\n",
       "      <td>headerB</td>\n",
       "      <td>2223</td>\n",
       "      <td>Diego de León</td>\n",
       "      <td>40.434293</td>\n",
       "      <td>-3.674781</td>\n",
       "    </tr>\n",
       "    <tr>\n",
       "      <th>61</th>\n",
       "      <td>27</td>\n",
       "      <td>27</td>\n",
       "      <td>headerA</td>\n",
       "      <td>86</td>\n",
       "      <td>Embajadores</td>\n",
       "      <td>40.405435</td>\n",
       "      <td>-3.702417</td>\n",
       "    </tr>\n",
       "    <tr>\n",
       "      <th>175</th>\n",
       "      <td>27</td>\n",
       "      <td>27</td>\n",
       "      <td>headerB</td>\n",
       "      <td>5602</td>\n",
       "      <td>Plaza Castilla</td>\n",
       "      <td>40.466725</td>\n",
       "      <td>-3.689285</td>\n",
       "    </tr>\n",
       "    <tr>\n",
       "      <th>130</th>\n",
       "      <td>37</td>\n",
       "      <td>37</td>\n",
       "      <td>headerA</td>\n",
       "      <td>1381</td>\n",
       "      <td>Cuatro Caminos</td>\n",
       "      <td>40.445487</td>\n",
       "      <td>-3.704184</td>\n",
       "    </tr>\n",
       "    <tr>\n",
       "      <th>159</th>\n",
       "      <td>37</td>\n",
       "      <td>37</td>\n",
       "      <td>headerB</td>\n",
       "      <td>1000</td>\n",
       "      <td>Puente de Vallecas</td>\n",
       "      <td>40.398112</td>\n",
       "      <td>-3.669397</td>\n",
       "    </tr>\n",
       "    <tr>\n",
       "      <th>101</th>\n",
       "      <td>43</td>\n",
       "      <td>43</td>\n",
       "      <td>headerA</td>\n",
       "      <td>1251</td>\n",
       "      <td>Felipe II</td>\n",
       "      <td>40.424113</td>\n",
       "      <td>-3.676306</td>\n",
       "    </tr>\n",
       "    <tr>\n",
       "      <th>145</th>\n",
       "      <td>43</td>\n",
       "      <td>43</td>\n",
       "      <td>headerB</td>\n",
       "      <td>1860</td>\n",
       "      <td>Estrecho</td>\n",
       "      <td>40.452786</td>\n",
       "      <td>-3.702468</td>\n",
       "    </tr>\n",
       "    <tr>\n",
       "      <th>3</th>\n",
       "      <td>46</td>\n",
       "      <td>46</td>\n",
       "      <td>headerA</td>\n",
       "      <td>2056</td>\n",
       "      <td>Sevilla</td>\n",
       "      <td>40.418253</td>\n",
       "      <td>-3.698951</td>\n",
       "    </tr>\n",
       "    <tr>\n",
       "      <th>113</th>\n",
       "      <td>46</td>\n",
       "      <td>46</td>\n",
       "      <td>headerB</td>\n",
       "      <td>2419</td>\n",
       "      <td>Moncloa</td>\n",
       "      <td>40.433955</td>\n",
       "      <td>-3.718908</td>\n",
       "    </tr>\n",
       "    <tr>\n",
       "      <th>140</th>\n",
       "      <td>56</td>\n",
       "      <td>56</td>\n",
       "      <td>headerA</td>\n",
       "      <td>2224</td>\n",
       "      <td>Diego de León</td>\n",
       "      <td>40.434155</td>\n",
       "      <td>-3.675157</td>\n",
       "    </tr>\n",
       "    <tr>\n",
       "      <th>160</th>\n",
       "      <td>56</td>\n",
       "      <td>56</td>\n",
       "      <td>headerB</td>\n",
       "      <td>1000</td>\n",
       "      <td>Puente de Vallecas</td>\n",
       "      <td>40.398112</td>\n",
       "      <td>-3.669397</td>\n",
       "    </tr>\n",
       "    <tr>\n",
       "      <th>124</th>\n",
       "      <td>61</td>\n",
       "      <td>61</td>\n",
       "      <td>headerA</td>\n",
       "      <td>543</td>\n",
       "      <td>Moncloa</td>\n",
       "      <td>40.434615</td>\n",
       "      <td>-3.717029</td>\n",
       "    </tr>\n",
       "    <tr>\n",
       "      <th>77</th>\n",
       "      <td>61</td>\n",
       "      <td>61</td>\n",
       "      <td>headerB</td>\n",
       "      <td>3937</td>\n",
       "      <td>Narváez</td>\n",
       "      <td>40.415682</td>\n",
       "      <td>-3.676764</td>\n",
       "    </tr>\n",
       "    <tr>\n",
       "      <th>133</th>\n",
       "      <td>68</td>\n",
       "      <td>C1</td>\n",
       "      <td>headerA</td>\n",
       "      <td>1890</td>\n",
       "      <td>Cuatro Caminos</td>\n",
       "      <td>40.446841</td>\n",
       "      <td>-3.703078</td>\n",
       "    </tr>\n",
       "    <tr>\n",
       "      <th>60</th>\n",
       "      <td>68</td>\n",
       "      <td>C1</td>\n",
       "      <td>headerB</td>\n",
       "      <td>2355</td>\n",
       "      <td>Embajadores</td>\n",
       "      <td>40.405426</td>\n",
       "      <td>-3.703756</td>\n",
       "    </tr>\n",
       "    <tr>\n",
       "      <th>134</th>\n",
       "      <td>69</td>\n",
       "      <td>C2</td>\n",
       "      <td>headerA</td>\n",
       "      <td>1940</td>\n",
       "      <td>Cuatro Caminos</td>\n",
       "      <td>40.446935</td>\n",
       "      <td>-3.703035</td>\n",
       "    </tr>\n",
       "    <tr>\n",
       "      <th>62</th>\n",
       "      <td>69</td>\n",
       "      <td>C2</td>\n",
       "      <td>headerB</td>\n",
       "      <td>5104</td>\n",
       "      <td>Embajadores</td>\n",
       "      <td>40.405136</td>\n",
       "      <td>-3.701912</td>\n",
       "    </tr>\n",
       "    <tr>\n",
       "      <th>16</th>\n",
       "      <td>148</td>\n",
       "      <td>148</td>\n",
       "      <td>headerA</td>\n",
       "      <td>5571</td>\n",
       "      <td>Callao</td>\n",
       "      <td>40.420192</td>\n",
       "      <td>-3.706812</td>\n",
       "    </tr>\n",
       "    <tr>\n",
       "      <th>163</th>\n",
       "      <td>148</td>\n",
       "      <td>148</td>\n",
       "      <td>headerB</td>\n",
       "      <td>3662</td>\n",
       "      <td>Puente de Vallecas</td>\n",
       "      <td>40.398483</td>\n",
       "      <td>-3.669974</td>\n",
       "    </tr>\n",
       "    <tr>\n",
       "      <th>18</th>\n",
       "      <td>149</td>\n",
       "      <td>149</td>\n",
       "      <td>headerA</td>\n",
       "      <td>4229</td>\n",
       "      <td>Tribunal</td>\n",
       "      <td>40.426719</td>\n",
       "      <td>-3.700057</td>\n",
       "    </tr>\n",
       "    <tr>\n",
       "      <th>184</th>\n",
       "      <td>149</td>\n",
       "      <td>149</td>\n",
       "      <td>headerB</td>\n",
       "      <td>1531</td>\n",
       "      <td>Plaza Castilla</td>\n",
       "      <td>40.465538</td>\n",
       "      <td>-3.690433</td>\n",
       "    </tr>\n",
       "    <tr>\n",
       "      <th>96</th>\n",
       "      <td>152</td>\n",
       "      <td>152</td>\n",
       "      <td>headerA</td>\n",
       "      <td>2153</td>\n",
       "      <td>Felipe II</td>\n",
       "      <td>40.424315</td>\n",
       "      <td>-3.676277</td>\n",
       "    </tr>\n",
       "    <tr>\n",
       "      <th>165</th>\n",
       "      <td>152</td>\n",
       "      <td>152</td>\n",
       "      <td>headerB</td>\n",
       "      <td>2921</td>\n",
       "      <td>Méndez Álvaro-Terminal</td>\n",
       "      <td>40.393582</td>\n",
       "      <td>-3.677686</td>\n",
       "    </tr>\n",
       "    <tr>\n",
       "      <th>111</th>\n",
       "      <td>156</td>\n",
       "      <td>156</td>\n",
       "      <td>headerA</td>\n",
       "      <td>147</td>\n",
       "      <td>Manuel Becerra</td>\n",
       "      <td>40.428641</td>\n",
       "      <td>-3.669139</td>\n",
       "    </tr>\n",
       "    <tr>\n",
       "      <th>156</th>\n",
       "      <td>156</td>\n",
       "      <td>156</td>\n",
       "      <td>headerB</td>\n",
       "      <td>3644</td>\n",
       "      <td>Legazpi</td>\n",
       "      <td>40.390726</td>\n",
       "      <td>-3.694412</td>\n",
       "    </tr>\n",
       "    <tr>\n",
       "      <th>103</th>\n",
       "      <td>215</td>\n",
       "      <td>215</td>\n",
       "      <td>headerA</td>\n",
       "      <td>5298</td>\n",
       "      <td>Felipe II</td>\n",
       "      <td>40.424462</td>\n",
       "      <td>-3.675898</td>\n",
       "    </tr>\n",
       "    <tr>\n",
       "      <th>166</th>\n",
       "      <td>215</td>\n",
       "      <td>215</td>\n",
       "      <td>headerB</td>\n",
       "      <td>4363</td>\n",
       "      <td>Parque Roma</td>\n",
       "      <td>40.416763</td>\n",
       "      <td>-3.663552</td>\n",
       "    </tr>\n",
       "    <tr>\n",
       "      <th>83</th>\n",
       "      <td>361</td>\n",
       "      <td>OO1</td>\n",
       "      <td>headerA</td>\n",
       "      <td>5710</td>\n",
       "      <td>Atocha Renfe</td>\n",
       "      <td>40.406903</td>\n",
       "      <td>-3.689704</td>\n",
       "    </tr>\n",
       "    <tr>\n",
       "      <th>112</th>\n",
       "      <td>361</td>\n",
       "      <td>OO1</td>\n",
       "      <td>headerB</td>\n",
       "      <td>2800</td>\n",
       "      <td>Moncloa</td>\n",
       "      <td>40.434114</td>\n",
       "      <td>-3.718037</td>\n",
       "    </tr>\n",
       "    <tr>\n",
       "      <th>58</th>\n",
       "      <td>362</td>\n",
       "      <td>OO2</td>\n",
       "      <td>headerA</td>\n",
       "      <td>80</td>\n",
       "      <td>Metro Puerta de Toledo</td>\n",
       "      <td>40.407200</td>\n",
       "      <td>-3.711269</td>\n",
       "    </tr>\n",
       "    <tr>\n",
       "      <th>74</th>\n",
       "      <td>362</td>\n",
       "      <td>OO2</td>\n",
       "      <td>headerB</td>\n",
       "      <td>289</td>\n",
       "      <td>Arguelles</td>\n",
       "      <td>40.430514</td>\n",
       "      <td>-3.715236</td>\n",
       "    </tr>\n",
       "    <tr>\n",
       "      <th>7</th>\n",
       "      <td>601</td>\n",
       "      <td>M1</td>\n",
       "      <td>headerA</td>\n",
       "      <td>5837</td>\n",
       "      <td>Sol-Sevilla</td>\n",
       "      <td>40.417408</td>\n",
       "      <td>-3.700132</td>\n",
       "    </tr>\n",
       "    <tr>\n",
       "      <th>66</th>\n",
       "      <td>601</td>\n",
       "      <td>M1</td>\n",
       "      <td>headerB</td>\n",
       "      <td>4057</td>\n",
       "      <td>Embajadores</td>\n",
       "      <td>40.405569</td>\n",
       "      <td>-3.702604</td>\n",
       "    </tr>\n",
       "  </tbody>\n",
       "</table>\n",
       "</div>"
      ],
      "text/plain": [
       "     id_line label type_header  id_header             name_header   latitude  \\\n",
       "126        1     1     headerA       4514              Cristo Rey  40.438475   \n",
       "174        1     1     headerB        273             Prosperidad  40.443801   \n",
       "59         3     3     headerA       1885        Puerta de Toledo  40.406352   \n",
       "146        3     3     headerB       1855               San Amaro  40.455057   \n",
       "127       12    12     headerA       4541              Cristo Rey  40.439460   \n",
       "167       12    12     headerB        779        Marqués de Zafra  40.425278   \n",
       "143       19    19     headerA       5167       Plaza de Cataluña  40.448658   \n",
       "150       19    19     headerB       1171                 Legazpi  40.392147   \n",
       "56        26    26     headerA       1919         Tirso de Molina  40.412547   \n",
       "142       26    26     headerB       2223           Diego de León  40.434293   \n",
       "61        27    27     headerA         86             Embajadores  40.405435   \n",
       "175       27    27     headerB       5602          Plaza Castilla  40.466725   \n",
       "130       37    37     headerA       1381          Cuatro Caminos  40.445487   \n",
       "159       37    37     headerB       1000      Puente de Vallecas  40.398112   \n",
       "101       43    43     headerA       1251               Felipe II  40.424113   \n",
       "145       43    43     headerB       1860                Estrecho  40.452786   \n",
       "3         46    46     headerA       2056                 Sevilla  40.418253   \n",
       "113       46    46     headerB       2419                 Moncloa  40.433955   \n",
       "140       56    56     headerA       2224           Diego de León  40.434155   \n",
       "160       56    56     headerB       1000      Puente de Vallecas  40.398112   \n",
       "124       61    61     headerA        543                 Moncloa  40.434615   \n",
       "77        61    61     headerB       3937                 Narváez  40.415682   \n",
       "133       68    C1     headerA       1890          Cuatro Caminos  40.446841   \n",
       "60        68    C1     headerB       2355             Embajadores  40.405426   \n",
       "134       69    C2     headerA       1940          Cuatro Caminos  40.446935   \n",
       "62        69    C2     headerB       5104             Embajadores  40.405136   \n",
       "16       148   148     headerA       5571                  Callao  40.420192   \n",
       "163      148   148     headerB       3662      Puente de Vallecas  40.398483   \n",
       "18       149   149     headerA       4229                Tribunal  40.426719   \n",
       "184      149   149     headerB       1531          Plaza Castilla  40.465538   \n",
       "96       152   152     headerA       2153               Felipe II  40.424315   \n",
       "165      152   152     headerB       2921  Méndez Álvaro-Terminal  40.393582   \n",
       "111      156   156     headerA        147          Manuel Becerra  40.428641   \n",
       "156      156   156     headerB       3644                 Legazpi  40.390726   \n",
       "103      215   215     headerA       5298               Felipe II  40.424462   \n",
       "166      215   215     headerB       4363             Parque Roma  40.416763   \n",
       "83       361   OO1     headerA       5710            Atocha Renfe  40.406903   \n",
       "112      361   OO1     headerB       2800                 Moncloa  40.434114   \n",
       "58       362   OO2     headerA         80  Metro Puerta de Toledo  40.407200   \n",
       "74       362   OO2     headerB        289               Arguelles  40.430514   \n",
       "7        601    M1     headerA       5837             Sol-Sevilla  40.417408   \n",
       "66       601    M1     headerB       4057             Embajadores  40.405569   \n",
       "\n",
       "     longitude  \n",
       "126  -3.717931  \n",
       "174  -3.674896  \n",
       "59   -3.711462  \n",
       "146  -3.697000  \n",
       "127  -3.715913  \n",
       "167  -3.661794  \n",
       "143  -3.678621  \n",
       "150  -3.694757  \n",
       "56   -3.704619  \n",
       "142  -3.674781  \n",
       "61   -3.702417  \n",
       "175  -3.689285  \n",
       "130  -3.704184  \n",
       "159  -3.669397  \n",
       "101  -3.676306  \n",
       "145  -3.702468  \n",
       "3    -3.698951  \n",
       "113  -3.718908  \n",
       "140  -3.675157  \n",
       "160  -3.669397  \n",
       "124  -3.717029  \n",
       "77   -3.676764  \n",
       "133  -3.703078  \n",
       "60   -3.703756  \n",
       "134  -3.703035  \n",
       "62   -3.701912  \n",
       "16   -3.706812  \n",
       "163  -3.669974  \n",
       "18   -3.700057  \n",
       "184  -3.690433  \n",
       "96   -3.676277  \n",
       "165  -3.677686  \n",
       "111  -3.669139  \n",
       "156  -3.694412  \n",
       "103  -3.675898  \n",
       "166  -3.663552  \n",
       "83   -3.689704  \n",
       "112  -3.718037  \n",
       "58   -3.711269  \n",
       "74   -3.715236  \n",
       "7    -3.700132  \n",
       "66   -3.702604  "
      ]
     },
     "execution_count": 43,
     "metadata": {},
     "output_type": "execute_result"
    }
   ],
   "source": [
    "cabeceras_biciMAD"
   ]
  },
  {
   "cell_type": "markdown",
   "metadata": {},
   "source": [
    "## 4.3.2 Selección de estaciones de bicimad que se encuentran alrededor de las cabeceras de autobuses"
   ]
  },
  {
   "cell_type": "code",
   "execution_count": 8,
   "metadata": {},
   "outputs": [],
   "source": [
    "def calcular_distancia(lat1, lon1, lat2, lon2):\n",
    "    R = 6373.0\n",
    "    lat1 = radians(lat1)\n",
    "    lon1 = radians(lon1)\n",
    "    lat2 = radians(lat2)\n",
    "    lon2 = radians(lon2)\n",
    "    dlon = lon2 - lon1\n",
    "    dlat = lat2 - lat1\n",
    "    a = sin(dlat/2)**2 + cos(lat1) * cos(lat2) * (sin(dlon/2))**2\n",
    "    c = 2 * atan2( sqrt(a), sqrt(1-a) )\n",
    "    return R * c * 1000"
   ]
  },
  {
   "cell_type": "code",
   "execution_count": 9,
   "metadata": {},
   "outputs": [],
   "source": [
    "def loop_distancia(latitud,longitud,radio,df):\n",
    "    res = []\n",
    "    for index, row in df.iterrows():\n",
    "        distancia = calcular_distancia(latitud,longitud,row.latitude,row.longitude) \n",
    "        if distancia <= radio:\n",
    "            res.append(row)\n",
    "    return pd.DataFrame(res) "
   ]
  },
  {
   "cell_type": "code",
   "execution_count": 10,
   "metadata": {},
   "outputs": [],
   "source": [
    "def calcular_distancia_con_estacion_bicimad(latitude, longitude,radio):\n",
    "    return loop_distancia(latitude, longitude,radio,bicimad_df)"
   ]
  },
  {
   "cell_type": "code",
   "execution_count": 11,
   "metadata": {},
   "outputs": [],
   "source": [
    "def estaciones_alrededor_cabeceras(radio,df):\n",
    "    list_aux = []\n",
    "    for index, row in df.iterrows():\n",
    "        res1 = calcular_distancia_con_estacion_bicimad(row.latitude,row.longitude,radio)\n",
    "        if res1.shape[0] > 0:\n",
    "            for index, r in res1.iterrows():\n",
    "                row_aux = row\n",
    "                row_aux['a'] = r.id\n",
    "                list_aux.append(row_aux.tolist())\n",
    "        else:\n",
    "            row_aux = row\n",
    "            row_aux['a'] = 'NA'\n",
    "            list_aux.append(row_aux.tolist())\n",
    "    return pd.DataFrame(list_aux,columns=[\"id_line\",\"label\",\"type_header\",\"id_header\",\"name_header\",\"latitude\",\"longitude\",\"id_bicimad\"])"
   ]
  },
  {
   "cell_type": "markdown",
   "metadata": {},
   "source": [
    "##### Análisis con diferentes distancias de radio"
   ]
  },
  {
   "cell_type": "markdown",
   "metadata": {},
   "source": [
    "##### 100 metros"
   ]
  },
  {
   "cell_type": "code",
   "execution_count": 12,
   "metadata": {},
   "outputs": [],
   "source": [
    "DISTANCIA = 100\n",
    "bicimas_alrededor_total = estaciones_alrededor_cabeceras(DISTANCIA,cabeceras_biciMAD)\n",
    "result = get_lines(bicimas_alrededor_total[bicimas_alrededor_total.id_bicimad != 'NA'])"
   ]
  },
  {
   "cell_type": "markdown",
   "metadata": {},
   "source": [
    "##### Número de cabeceras encontradas"
   ]
  },
  {
   "cell_type": "code",
   "execution_count": 13,
   "metadata": {},
   "outputs": [
    {
     "data": {
      "text/plain": [
       "17"
      ]
     },
     "execution_count": 13,
     "metadata": {},
     "output_type": "execute_result"
    }
   ],
   "source": [
    "result.count()[0]"
   ]
  },
  {
   "cell_type": "markdown",
   "metadata": {},
   "source": [
    "#### Número de lineas encontradas"
   ]
  },
  {
   "cell_type": "code",
   "execution_count": 88,
   "metadata": {},
   "outputs": [
    {
     "data": {
      "text/plain": [
       "6"
      ]
     },
     "execution_count": 88,
     "metadata": {},
     "output_type": "execute_result"
    }
   ],
   "source": [
    "result.groupby('id_line').size().count()"
   ]
  },
  {
   "cell_type": "markdown",
   "metadata": {},
   "source": [
    "##### 200 metros"
   ]
  },
  {
   "cell_type": "code",
   "execution_count": 89,
   "metadata": {},
   "outputs": [],
   "source": [
    "DISTANCIA = 200\n",
    "bicimas_alrededor_total = estaciones_alrededor_cabeceras(DISTANCIA,cabeceras_biciMAD)\n",
    "result = get_lines(bicimas_alrededor_total[bicimas_alrededor_total.id_bicimad != 'NA'])"
   ]
  },
  {
   "cell_type": "markdown",
   "metadata": {},
   "source": [
    "#### Número de cabeceras encontradas"
   ]
  },
  {
   "cell_type": "code",
   "execution_count": 90,
   "metadata": {},
   "outputs": [
    {
     "data": {
      "text/plain": [
       "56"
      ]
     },
     "execution_count": 90,
     "metadata": {},
     "output_type": "execute_result"
    }
   ],
   "source": [
    "result.count()[0]"
   ]
  },
  {
   "cell_type": "markdown",
   "metadata": {},
   "source": [
    "#### Número de lineas encontradas"
   ]
  },
  {
   "cell_type": "code",
   "execution_count": 91,
   "metadata": {},
   "outputs": [
    {
     "data": {
      "text/plain": [
       "19"
      ]
     },
     "execution_count": 91,
     "metadata": {},
     "output_type": "execute_result"
    }
   ],
   "source": [
    "result.groupby('id_line').size().count()"
   ]
  },
  {
   "cell_type": "markdown",
   "metadata": {},
   "source": [
    "##### 250 metros"
   ]
  },
  {
   "cell_type": "code",
   "execution_count": 92,
   "metadata": {},
   "outputs": [],
   "source": [
    "DISTANCIA = 250\n",
    "bicimas_alrededor_total = estaciones_alrededor_cabeceras(DISTANCIA,cabeceras_biciMAD)\n",
    "result = get_lines(bicimas_alrededor_total[bicimas_alrededor_total.id_bicimad != 'NA'])"
   ]
  },
  {
   "cell_type": "markdown",
   "metadata": {},
   "source": [
    "#### Número de cabeceras encontradas"
   ]
  },
  {
   "cell_type": "code",
   "execution_count": 93,
   "metadata": {},
   "outputs": [
    {
     "data": {
      "text/plain": [
       "75"
      ]
     },
     "execution_count": 93,
     "metadata": {},
     "output_type": "execute_result"
    }
   ],
   "source": [
    "result.count()[0]"
   ]
  },
  {
   "cell_type": "markdown",
   "metadata": {},
   "source": [
    "#### Número de lineas encontradas"
   ]
  },
  {
   "cell_type": "code",
   "execution_count": 94,
   "metadata": {},
   "outputs": [
    {
     "data": {
      "text/plain": [
       "21"
      ]
     },
     "execution_count": 94,
     "metadata": {},
     "output_type": "execute_result"
    }
   ],
   "source": [
    "result.groupby('id_line').size().count()"
   ]
  },
  {
   "cell_type": "markdown",
   "metadata": {},
   "source": [
    "##### 300 metros"
   ]
  },
  {
   "cell_type": "code",
   "execution_count": 14,
   "metadata": {},
   "outputs": [
    {
     "name": "stderr",
     "output_type": "stream",
     "text": [
      "C:\\Users\\Arturo\\Anaconda3\\lib\\site-packages\\pandas\\core\\ops\\array_ops.py:253: FutureWarning: elementwise comparison failed; returning scalar instead, but in the future will perform elementwise comparison\n",
      "  res_values = method(rvalues)\n"
     ]
    }
   ],
   "source": [
    "DISTANCIA = 300\n",
    "bicimas_alrededor_total = estaciones_alrededor_cabeceras(DISTANCIA,cabeceras_biciMAD)\n",
    "result = get_lines(bicimas_alrededor_total[bicimas_alrededor_total.id_bicimad != 'NA'])"
   ]
  },
  {
   "cell_type": "markdown",
   "metadata": {},
   "source": [
    "#### Número de cabeceras encontradas"
   ]
  },
  {
   "cell_type": "code",
   "execution_count": 15,
   "metadata": {},
   "outputs": [
    {
     "data": {
      "text/plain": [
       "94"
      ]
     },
     "execution_count": 15,
     "metadata": {},
     "output_type": "execute_result"
    }
   ],
   "source": [
    "bicimas_alrededor_total.count()[0]"
   ]
  },
  {
   "cell_type": "markdown",
   "metadata": {},
   "source": [
    "#### Número de lineas encontradas"
   ]
  },
  {
   "cell_type": "code",
   "execution_count": 16,
   "metadata": {},
   "outputs": [
    {
     "data": {
      "text/plain": [
       "21"
      ]
     },
     "execution_count": 16,
     "metadata": {},
     "output_type": "execute_result"
    }
   ],
   "source": [
    "bicimas_alrededor_total.groupby('id_line').size().count()"
   ]
  },
  {
   "cell_type": "markdown",
   "metadata": {},
   "source": [
    "### Rutas de bicicleta encontradas con al menos una estacion de bici cerca de una cabecera de línea"
   ]
  },
  {
   "cell_type": "code",
   "execution_count": 24,
   "metadata": {},
   "outputs": [
    {
     "name": "stderr",
     "output_type": "stream",
     "text": [
      "C:\\Users\\Arturo\\Anaconda3\\lib\\site-packages\\pandas\\core\\ops\\array_ops.py:253: FutureWarning: elementwise comparison failed; returning scalar instead, but in the future will perform elementwise comparison\n",
      "  res_values = method(rvalues)\n"
     ]
    }
   ],
   "source": [
    "estaciones_bicimad_totales = get_lines(bicimas_alrededor_total[bicimas_alrededor_total.id_bicimad != 'NA'])\n",
    "estaciones_bicimad_totales_a = estaciones_bicimad_totales[estaciones_bicimad_totales.header == 'headerA']\n",
    "estaciones_bicimad_totales_b = estaciones_bicimad_totales[estaciones_bicimad_totales.header == 'headerB']"
   ]
  },
  {
   "cell_type": "code",
   "execution_count": 25,
   "metadata": {
    "scrolled": false
   },
   "outputs": [],
   "source": [
    "estaciones_bicimad_totales = estaciones_bicimad_totales_a.merge(estaciones_bicimad_totales_b,how='inner',on=['id_line'])\n",
    "estaciones_bicimad_totales.columns = estaciones_bicimad_totales.columns.str.replace(\"_x\", \"_origen\")\n",
    "estaciones_bicimad_totales.columns = estaciones_bicimad_totales.columns.str.replace(\"_y\", \"_destino\")"
   ]
  },
  {
   "cell_type": "code",
   "execution_count": 26,
   "metadata": {
    "scrolled": false
   },
   "outputs": [],
   "source": [
    "estaciones_bicimad_totales = estaciones_bicimad_totales.sort_values(['id_line','id_bicimad_origen','id_bicimad_destino'])\n",
    "estaciones_bicimad_totales.drop(['label_origen','header_origen','label_destino','header_destino'], axis=1, inplace=True)"
   ]
  },
  {
   "cell_type": "code",
   "execution_count": 27,
   "metadata": {},
   "outputs": [
    {
     "data": {
      "text/html": [
       "<div>\n",
       "<style scoped>\n",
       "    .dataframe tbody tr th:only-of-type {\n",
       "        vertical-align: middle;\n",
       "    }\n",
       "\n",
       "    .dataframe tbody tr th {\n",
       "        vertical-align: top;\n",
       "    }\n",
       "\n",
       "    .dataframe thead th {\n",
       "        text-align: right;\n",
       "    }\n",
       "</style>\n",
       "<table border=\"1\" class=\"dataframe\">\n",
       "  <thead>\n",
       "    <tr style=\"text-align: right;\">\n",
       "      <th></th>\n",
       "      <th>id_line</th>\n",
       "      <th>id_header_origen</th>\n",
       "      <th>name_header_origen</th>\n",
       "      <th>latitude_origen</th>\n",
       "      <th>longitude_origen</th>\n",
       "      <th>id_bicimad_origen</th>\n",
       "      <th>id_header_destino</th>\n",
       "      <th>name_header_destino</th>\n",
       "      <th>latitude_destino</th>\n",
       "      <th>longitude_destino</th>\n",
       "      <th>id_bicimad_destino</th>\n",
       "    </tr>\n",
       "  </thead>\n",
       "  <tbody>\n",
       "    <tr>\n",
       "      <th>0</th>\n",
       "      <td>1</td>\n",
       "      <td>4514</td>\n",
       "      <td>Cristo Rey</td>\n",
       "      <td>40.438475</td>\n",
       "      <td>-3.717931</td>\n",
       "      <td>160</td>\n",
       "      <td>273</td>\n",
       "      <td>Prosperidad</td>\n",
       "      <td>40.443801</td>\n",
       "      <td>-3.674896</td>\n",
       "      <td>204</td>\n",
       "    </tr>\n",
       "    <tr>\n",
       "      <th>1</th>\n",
       "      <td>3</td>\n",
       "      <td>1885</td>\n",
       "      <td>Puerta de Toledo</td>\n",
       "      <td>40.406352</td>\n",
       "      <td>-3.711462</td>\n",
       "      <td>49</td>\n",
       "      <td>1855</td>\n",
       "      <td>San Amaro</td>\n",
       "      <td>40.455057</td>\n",
       "      <td>-3.697000</td>\n",
       "      <td>141</td>\n",
       "    </tr>\n",
       "    <tr>\n",
       "      <th>2</th>\n",
       "      <td>12</td>\n",
       "      <td>4541</td>\n",
       "      <td>Cristo Rey</td>\n",
       "      <td>40.439460</td>\n",
       "      <td>-3.715913</td>\n",
       "      <td>160</td>\n",
       "      <td>779</td>\n",
       "      <td>Marqués de Zafra</td>\n",
       "      <td>40.425278</td>\n",
       "      <td>-3.661794</td>\n",
       "      <td>193</td>\n",
       "    </tr>\n",
       "    <tr>\n",
       "      <th>3</th>\n",
       "      <td>12</td>\n",
       "      <td>4541</td>\n",
       "      <td>Cristo Rey</td>\n",
       "      <td>40.439460</td>\n",
       "      <td>-3.715913</td>\n",
       "      <td>211</td>\n",
       "      <td>779</td>\n",
       "      <td>Marqués de Zafra</td>\n",
       "      <td>40.425278</td>\n",
       "      <td>-3.661794</td>\n",
       "      <td>193</td>\n",
       "    </tr>\n",
       "    <tr>\n",
       "      <th>4</th>\n",
       "      <td>19</td>\n",
       "      <td>5167</td>\n",
       "      <td>Plaza de Cataluña</td>\n",
       "      <td>40.448658</td>\n",
       "      <td>-3.678621</td>\n",
       "      <td>148</td>\n",
       "      <td>1171</td>\n",
       "      <td>Legazpi</td>\n",
       "      <td>40.392147</td>\n",
       "      <td>-3.694757</td>\n",
       "      <td>135</td>\n",
       "    </tr>\n",
       "  </tbody>\n",
       "</table>\n",
       "</div>"
      ],
      "text/plain": [
       "   id_line  id_header_origen name_header_origen  latitude_origen  \\\n",
       "0        1              4514         Cristo Rey        40.438475   \n",
       "1        3              1885   Puerta de Toledo        40.406352   \n",
       "2       12              4541         Cristo Rey        40.439460   \n",
       "3       12              4541         Cristo Rey        40.439460   \n",
       "4       19              5167  Plaza de Cataluña        40.448658   \n",
       "\n",
       "   longitude_origen  id_bicimad_origen  id_header_destino name_header_destino  \\\n",
       "0         -3.717931                160                273         Prosperidad   \n",
       "1         -3.711462                 49               1855           San Amaro   \n",
       "2         -3.715913                160                779    Marqués de Zafra   \n",
       "3         -3.715913                211                779    Marqués de Zafra   \n",
       "4         -3.678621                148               1171             Legazpi   \n",
       "\n",
       "   latitude_destino  longitude_destino  id_bicimad_destino  \n",
       "0         40.443801          -3.674896                 204  \n",
       "1         40.455057          -3.697000                 141  \n",
       "2         40.425278          -3.661794                 193  \n",
       "3         40.425278          -3.661794                 193  \n",
       "4         40.392147          -3.694757                 135  "
      ]
     },
     "execution_count": 27,
     "metadata": {},
     "output_type": "execute_result"
    }
   ],
   "source": [
    "estaciones_bicimad_totales.head()"
   ]
  },
  {
   "cell_type": "code",
   "execution_count": 28,
   "metadata": {},
   "outputs": [],
   "source": [
    "estaciones_bicimad_totales.to_csv('estaciones_bicimad_totales.csv', sep=';', encoding='utf-8',index=False)"
   ]
  },
  {
   "cell_type": "markdown",
   "metadata": {},
   "source": [
    "##### Número de rutas encontradas con un radio de 300 metros"
   ]
  },
  {
   "cell_type": "code",
   "execution_count": 29,
   "metadata": {},
   "outputs": [
    {
     "data": {
      "text/plain": [
       "106"
      ]
     },
     "execution_count": 29,
     "metadata": {},
     "output_type": "execute_result"
    }
   ],
   "source": [
    "estaciones_bicimad_totales.count()[0]"
   ]
  }
 ],
 "metadata": {
  "kernelspec": {
   "display_name": "Python 3",
   "language": "python",
   "name": "python3"
  },
  "language_info": {
   "codemirror_mode": {
    "name": "ipython",
    "version": 3
   },
   "file_extension": ".py",
   "mimetype": "text/x-python",
   "name": "python",
   "nbconvert_exporter": "python",
   "pygments_lexer": "ipython3",
   "version": "3.7.4"
  }
 },
 "nbformat": 4,
 "nbformat_minor": 4
}
