{
 "cells": [
  {
   "cell_type": "code",
   "execution_count": 2,
   "metadata": {},
   "outputs": [],
   "source": [
    "import requests\n",
    "import json\n",
    "import pandas as pd\n",
    "import csv\n",
    "import time"
   ]
  },
  {
   "cell_type": "code",
   "execution_count": 1,
   "metadata": {},
   "outputs": [],
   "source": [
    "EMAIL = \"\"\n",
    "PASSWORD = \"\"\n",
    "URL_LOGIN = \"https://openapi.emtmadrid.es/v1/mobilitylabs/user/login/\"\n",
    "headers = {\"email\": EMAIL,\"password\":PASSWORD}"
   ]
  },
  {
   "cell_type": "code",
   "execution_count": 3,
   "metadata": {},
   "outputs": [],
   "source": [
    "response = requests.request(\"GET\", URL_LOGIN, headers = headers)"
   ]
  },
  {
   "cell_type": "code",
   "execution_count": 4,
   "metadata": {},
   "outputs": [],
   "source": [
    "response_json = json.loads(response.text)"
   ]
  },
  {
   "cell_type": "code",
   "execution_count": 5,
   "metadata": {},
   "outputs": [],
   "source": [
    "accessToken = response_json[\"data\"][0][\"accessToken\"]"
   ]
  },
  {
   "cell_type": "code",
   "execution_count": 6,
   "metadata": {},
   "outputs": [],
   "source": [
    "headers_token = {\"accessToken\": accessToken}"
   ]
  },
  {
   "cell_type": "code",
   "execution_count": 14,
   "metadata": {},
   "outputs": [],
   "source": [
    "def load_csv(path):\n",
    "    with open(path,\"r\") as input_file:\n",
    "        reader = csv.reader(input_file,delimiter = \";\")\n",
    "        matrix = [row for row in reader]\n",
    "    return matrix"
   ]
  },
  {
   "cell_type": "code",
   "execution_count": 15,
   "metadata": {},
   "outputs": [],
   "source": [
    "def print_csv(file_path, matrix,modificacion):\n",
    "    with open(file_path, modificacion,newline='') as output_file:\n",
    "        writer = csv.writer(output_file, delimiter = \";\")\n",
    "        for row in matrix: \n",
    "            writer.writerow(row)"
   ]
  },
  {
   "cell_type": "markdown",
   "metadata": {},
   "source": [
    "## Timetable trips"
   ]
  },
  {
   "cell_type": "code",
   "execution_count": 9,
   "metadata": {},
   "outputs": [],
   "source": [
    "lineas = load_csv('infoline.csv')"
   ]
  },
  {
   "cell_type": "code",
   "execution_count": 10,
   "metadata": {},
   "outputs": [],
   "source": [
    "def load_csv(path):\n",
    "    with open(path,\"r\") as input_file:\n",
    "        reader = csv.reader(input_file,delimiter = \";\")\n",
    "        matrix = [row for row in reader]\n",
    "    return matrix"
   ]
  },
  {
   "cell_type": "code",
   "execution_count": 11,
   "metadata": {},
   "outputs": [],
   "source": [
    "def print_trips(json):\n",
    "    return [json[\"line\"],json[\"date\"],json[\"tripNum\"],json[\"direction\"],json[\"logicBus\"],\n",
    "            json[\"startTimeTrip\"],json[\"endTimeTrip\"],json[\"dayType\"]]"
   ]
  },
  {
   "cell_type": "code",
   "execution_count": 16,
   "metadata": {},
   "outputs": [],
   "source": [
    "def get_trips(line_id,data_ref):\n",
    "    data = []\n",
    "    time.sleep(0.5)\n",
    "    URL_TIMETABLE_TRIPS = \"https://openapi.emtmadrid.es/v1/transport/busemtmad/lines/\" + str(line_id) + \"/trips/\" + data_ref +\"/\"\n",
    "    response_timetable_trips = requests.request(\"GET\", URL_TIMETABLE_TRIPS, headers = headers_token)\n",
    "    parsed = (json.loads(response_timetable_trips.text)[\"data\"])\n",
    "    for li in parsed:\n",
    "        data.append(print_trips(li))\n",
    "    return data"
   ]
  },
  {
   "cell_type": "code",
   "execution_count": 18,
   "metadata": {},
   "outputs": [],
   "source": [
    "from datetime import date, timedelta\n",
    "sdate = date(2018, 2, 1)  \n",
    "edate = date(2019, 2, 28) \n",
    "delta = edate - sdate      \n",
    "cont = 0\n",
    "for i in range(delta.days + 1):\n",
    "    date = sdate + timedelta(days=i)\n",
    "    fecha = date.strftime('%Y%m%d')\n",
    "    for i in lineas:\n",
    "        cont = cont + 1\n",
    "        print_csv('trips-' + str(cont) +'.csv',get_trips(i[0],fecha),\"a\")"
   ]
  },
  {
   "cell_type": "markdown",
   "metadata": {},
   "source": [
    "### Unir todos los conjuntos de datos"
   ]
  },
  {
   "cell_type": "code",
   "execution_count": 24,
   "metadata": {},
   "outputs": [],
   "source": [
    "from os import listdir\n",
    "PATH = \"trips/\"\n",
    "files = [f for f in listdir(PATH) if \"trips\" in f]"
   ]
  },
  {
   "cell_type": "code",
   "execution_count": 27,
   "metadata": {},
   "outputs": [],
   "source": [
    "files_ = []\n",
    "for f in files:\n",
    "    df = pd.read_csv(PATH + f, sep=\";\", header=None)\n",
    "    files_.append(df)"
   ]
  },
  {
   "cell_type": "code",
   "execution_count": 29,
   "metadata": {},
   "outputs": [],
   "source": [
    "result = pd.concat(files_)\n",
    "result.to_csv('trips.csv', sep=';',index=None, header=None)"
   ]
  },
  {
   "cell_type": "code",
   "execution_count": null,
   "metadata": {},
   "outputs": [],
   "source": []
  },
  {
   "cell_type": "code",
   "execution_count": null,
   "metadata": {},
   "outputs": [],
   "source": []
  },
  {
   "cell_type": "code",
   "execution_count": 8,
   "metadata": {},
   "outputs": [],
   "source": [
    "URL_TIMETABLE_TRIPS = \"https://openapi.emtmadrid.es/v1/transport/busemtmad/lines/1/trips/20180203/\"\n",
    "response_timetable_trips = requests.request(\"GET\", URL_TIMETABLE_TRIPS, headers = headers_token)\n",
    "parsed = (json.loads(response_timetable_trips.text)[\"data\"])"
   ]
  },
  {
   "cell_type": "code",
   "execution_count": 9,
   "metadata": {},
   "outputs": [
    {
     "name": "stdout",
     "output_type": "stream",
     "text": [
      "[{'line': '001', 'date': '03/02/2018', 'tripNum': '0001', 'direction': '2', 'logicBus': '001', 'startTimeTrip': '06:30:00', 'endTimeTrip': '07:05:00', 'dayType': 'SA'}, {'line': '001', 'date': '03/02/2018', 'tripNum': '0002', 'direction': '1', 'logicBus': '001', 'startTimeTrip': '07:05:00', 'endTimeTrip': '07:45:00', 'dayType': 'SA'}, {'line': '001', 'date': '03/02/2018', 'tripNum': '0003', 'direction': '2', 'logicBus': '001', 'startTimeTrip': '07:45:00', 'endTimeTrip': '08:25:00', 'dayType': 'SA'}, {'line': '001', 'date': '03/02/2018', 'tripNum': '0004', 'direction': '1', 'logicBus': '001', 'startTimeTrip': '08:25:00', 'endTimeTrip': '09:17:00', 'dayType': 'SA'}, {'line': '001', 'date': '03/02/2018', 'tripNum': '0005', 'direction': '2', 'logicBus': '001', 'startTimeTrip': '09:17:00', 'endTimeTrip': '10:03:00', 'dayType': 'SA'}, {'line': '001', 'date': '03/02/2018', 'tripNum': '0006', 'direction': '1', 'logicBus': '001', 'startTimeTrip': '10:03:00', 'endTimeTrip': '10:57:00', 'dayType': 'SA'}, {'line': '001', 'date': '03/02/2018', 'tripNum': '0007', 'direction': '2', 'logicBus': '001', 'startTimeTrip': '10:57:00', 'endTimeTrip': '11:52:00', 'dayType': 'SA'}, {'line': '001', 'date': '03/02/2018', 'tripNum': '0008', 'direction': '1', 'logicBus': '001', 'startTimeTrip': '11:52:00', 'endTimeTrip': '12:42:00', 'dayType': 'SA'}, {'line': '001', 'date': '03/02/2018', 'tripNum': '0009', 'direction': '2', 'logicBus': '001', 'startTimeTrip': '12:42:00', 'endTimeTrip': '13:37:00', 'dayType': 'SA'}, {'line': '001', 'date': '03/02/2018', 'tripNum': '0010', 'direction': '1', 'logicBus': '001', 'startTimeTrip': '13:37:00', 'endTimeTrip': '14:33:00', 'dayType': 'SA'}, {'line': '001', 'date': '03/02/2018', 'tripNum': '0011', 'direction': '2', 'logicBus': '001', 'startTimeTrip': '14:33:00', 'endTimeTrip': '15:24:00', 'dayType': 'SA'}, {'line': '001', 'date': '03/02/2018', 'tripNum': '0012', 'direction': '1', 'logicBus': '001', 'startTimeTrip': '15:24:00', 'endTimeTrip': '16:10:00', 'dayType': 'SA'}, {'line': '001', 'date': '03/02/2018', 'tripNum': '0013', 'direction': '2', 'logicBus': '001', 'startTimeTrip': '16:10:00', 'endTimeTrip': '17:01:00', 'dayType': 'SA'}, {'line': '001', 'date': '03/02/2018', 'tripNum': '0014', 'direction': '1', 'logicBus': '001', 'startTimeTrip': '17:01:00', 'endTimeTrip': '18:02:00', 'dayType': 'SA'}, {'line': '001', 'date': '03/02/2018', 'tripNum': '0015', 'direction': '2', 'logicBus': '001', 'startTimeTrip': '18:02:00', 'endTimeTrip': '18:57:00', 'dayType': 'SA'}, {'line': '001', 'date': '03/02/2018', 'tripNum': '0016', 'direction': '1', 'logicBus': '001', 'startTimeTrip': '18:57:00', 'endTimeTrip': '19:50:00', 'dayType': 'SA'}, {'line': '001', 'date': '03/02/2018', 'tripNum': '0017', 'direction': '2', 'logicBus': '001', 'startTimeTrip': '19:50:00', 'endTimeTrip': '20:48:00', 'dayType': 'SA'}, {'line': '001', 'date': '03/02/2018', 'tripNum': '0018', 'direction': '1', 'logicBus': '001', 'startTimeTrip': '20:48:00', 'endTimeTrip': '21:41:00', 'dayType': 'SA'}, {'line': '001', 'date': '03/02/2018', 'tripNum': '0019', 'direction': '2', 'logicBus': '001', 'startTimeTrip': '21:41:00', 'endTimeTrip': '22:30:00', 'dayType': 'SA'}, {'line': '001', 'date': '03/02/2018', 'tripNum': '0001', 'direction': '1', 'logicBus': '002', 'startTimeTrip': '06:35:00', 'endTimeTrip': '07:20:00', 'dayType': 'SA'}, {'line': '001', 'date': '03/02/2018', 'tripNum': '0002', 'direction': '2', 'logicBus': '002', 'startTimeTrip': '07:20:00', 'endTimeTrip': '07:58:00', 'dayType': 'SA'}, {'line': '001', 'date': '03/02/2018', 'tripNum': '0003', 'direction': '1', 'logicBus': '002', 'startTimeTrip': '07:58:00', 'endTimeTrip': '08:36:00', 'dayType': 'SA'}, {'line': '001', 'date': '03/02/2018', 'tripNum': '0004', 'direction': '2', 'logicBus': '002', 'startTimeTrip': '08:36:00', 'endTimeTrip': '09:19:00', 'dayType': 'SA'}, {'line': '001', 'date': '03/02/2018', 'tripNum': '0005', 'direction': '1', 'logicBus': '002', 'startTimeTrip': '09:19:00', 'endTimeTrip': '10:10:00', 'dayType': 'SA'}, {'line': '001', 'date': '03/02/2018', 'tripNum': '0006', 'direction': '2', 'logicBus': '002', 'startTimeTrip': '10:10:00', 'endTimeTrip': '10:59:00', 'dayType': 'SA'}, {'line': '001', 'date': '03/02/2018', 'tripNum': '0007', 'direction': '1', 'logicBus': '002', 'startTimeTrip': '10:59:00', 'endTimeTrip': '11:57:00', 'dayType': 'SA'}, {'line': '001', 'date': '03/02/2018', 'tripNum': '0008', 'direction': '2', 'logicBus': '002', 'startTimeTrip': '11:57:00', 'endTimeTrip': '12:52:00', 'dayType': 'SA'}, {'line': '001', 'date': '03/02/2018', 'tripNum': '0009', 'direction': '1', 'logicBus': '002', 'startTimeTrip': '12:52:00', 'endTimeTrip': '13:43:00', 'dayType': 'SA'}, {'line': '001', 'date': '03/02/2018', 'tripNum': '0010', 'direction': '2', 'logicBus': '002', 'startTimeTrip': '13:43:00', 'endTimeTrip': '14:36:00', 'dayType': 'SA'}, {'line': '001', 'date': '03/02/2018', 'tripNum': '0011', 'direction': '1', 'logicBus': '002', 'startTimeTrip': '14:36:00', 'endTimeTrip': '15:22:00', 'dayType': 'SA'}, {'line': '001', 'date': '03/02/2018', 'tripNum': '0012', 'direction': '2', 'logicBus': '002', 'startTimeTrip': '15:22:00', 'endTimeTrip': '16:12:00', 'dayType': 'SA'}, {'line': '001', 'date': '03/02/2018', 'tripNum': '0013', 'direction': '1', 'logicBus': '002', 'startTimeTrip': '16:12:00', 'endTimeTrip': '17:00:00', 'dayType': 'SA'}, {'line': '001', 'date': '03/02/2018', 'tripNum': '0014', 'direction': '2', 'logicBus': '002', 'startTimeTrip': '17:00:00', 'endTimeTrip': '18:00:00', 'dayType': 'SA'}, {'line': '001', 'date': '03/02/2018', 'tripNum': '0015', 'direction': '1', 'logicBus': '002', 'startTimeTrip': '18:00:00', 'endTimeTrip': '18:56:00', 'dayType': 'SA'}, {'line': '001', 'date': '03/02/2018', 'tripNum': '0016', 'direction': '2', 'logicBus': '002', 'startTimeTrip': '18:56:00', 'endTimeTrip': '19:51:00', 'dayType': 'SA'}, {'line': '001', 'date': '03/02/2018', 'tripNum': '0017', 'direction': '1', 'logicBus': '002', 'startTimeTrip': '19:51:00', 'endTimeTrip': '20:45:00', 'dayType': 'SA'}, {'line': '001', 'date': '03/02/2018', 'tripNum': '0018', 'direction': '2', 'logicBus': '002', 'startTimeTrip': '20:45:00', 'endTimeTrip': '21:49:00', 'dayType': 'SA'}, {'line': '001', 'date': '03/02/2018', 'tripNum': '0019', 'direction': '1', 'logicBus': '002', 'startTimeTrip': '21:49:00', 'endTimeTrip': '22:35:00', 'dayType': 'SA'}, {'line': '001', 'date': '03/02/2018', 'tripNum': '0020', 'direction': '2', 'logicBus': '002', 'startTimeTrip': '22:35:00', 'endTimeTrip': '23:22:00', 'dayType': 'SA'}, {'line': '001', 'date': '03/02/2018', 'tripNum': '0021', 'direction': '1', 'logicBus': '002', 'startTimeTrip': '23:22:00', 'endTimeTrip': '00:00:00', 'dayType': 'SA'}, {'line': '001', 'date': '03/02/2018', 'tripNum': '0001', 'direction': '2', 'logicBus': '003', 'startTimeTrip': '06:55:00', 'endTimeTrip': '07:32:00', 'dayType': 'SA'}, {'line': '001', 'date': '03/02/2018', 'tripNum': '0002', 'direction': '1', 'logicBus': '003', 'startTimeTrip': '07:32:00', 'endTimeTrip': '08:11:00', 'dayType': 'SA'}, {'line': '001', 'date': '03/02/2018', 'tripNum': '0003', 'direction': '2', 'logicBus': '003', 'startTimeTrip': '08:11:00', 'endTimeTrip': '08:53:00', 'dayType': 'SA'}, {'line': '001', 'date': '03/02/2018', 'tripNum': '0004', 'direction': '1', 'logicBus': '003', 'startTimeTrip': '08:53:00', 'endTimeTrip': '09:37:00', 'dayType': 'SA'}, {'line': '001', 'date': '03/02/2018', 'tripNum': '0005', 'direction': '2', 'logicBus': '003', 'startTimeTrip': '09:37:00', 'endTimeTrip': '10:24:00', 'dayType': 'SA'}, {'line': '001', 'date': '03/02/2018', 'tripNum': '0006', 'direction': '1', 'logicBus': '003', 'startTimeTrip': '10:24:00', 'endTimeTrip': '11:12:00', 'dayType': 'SA'}, {'line': '001', 'date': '03/02/2018', 'tripNum': '0007', 'direction': '2', 'logicBus': '003', 'startTimeTrip': '11:12:00', 'endTimeTrip': '12:07:00', 'dayType': 'SA'}, {'line': '001', 'date': '03/02/2018', 'tripNum': '0008', 'direction': '1', 'logicBus': '003', 'startTimeTrip': '12:07:00', 'endTimeTrip': '12:57:00', 'dayType': 'SA'}, {'line': '001', 'date': '03/02/2018', 'tripNum': '0009', 'direction': '2', 'logicBus': '003', 'startTimeTrip': '12:57:00', 'endTimeTrip': '13:52:00', 'dayType': 'SA'}, {'line': '001', 'date': '03/02/2018', 'tripNum': '0010', 'direction': '1', 'logicBus': '003', 'startTimeTrip': '13:52:00', 'endTimeTrip': '14:49:00', 'dayType': 'SA'}, {'line': '001', 'date': '03/02/2018', 'tripNum': '0011', 'direction': '2', 'logicBus': '003', 'startTimeTrip': '14:49:00', 'endTimeTrip': '15:40:00', 'dayType': 'SA'}, {'line': '001', 'date': '03/02/2018', 'tripNum': '0012', 'direction': '1', 'logicBus': '003', 'startTimeTrip': '15:40:00', 'endTimeTrip': '16:26:00', 'dayType': 'SA'}, {'line': '001', 'date': '03/02/2018', 'tripNum': '0013', 'direction': '2', 'logicBus': '003', 'startTimeTrip': '16:26:00', 'endTimeTrip': '17:18:00', 'dayType': 'SA'}, {'line': '001', 'date': '03/02/2018', 'tripNum': '0014', 'direction': '1', 'logicBus': '003', 'startTimeTrip': '17:18:00', 'endTimeTrip': '18:15:00', 'dayType': 'SA'}, {'line': '001', 'date': '03/02/2018', 'tripNum': '0015', 'direction': '2', 'logicBus': '003', 'startTimeTrip': '18:15:00', 'endTimeTrip': '19:10:00', 'dayType': 'SA'}, {'line': '001', 'date': '03/02/2018', 'tripNum': '0016', 'direction': '1', 'logicBus': '003', 'startTimeTrip': '19:10:00', 'endTimeTrip': '20:03:00', 'dayType': 'SA'}, {'line': '001', 'date': '03/02/2018', 'tripNum': '0017', 'direction': '2', 'logicBus': '003', 'startTimeTrip': '20:03:00', 'endTimeTrip': '21:02:00', 'dayType': 'SA'}, {'line': '001', 'date': '03/02/2018', 'tripNum': '0018', 'direction': '1', 'logicBus': '003', 'startTimeTrip': '21:02:00', 'endTimeTrip': '21:54:00', 'dayType': 'SA'}, {'line': '001', 'date': '03/02/2018', 'tripNum': '0019', 'direction': '2', 'logicBus': '003', 'startTimeTrip': '21:54:00', 'endTimeTrip': '22:41:00', 'dayType': 'SA'}, {'line': '001', 'date': '03/02/2018', 'tripNum': '0020', 'direction': '1', 'logicBus': '003', 'startTimeTrip': '22:41:00', 'endTimeTrip': '23:22:00', 'dayType': 'SA'}, {'line': '001', 'date': '03/02/2018', 'tripNum': '0001', 'direction': '2', 'logicBus': '004', 'startTimeTrip': '08:56:00', 'endTimeTrip': '09:41:00', 'dayType': 'SA'}, {'line': '001', 'date': '03/02/2018', 'tripNum': '0002', 'direction': '1', 'logicBus': '004', 'startTimeTrip': '09:41:00', 'endTimeTrip': '10:27:00', 'dayType': 'SA'}, {'line': '001', 'date': '03/02/2018', 'tripNum': '0003', 'direction': '2', 'logicBus': '004', 'startTimeTrip': '10:27:00', 'endTimeTrip': '11:18:00', 'dayType': 'SA'}, {'line': '001', 'date': '03/02/2018', 'tripNum': '0004', 'direction': '1', 'logicBus': '004', 'startTimeTrip': '11:18:00', 'endTimeTrip': '12:12:00', 'dayType': 'SA'}, {'line': '001', 'date': '03/02/2018', 'tripNum': '0005', 'direction': '2', 'logicBus': '004', 'startTimeTrip': '12:12:00', 'endTimeTrip': '13:07:00', 'dayType': 'SA'}, {'line': '001', 'date': '03/02/2018', 'tripNum': '0006', 'direction': '1', 'logicBus': '004', 'startTimeTrip': '13:07:00', 'endTimeTrip': '14:00:00', 'dayType': 'SA'}, {'line': '001', 'date': '03/02/2018', 'tripNum': '0007', 'direction': '2', 'logicBus': '004', 'startTimeTrip': '14:00:00', 'endTimeTrip': '14:52:00', 'dayType': 'SA'}, {'line': '001', 'date': '03/02/2018', 'tripNum': '0008', 'direction': '1', 'logicBus': '004', 'startTimeTrip': '14:52:00', 'endTimeTrip': '15:38:00', 'dayType': 'SA'}, {'line': '001', 'date': '03/02/2018', 'tripNum': '0009', 'direction': '2', 'logicBus': '004', 'startTimeTrip': '15:38:00', 'endTimeTrip': '16:28:00', 'dayType': 'SA'}, {'line': '001', 'date': '03/02/2018', 'tripNum': '0010', 'direction': '1', 'logicBus': '004', 'startTimeTrip': '16:28:00', 'endTimeTrip': '17:17:00', 'dayType': 'SA'}, {'line': '001', 'date': '03/02/2018', 'tripNum': '0011', 'direction': '2', 'logicBus': '004', 'startTimeTrip': '17:17:00', 'endTimeTrip': '18:15:00', 'dayType': 'SA'}, {'line': '001', 'date': '03/02/2018', 'tripNum': '0012', 'direction': '1', 'logicBus': '004', 'startTimeTrip': '18:15:00', 'endTimeTrip': '19:09:00', 'dayType': 'SA'}, {'line': '001', 'date': '03/02/2018', 'tripNum': '0013', 'direction': '2', 'logicBus': '004', 'startTimeTrip': '19:09:00', 'endTimeTrip': '20:04:00', 'dayType': 'SA'}, {'line': '001', 'date': '03/02/2018', 'tripNum': '0014', 'direction': '1', 'logicBus': '004', 'startTimeTrip': '20:04:00', 'endTimeTrip': '20:59:00', 'dayType': 'SA'}, {'line': '001', 'date': '03/02/2018', 'tripNum': '0015', 'direction': '2', 'logicBus': '004', 'startTimeTrip': '20:59:00', 'endTimeTrip': '21:52:00', 'dayType': 'SA'}, {'line': '001', 'date': '03/02/2018', 'tripNum': '0001', 'direction': '2', 'logicBus': '005', 'startTimeTrip': '09:53:00', 'endTimeTrip': '10:41:00', 'dayType': 'SA'}, {'line': '001', 'date': '03/02/2018', 'tripNum': '0002', 'direction': '1', 'logicBus': '005', 'startTimeTrip': '10:41:00', 'endTimeTrip': '11:42:00', 'dayType': 'SA'}, {'line': '001', 'date': '03/02/2018', 'tripNum': '0003', 'direction': '2', 'logicBus': '005', 'startTimeTrip': '11:42:00', 'endTimeTrip': '12:37:00', 'dayType': 'SA'}, {'line': '001', 'date': '03/02/2018', 'tripNum': '0004', 'direction': '1', 'logicBus': '005', 'startTimeTrip': '12:37:00', 'endTimeTrip': '13:27:00', 'dayType': 'SA'}, {'line': '001', 'date': '03/02/2018', 'tripNum': '0005', 'direction': '2', 'logicBus': '005', 'startTimeTrip': '13:27:00', 'endTimeTrip': '14:20:00', 'dayType': 'SA'}, {'line': '001', 'date': '03/02/2018', 'tripNum': '0006', 'direction': '1', 'logicBus': '005', 'startTimeTrip': '14:20:00', 'endTimeTrip': '15:06:00', 'dayType': 'SA'}, {'line': '001', 'date': '03/02/2018', 'tripNum': '0007', 'direction': '2', 'logicBus': '005', 'startTimeTrip': '15:06:00', 'endTimeTrip': '15:56:00', 'dayType': 'SA'}, {'line': '001', 'date': '03/02/2018', 'tripNum': '0008', 'direction': '1', 'logicBus': '005', 'startTimeTrip': '15:56:00', 'endTimeTrip': '16:43:00', 'dayType': 'SA'}, {'line': '001', 'date': '03/02/2018', 'tripNum': '0009', 'direction': '2', 'logicBus': '005', 'startTimeTrip': '16:43:00', 'endTimeTrip': '17:46:00', 'dayType': 'SA'}, {'line': '001', 'date': '03/02/2018', 'tripNum': '0010', 'direction': '1', 'logicBus': '005', 'startTimeTrip': '17:46:00', 'endTimeTrip': '18:42:00', 'dayType': 'SA'}, {'line': '001', 'date': '03/02/2018', 'tripNum': '0011', 'direction': '2', 'logicBus': '005', 'startTimeTrip': '18:42:00', 'endTimeTrip': '19:37:00', 'dayType': 'SA'}, {'line': '001', 'date': '03/02/2018', 'tripNum': '0012', 'direction': '1', 'logicBus': '005', 'startTimeTrip': '19:37:00', 'endTimeTrip': '20:31:00', 'dayType': 'SA'}, {'line': '001', 'date': '03/02/2018', 'tripNum': '0013', 'direction': '2', 'logicBus': '005', 'startTimeTrip': '20:31:00', 'endTimeTrip': '21:33:00', 'dayType': 'SA'}, {'line': '001', 'date': '03/02/2018', 'tripNum': '0014', 'direction': '1', 'logicBus': '005', 'startTimeTrip': '21:33:00', 'endTimeTrip': '22:21:00', 'dayType': 'SA'}, {'line': '001', 'date': '03/02/2018', 'tripNum': '0001', 'direction': '2', 'logicBus': '006', 'startTimeTrip': '10:42:00', 'endTimeTrip': '11:35:00', 'dayType': 'SA'}, {'line': '001', 'date': '03/02/2018', 'tripNum': '0002', 'direction': '1', 'logicBus': '006', 'startTimeTrip': '11:35:00', 'endTimeTrip': '12:27:00', 'dayType': 'SA'}, {'line': '001', 'date': '03/02/2018', 'tripNum': '0003', 'direction': '2', 'logicBus': '006', 'startTimeTrip': '12:27:00', 'endTimeTrip': '13:22:00', 'dayType': 'SA'}, {'line': '001', 'date': '03/02/2018', 'tripNum': '0004', 'direction': '1', 'logicBus': '006', 'startTimeTrip': '13:22:00', 'endTimeTrip': '14:16:00', 'dayType': 'SA'}, {'line': '001', 'date': '03/02/2018', 'tripNum': '0005', 'direction': '2', 'logicBus': '006', 'startTimeTrip': '14:16:00', 'endTimeTrip': '15:08:00', 'dayType': 'SA'}, {'line': '001', 'date': '03/02/2018', 'tripNum': '0006', 'direction': '1', 'logicBus': '006', 'startTimeTrip': '15:08:00', 'endTimeTrip': '15:54:00', 'dayType': 'SA'}, {'line': '001', 'date': '03/02/2018', 'tripNum': '0007', 'direction': '2', 'logicBus': '006', 'startTimeTrip': '15:54:00', 'endTimeTrip': '16:44:00', 'dayType': 'SA'}, {'line': '001', 'date': '03/02/2018', 'tripNum': '0008', 'direction': '1', 'logicBus': '006', 'startTimeTrip': '16:44:00', 'endTimeTrip': '17:35:00', 'dayType': 'SA'}, {'line': '001', 'date': '03/02/2018', 'tripNum': '0009', 'direction': '2', 'logicBus': '006', 'startTimeTrip': '17:35:00', 'endTimeTrip': '18:30:00', 'dayType': 'SA'}, {'line': '001', 'date': '03/02/2018', 'tripNum': '0010', 'direction': '1', 'logicBus': '006', 'startTimeTrip': '18:30:00', 'endTimeTrip': '19:23:00', 'dayType': 'SA'}, {'line': '001', 'date': '03/02/2018', 'tripNum': '0011', 'direction': '2', 'logicBus': '006', 'startTimeTrip': '19:23:00', 'endTimeTrip': '20:18:00', 'dayType': 'SA'}, {'line': '001', 'date': '03/02/2018', 'tripNum': '0012', 'direction': '1', 'logicBus': '006', 'startTimeTrip': '20:18:00', 'endTimeTrip': '21:13:00', 'dayType': 'SA'}, {'line': '001', 'date': '03/02/2018', 'tripNum': '0013', 'direction': '2', 'logicBus': '006', 'startTimeTrip': '21:13:00', 'endTimeTrip': '22:06:00', 'dayType': 'SA'}, {'line': '001', 'date': '03/02/2018', 'tripNum': '0014', 'direction': '1', 'logicBus': '006', 'startTimeTrip': '22:06:00', 'endTimeTrip': '22:55:00', 'dayType': 'SA'}, {'line': '001', 'date': '03/02/2018', 'tripNum': '0015', 'direction': '2', 'logicBus': '006', 'startTimeTrip': '22:55:00', 'endTimeTrip': '23:45:00', 'dayType': 'SA'}, {'line': '001', 'date': '03/02/2018', 'tripNum': '0016', 'direction': '1', 'logicBus': '006', 'startTimeTrip': '23:45:00', 'endTimeTrip': '00:23:00', 'dayType': 'SA'}, {'line': '001', 'date': '03/02/2018', 'tripNum': '0001', 'direction': '2', 'logicBus': '007', 'startTimeTrip': '11:27:00', 'endTimeTrip': '12:22:00', 'dayType': 'SA'}, {'line': '001', 'date': '03/02/2018', 'tripNum': '0002', 'direction': '1', 'logicBus': '007', 'startTimeTrip': '12:22:00', 'endTimeTrip': '13:12:00', 'dayType': 'SA'}, {'line': '001', 'date': '03/02/2018', 'tripNum': '0003', 'direction': '2', 'logicBus': '007', 'startTimeTrip': '13:12:00', 'endTimeTrip': '14:06:00', 'dayType': 'SA'}, {'line': '001', 'date': '03/02/2018', 'tripNum': '0004', 'direction': '1', 'logicBus': '007', 'startTimeTrip': '14:06:00', 'endTimeTrip': '14:52:00', 'dayType': 'SA'}, {'line': '001', 'date': '03/02/2018', 'tripNum': '0005', 'direction': '2', 'logicBus': '007', 'startTimeTrip': '17:48:00', 'endTimeTrip': '18:43:00', 'dayType': 'SA'}, {'line': '001', 'date': '03/02/2018', 'tripNum': '0006', 'direction': '1', 'logicBus': '007', 'startTimeTrip': '18:43:00', 'endTimeTrip': '19:36:00', 'dayType': 'SA'}, {'line': '001', 'date': '03/02/2018', 'tripNum': '0007', 'direction': '2', 'logicBus': '007', 'startTimeTrip': '19:36:00', 'endTimeTrip': '20:33:00', 'dayType': 'SA'}, {'line': '001', 'date': '03/02/2018', 'tripNum': '0008', 'direction': '1', 'logicBus': '007', 'startTimeTrip': '20:33:00', 'endTimeTrip': '21:27:00', 'dayType': 'SA'}, {'line': '001', 'date': '03/02/2018', 'tripNum': '0009', 'direction': '2', 'logicBus': '007', 'startTimeTrip': '21:27:00', 'endTimeTrip': '22:23:00', 'dayType': 'SA'}, {'line': '001', 'date': '03/02/2018', 'tripNum': '0010', 'direction': '1', 'logicBus': '007', 'startTimeTrip': '22:23:00', 'endTimeTrip': '23:15:00', 'dayType': 'SA'}, {'line': '001', 'date': '03/02/2018', 'tripNum': '0011', 'direction': '2', 'logicBus': '007', 'startTimeTrip': '23:15:00', 'endTimeTrip': '23:53:00', 'dayType': 'SA'}, {'line': '001', 'date': '03/02/2018', 'tripNum': '0001', 'direction': '1', 'logicBus': '008', 'startTimeTrip': '17:32:00', 'endTimeTrip': '18:29:00', 'dayType': 'SA'}, {'line': '001', 'date': '03/02/2018', 'tripNum': '0002', 'direction': '2', 'logicBus': '008', 'startTimeTrip': '18:29:00', 'endTimeTrip': '19:24:00', 'dayType': 'SA'}, {'line': '001', 'date': '03/02/2018', 'tripNum': '0003', 'direction': '1', 'logicBus': '008', 'startTimeTrip': '19:24:00', 'endTimeTrip': '20:17:00', 'dayType': 'SA'}, {'line': '001', 'date': '03/02/2018', 'tripNum': '0004', 'direction': '2', 'logicBus': '008', 'startTimeTrip': '20:17:00', 'endTimeTrip': '21:17:00', 'dayType': 'SA'}, {'line': '001', 'date': '03/02/2018', 'tripNum': '0005', 'direction': '1', 'logicBus': '008', 'startTimeTrip': '21:17:00', 'endTimeTrip': '22:14:00', 'dayType': 'SA'}, {'line': '001', 'date': '03/02/2018', 'tripNum': '0006', 'direction': '2', 'logicBus': '008', 'startTimeTrip': '22:14:00', 'endTimeTrip': '23:00:00', 'dayType': 'SA'}, {'line': '001', 'date': '03/02/2018', 'tripNum': '0007', 'direction': '1', 'logicBus': '008', 'startTimeTrip': '23:00:00', 'endTimeTrip': '23:38:00', 'dayType': 'SA'}]\n"
     ]
    }
   ],
   "source": [
    "print(parsed)"
   ]
  }
 ],
 "metadata": {
  "kernelspec": {
   "display_name": "Python 3",
   "language": "python",
   "name": "python3"
  },
  "language_info": {
   "codemirror_mode": {
    "name": "ipython",
    "version": 3
   },
   "file_extension": ".py",
   "mimetype": "text/x-python",
   "name": "python",
   "nbconvert_exporter": "python",
   "pygments_lexer": "ipython3",
   "version": "3.7.4"
  }
 },
 "nbformat": 4,
 "nbformat_minor": 4
}
